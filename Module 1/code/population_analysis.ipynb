{
 "cells": [
  {
   "cell_type": "markdown",
   "id": "466e1ef1-3147-48e5-a4e2-00e54dbef39d",
   "metadata": {},
   "source": [
    "# Population Analysis"
   ]
  },
  {
   "cell_type": "code",
   "execution_count": 1,
   "id": "3e5b4dbb-aac1-4bef-9ceb-7cb2ff90a8dc",
   "metadata": {},
   "outputs": [],
   "source": [
    "import pandas as pd"
   ]
  },
  {
   "cell_type": "code",
   "execution_count": 2,
   "id": "46601cf5-a96a-4c6d-a0fd-94450f016494",
   "metadata": {},
   "outputs": [],
   "source": [
    "url = \"https://dlai-lc-dag.s3.us-east-2.amazonaws.com/countries_and_pet_population.html\""
   ]
  },
  {
   "cell_type": "code",
   "execution_count": 4,
   "id": "ed98a77d-246c-4619-b89c-adea08c707ee",
   "metadata": {},
   "outputs": [],
   "source": [
    "tables = pd.read_html(url) # list of tables"
   ]
  },
  {
   "cell_type": "code",
   "execution_count": 5,
   "id": "748f0033-1607-4bcd-be64-ed1431fa8683",
   "metadata": {},
   "outputs": [
    {
     "data": {
      "text/plain": [
       "list"
      ]
     },
     "execution_count": 5,
     "metadata": {},
     "output_type": "execute_result"
    }
   ],
   "source": [
    "type(tables)"
   ]
  },
  {
   "cell_type": "code",
   "execution_count": 6,
   "id": "3c13eda8-ea08-4467-881d-4c6e0dccc69d",
   "metadata": {},
   "outputs": [
    {
     "data": {
      "text/plain": [
       "1"
      ]
     },
     "execution_count": 6,
     "metadata": {},
     "output_type": "execute_result"
    }
   ],
   "source": [
    "len(tables)"
   ]
  },
  {
   "cell_type": "code",
   "execution_count": 7,
   "id": "4ab6f7f3-4e4f-4589-b172-0767c86b0330",
   "metadata": {},
   "outputs": [
    {
     "data": {
      "text/plain": [
       "pandas.core.frame.DataFrame"
      ]
     },
     "execution_count": 7,
     "metadata": {},
     "output_type": "execute_result"
    }
   ],
   "source": [
    "type(tables[0])"
   ]
  },
  {
   "cell_type": "code",
   "execution_count": 8,
   "id": "2d3ad122-b443-4c8c-b20d-893a5124cca2",
   "metadata": {},
   "outputs": [
    {
     "data": {
      "text/html": [
       "<div>\n",
       "<style scoped>\n",
       "    .dataframe tbody tr th:only-of-type {\n",
       "        vertical-align: middle;\n",
       "    }\n",
       "\n",
       "    .dataframe tbody tr th {\n",
       "        vertical-align: top;\n",
       "    }\n",
       "\n",
       "    .dataframe thead th {\n",
       "        text-align: right;\n",
       "    }\n",
       "</style>\n",
       "<table border=\"1\" class=\"dataframe\">\n",
       "  <thead>\n",
       "    <tr style=\"text-align: right;\">\n",
       "      <th></th>\n",
       "      <th>Country</th>\n",
       "      <th>Population 2022</th>\n",
       "      <th>Population 2023</th>\n",
       "      <th>Change %</th>\n",
       "      <th>Region</th>\n",
       "      <th>Official Language</th>\n",
       "      <th>Dog Population</th>\n",
       "      <th>Cat Population</th>\n",
       "      <th>Bird Population</th>\n",
       "      <th>Aquaria Population</th>\n",
       "      <th>Small Mammal Population</th>\n",
       "      <th>Terraria Population</th>\n",
       "    </tr>\n",
       "  </thead>\n",
       "  <tbody>\n",
       "    <tr>\n",
       "      <th>0</th>\n",
       "      <td>World</td>\n",
       "      <td>8021407192</td>\n",
       "      <td>8091734930</td>\n",
       "      <td>+0.88%</td>\n",
       "      <td>WRLD - World</td>\n",
       "      <td>NaN</td>\n",
       "      <td>NaN</td>\n",
       "      <td>NaN</td>\n",
       "      <td>NaN</td>\n",
       "      <td>NaN</td>\n",
       "      <td>NaN</td>\n",
       "      <td>NaN</td>\n",
       "    </tr>\n",
       "    <tr>\n",
       "      <th>1</th>\n",
       "      <td>India</td>\n",
       "      <td>1425423212</td>\n",
       "      <td>1438069596</td>\n",
       "      <td>+0.89%</td>\n",
       "      <td>ASIA - South</td>\n",
       "      <td>Hindi, English</td>\n",
       "      <td>10200000.0</td>\n",
       "      <td>NaN</td>\n",
       "      <td>NaN</td>\n",
       "      <td>NaN</td>\n",
       "      <td>NaN</td>\n",
       "      <td>NaN</td>\n",
       "    </tr>\n",
       "    <tr>\n",
       "      <th>2</th>\n",
       "      <td>China [a]</td>\n",
       "      <td>1425179569</td>\n",
       "      <td>1422584933</td>\n",
       "      <td>-0.18%</td>\n",
       "      <td>ASIA - East</td>\n",
       "      <td>Standard Chinese</td>\n",
       "      <td>27400000.0</td>\n",
       "      <td>53100000.0</td>\n",
       "      <td>NaN</td>\n",
       "      <td>NaN</td>\n",
       "      <td>NaN</td>\n",
       "      <td>NaN</td>\n",
       "    </tr>\n",
       "    <tr>\n",
       "      <th>3</th>\n",
       "      <td>United States</td>\n",
       "      <td>341534046</td>\n",
       "      <td>343477335</td>\n",
       "      <td>+0.57%</td>\n",
       "      <td>AMER - North</td>\n",
       "      <td>English</td>\n",
       "      <td>69929000.0</td>\n",
       "      <td>74059000.0</td>\n",
       "      <td>8300000.0</td>\n",
       "      <td>NaN</td>\n",
       "      <td>NaN</td>\n",
       "      <td>NaN</td>\n",
       "    </tr>\n",
       "    <tr>\n",
       "      <th>4</th>\n",
       "      <td>Indonesia</td>\n",
       "      <td>278830529</td>\n",
       "      <td>281190067</td>\n",
       "      <td>+0.85%</td>\n",
       "      <td>ASIA - Southeast</td>\n",
       "      <td>Indonesian</td>\n",
       "      <td>NaN</td>\n",
       "      <td>NaN</td>\n",
       "      <td>NaN</td>\n",
       "      <td>NaN</td>\n",
       "      <td>NaN</td>\n",
       "      <td>NaN</td>\n",
       "    </tr>\n",
       "  </tbody>\n",
       "</table>\n",
       "</div>"
      ],
      "text/plain": [
       "         Country  Population 2022  Population 2023 Change %            Region  \\\n",
       "0          World       8021407192       8091734930   +0.88%      WRLD - World   \n",
       "1          India       1425423212       1438069596   +0.89%      ASIA - South   \n",
       "2      China [a]       1425179569       1422584933   -0.18%       ASIA - East   \n",
       "3  United States        341534046        343477335   +0.57%      AMER - North   \n",
       "4      Indonesia        278830529        281190067   +0.85%  ASIA - Southeast   \n",
       "\n",
       "  Official Language  Dog Population  Cat Population  Bird Population  \\\n",
       "0               NaN             NaN             NaN              NaN   \n",
       "1    Hindi, English      10200000.0             NaN              NaN   \n",
       "2  Standard Chinese      27400000.0      53100000.0              NaN   \n",
       "3           English      69929000.0      74059000.0        8300000.0   \n",
       "4        Indonesian             NaN             NaN              NaN   \n",
       "\n",
       "   Aquaria Population  Small Mammal Population  Terraria Population  \n",
       "0                 NaN                      NaN                  NaN  \n",
       "1                 NaN                      NaN                  NaN  \n",
       "2                 NaN                      NaN                  NaN  \n",
       "3                 NaN                      NaN                  NaN  \n",
       "4                 NaN                      NaN                  NaN  "
      ]
     },
     "execution_count": 8,
     "metadata": {},
     "output_type": "execute_result"
    }
   ],
   "source": [
    "tables[0].head()"
   ]
  },
  {
   "cell_type": "code",
   "execution_count": 9,
   "id": "addf7e07-744c-419c-88aa-ddfd72ea1b8b",
   "metadata": {},
   "outputs": [],
   "source": [
    "df = tables[0]"
   ]
  },
  {
   "cell_type": "code",
   "execution_count": 10,
   "id": "38973717-889b-4fdd-b2c8-494e9f005ac0",
   "metadata": {},
   "outputs": [
    {
     "name": "stdout",
     "output_type": "stream",
     "text": [
      "<class 'pandas.core.frame.DataFrame'>\n",
      "RangeIndex: 238 entries, 0 to 237\n",
      "Data columns (total 12 columns):\n",
      " #   Column                   Non-Null Count  Dtype  \n",
      "---  ------                   --------------  -----  \n",
      " 0   Country                  238 non-null    object \n",
      " 1   Population 2022          238 non-null    int64  \n",
      " 2   Population 2023          238 non-null    int64  \n",
      " 3   Change %                 238 non-null    object \n",
      " 4   Region                   238 non-null    object \n",
      " 5   Official Language        191 non-null    object \n",
      " 6   Dog Population           38 non-null     float64\n",
      " 7   Cat Population           35 non-null     float64\n",
      " 8   Bird Population          32 non-null     float64\n",
      " 9   Aquaria Population       29 non-null     float64\n",
      " 10  Small Mammal Population  29 non-null     float64\n",
      " 11  Terraria Population      27 non-null     float64\n",
      "dtypes: float64(6), int64(2), object(4)\n",
      "memory usage: 22.4+ KB\n"
     ]
    }
   ],
   "source": [
    "df.info()"
   ]
  },
  {
   "cell_type": "code",
   "execution_count": 11,
   "id": "4db1764f-6368-429f-aa9f-e7e58d5c0ed1",
   "metadata": {},
   "outputs": [
    {
     "data": {
      "text/plain": [
       "0.15966386554621848"
      ]
     },
     "execution_count": 11,
     "metadata": {},
     "output_type": "execute_result"
    }
   ],
   "source": [
    "38 / 238"
   ]
  },
  {
   "cell_type": "code",
   "execution_count": 12,
   "id": "8194aa8a-7b74-4a30-85a4-08e213ed4cda",
   "metadata": {},
   "outputs": [
    {
     "ename": "TypeError",
     "evalue": "Could not convert string '+0.88%+0.89%-0.18%+0.57%+0.85%+1.56%+2.12%+0.40%+1.23%-0.10%+0.88%+2.64%-0.50%+0.81%+1.70%+3.31%+0.67%+1.21%+0.24%+0.55%-0.05%+0.74%+2.95%+0.24%+1.34%-0.20%+2.00%+0.70%+1.13%-0.07%+1.34%+2.84%+0.17%+1.51%+0.29%+2.28%+2.16%+3.06%+1.23%+0.98%-8.08%+1.03%+3.13%+2.04%+1.24%+1.11%+1.93%+3.00%+0.28%+2.49%+2.54%+0.84%+2.68%+0.31%+0.95%+0.34%+3.35%+3.02%+5.04%-0.44%+2.30%+0.60%+2.60%+2.83%+1.47%+0.54%+4.68%-0.25%+3.13%+1.55%+2.42%+1.05%+0.88%+1.29%+1.69%+2.49%+2.55%+2.22%+2.77%+1.38%+0.67%+0.61%+1.16%+4.19%+1.63%+0.90%-0.36%+1.28%+1.73%+3.91%+0.61%+0.13%+2.04%+1.83%+0.22%-1.63%-2.79%+2.36%+1.68%+0.73%-0.63%+0.89%+2.22%+1.40%-0.31%+1.86%+1.13%+1.69%+1.24%+1.38%-0.44%-0.27%+0.47%+2.45%+0.77%+2.46%-0.19%+0.57%+1.12%+0.82%+2.23%+1.96%+1.69%+0.80%+1.07%+0.47%+6.74%+3.01%+5.43%+1.32%-0.28%+0.33%+1.79%+1.36%-0.08%+0.03%-0.62%+0.89%+2.99%+2.54%+2.17%+1.32%+0.02%-0.56%+2.33%+2.22%+1.65%+1.11%+2.27%+0.15%+0.07%+2.44%-0.46%-1.04%+2.36%+0.47%+1.09%+1.27%+1.02%-0.20%+0.95%+1.39%+0.51%+0.38%+1.94%+0.57%+2.42%+0.70%+1.36%+1.80%+3.08%+0.92%+1.93%+0.90%+0.36%+0.50%+0.79%+2.08%+0.48%+1.89%-2.13%-0.99%+2.35%+3.52%+1.71%+0.96%-2.07%+0.26%+2.02%+0.65%+0.04%+0.28%+0.80%+1.58%+1.94%+0.14%+0.46%-0.42%+0.15%+0.18%-0.71%+0.51%-0.93%+0.04%+1.44%+2.02%-0.47%-0.08%+0.46%+1.69%+1.30%-1.70%+0.10%+0.77%-2.03%+1.45%+0.71%+1.74%+0.06%+2.29%-3.12%-1.05%+4.44%-4.69%-0.18%+1.62%-3.40%+0.63%-0.94%+1.51%-1.76%-0.89%-1.01%-0.74%-0.37%+4.67%-0.22%-1.78%' to numeric",
     "output_type": "error",
     "traceback": [
      "\u001b[0;31m---------------------------------------------------------------------------\u001b[0m",
      "\u001b[0;31mTypeError\u001b[0m                                 Traceback (most recent call last)",
      "Cell \u001b[0;32mIn[12], line 1\u001b[0m\n\u001b[0;32m----> 1\u001b[0m \u001b[43mdf\u001b[49m\u001b[43m[\u001b[49m\u001b[38;5;124;43m\"\u001b[39;49m\u001b[38;5;124;43mChange \u001b[39;49m\u001b[38;5;124;43m%\u001b[39;49m\u001b[38;5;124;43m\"\u001b[39;49m\u001b[43m]\u001b[49m\u001b[38;5;241;43m.\u001b[39;49m\u001b[43mmean\u001b[49m\u001b[43m(\u001b[49m\u001b[43m)\u001b[49m\n",
      "File \u001b[0;32m/opt/conda/lib/python3.11/site-packages/pandas/core/series.py:6549\u001b[0m, in \u001b[0;36mSeries.mean\u001b[0;34m(self, axis, skipna, numeric_only, **kwargs)\u001b[0m\n\u001b[1;32m   6541\u001b[0m \u001b[38;5;129m@doc\u001b[39m(make_doc(\u001b[38;5;124m\"\u001b[39m\u001b[38;5;124mmean\u001b[39m\u001b[38;5;124m\"\u001b[39m, ndim\u001b[38;5;241m=\u001b[39m\u001b[38;5;241m1\u001b[39m))\n\u001b[1;32m   6542\u001b[0m \u001b[38;5;28;01mdef\u001b[39;00m \u001b[38;5;21mmean\u001b[39m(\n\u001b[1;32m   6543\u001b[0m     \u001b[38;5;28mself\u001b[39m,\n\u001b[0;32m   (...)\u001b[0m\n\u001b[1;32m   6547\u001b[0m     \u001b[38;5;241m*\u001b[39m\u001b[38;5;241m*\u001b[39mkwargs,\n\u001b[1;32m   6548\u001b[0m ):\n\u001b[0;32m-> 6549\u001b[0m     \u001b[38;5;28;01mreturn\u001b[39;00m \u001b[43mNDFrame\u001b[49m\u001b[38;5;241;43m.\u001b[39;49m\u001b[43mmean\u001b[49m\u001b[43m(\u001b[49m\u001b[38;5;28;43mself\u001b[39;49m\u001b[43m,\u001b[49m\u001b[43m \u001b[49m\u001b[43maxis\u001b[49m\u001b[43m,\u001b[49m\u001b[43m \u001b[49m\u001b[43mskipna\u001b[49m\u001b[43m,\u001b[49m\u001b[43m \u001b[49m\u001b[43mnumeric_only\u001b[49m\u001b[43m,\u001b[49m\u001b[43m \u001b[49m\u001b[38;5;241;43m*\u001b[39;49m\u001b[38;5;241;43m*\u001b[39;49m\u001b[43mkwargs\u001b[49m\u001b[43m)\u001b[49m\n",
      "File \u001b[0;32m/opt/conda/lib/python3.11/site-packages/pandas/core/generic.py:12420\u001b[0m, in \u001b[0;36mNDFrame.mean\u001b[0;34m(self, axis, skipna, numeric_only, **kwargs)\u001b[0m\n\u001b[1;32m  12413\u001b[0m \u001b[38;5;28;01mdef\u001b[39;00m \u001b[38;5;21mmean\u001b[39m(\n\u001b[1;32m  12414\u001b[0m     \u001b[38;5;28mself\u001b[39m,\n\u001b[1;32m  12415\u001b[0m     axis: Axis \u001b[38;5;241m|\u001b[39m \u001b[38;5;28;01mNone\u001b[39;00m \u001b[38;5;241m=\u001b[39m \u001b[38;5;241m0\u001b[39m,\n\u001b[0;32m   (...)\u001b[0m\n\u001b[1;32m  12418\u001b[0m     \u001b[38;5;241m*\u001b[39m\u001b[38;5;241m*\u001b[39mkwargs,\n\u001b[1;32m  12419\u001b[0m ) \u001b[38;5;241m-\u001b[39m\u001b[38;5;241m>\u001b[39m Series \u001b[38;5;241m|\u001b[39m \u001b[38;5;28mfloat\u001b[39m:\n\u001b[0;32m> 12420\u001b[0m     \u001b[38;5;28;01mreturn\u001b[39;00m \u001b[38;5;28;43mself\u001b[39;49m\u001b[38;5;241;43m.\u001b[39;49m\u001b[43m_stat_function\u001b[49m\u001b[43m(\u001b[49m\n\u001b[1;32m  12421\u001b[0m \u001b[43m        \u001b[49m\u001b[38;5;124;43m\"\u001b[39;49m\u001b[38;5;124;43mmean\u001b[39;49m\u001b[38;5;124;43m\"\u001b[39;49m\u001b[43m,\u001b[49m\u001b[43m \u001b[49m\u001b[43mnanops\u001b[49m\u001b[38;5;241;43m.\u001b[39;49m\u001b[43mnanmean\u001b[49m\u001b[43m,\u001b[49m\u001b[43m \u001b[49m\u001b[43maxis\u001b[49m\u001b[43m,\u001b[49m\u001b[43m \u001b[49m\u001b[43mskipna\u001b[49m\u001b[43m,\u001b[49m\u001b[43m \u001b[49m\u001b[43mnumeric_only\u001b[49m\u001b[43m,\u001b[49m\u001b[43m \u001b[49m\u001b[38;5;241;43m*\u001b[39;49m\u001b[38;5;241;43m*\u001b[39;49m\u001b[43mkwargs\u001b[49m\n\u001b[1;32m  12422\u001b[0m \u001b[43m    \u001b[49m\u001b[43m)\u001b[49m\n",
      "File \u001b[0;32m/opt/conda/lib/python3.11/site-packages/pandas/core/generic.py:12377\u001b[0m, in \u001b[0;36mNDFrame._stat_function\u001b[0;34m(self, name, func, axis, skipna, numeric_only, **kwargs)\u001b[0m\n\u001b[1;32m  12373\u001b[0m nv\u001b[38;5;241m.\u001b[39mvalidate_func(name, (), kwargs)\n\u001b[1;32m  12375\u001b[0m validate_bool_kwarg(skipna, \u001b[38;5;124m\"\u001b[39m\u001b[38;5;124mskipna\u001b[39m\u001b[38;5;124m\"\u001b[39m, none_allowed\u001b[38;5;241m=\u001b[39m\u001b[38;5;28;01mFalse\u001b[39;00m)\n\u001b[0;32m> 12377\u001b[0m \u001b[38;5;28;01mreturn\u001b[39;00m \u001b[38;5;28;43mself\u001b[39;49m\u001b[38;5;241;43m.\u001b[39;49m\u001b[43m_reduce\u001b[49m\u001b[43m(\u001b[49m\n\u001b[1;32m  12378\u001b[0m \u001b[43m    \u001b[49m\u001b[43mfunc\u001b[49m\u001b[43m,\u001b[49m\u001b[43m \u001b[49m\u001b[43mname\u001b[49m\u001b[38;5;241;43m=\u001b[39;49m\u001b[43mname\u001b[49m\u001b[43m,\u001b[49m\u001b[43m \u001b[49m\u001b[43maxis\u001b[49m\u001b[38;5;241;43m=\u001b[39;49m\u001b[43maxis\u001b[49m\u001b[43m,\u001b[49m\u001b[43m \u001b[49m\u001b[43mskipna\u001b[49m\u001b[38;5;241;43m=\u001b[39;49m\u001b[43mskipna\u001b[49m\u001b[43m,\u001b[49m\u001b[43m \u001b[49m\u001b[43mnumeric_only\u001b[49m\u001b[38;5;241;43m=\u001b[39;49m\u001b[43mnumeric_only\u001b[49m\n\u001b[1;32m  12379\u001b[0m \u001b[43m\u001b[49m\u001b[43m)\u001b[49m\n",
      "File \u001b[0;32m/opt/conda/lib/python3.11/site-packages/pandas/core/series.py:6457\u001b[0m, in \u001b[0;36mSeries._reduce\u001b[0;34m(self, op, name, axis, skipna, numeric_only, filter_type, **kwds)\u001b[0m\n\u001b[1;32m   6452\u001b[0m     \u001b[38;5;66;03m# GH#47500 - change to TypeError to match other methods\u001b[39;00m\n\u001b[1;32m   6453\u001b[0m     \u001b[38;5;28;01mraise\u001b[39;00m \u001b[38;5;167;01mTypeError\u001b[39;00m(\n\u001b[1;32m   6454\u001b[0m         \u001b[38;5;124mf\u001b[39m\u001b[38;5;124m\"\u001b[39m\u001b[38;5;124mSeries.\u001b[39m\u001b[38;5;132;01m{\u001b[39;00mname\u001b[38;5;132;01m}\u001b[39;00m\u001b[38;5;124m does not allow \u001b[39m\u001b[38;5;132;01m{\u001b[39;00mkwd_name\u001b[38;5;132;01m}\u001b[39;00m\u001b[38;5;124m=\u001b[39m\u001b[38;5;132;01m{\u001b[39;00mnumeric_only\u001b[38;5;132;01m}\u001b[39;00m\u001b[38;5;124m \u001b[39m\u001b[38;5;124m\"\u001b[39m\n\u001b[1;32m   6455\u001b[0m         \u001b[38;5;124m\"\u001b[39m\u001b[38;5;124mwith non-numeric dtypes.\u001b[39m\u001b[38;5;124m\"\u001b[39m\n\u001b[1;32m   6456\u001b[0m     )\n\u001b[0;32m-> 6457\u001b[0m \u001b[38;5;28;01mreturn\u001b[39;00m \u001b[43mop\u001b[49m\u001b[43m(\u001b[49m\u001b[43mdelegate\u001b[49m\u001b[43m,\u001b[49m\u001b[43m \u001b[49m\u001b[43mskipna\u001b[49m\u001b[38;5;241;43m=\u001b[39;49m\u001b[43mskipna\u001b[49m\u001b[43m,\u001b[49m\u001b[43m \u001b[49m\u001b[38;5;241;43m*\u001b[39;49m\u001b[38;5;241;43m*\u001b[39;49m\u001b[43mkwds\u001b[49m\u001b[43m)\u001b[49m\n",
      "File \u001b[0;32m/opt/conda/lib/python3.11/site-packages/pandas/core/nanops.py:147\u001b[0m, in \u001b[0;36mbottleneck_switch.__call__.<locals>.f\u001b[0;34m(values, axis, skipna, **kwds)\u001b[0m\n\u001b[1;32m    145\u001b[0m         result \u001b[38;5;241m=\u001b[39m alt(values, axis\u001b[38;5;241m=\u001b[39maxis, skipna\u001b[38;5;241m=\u001b[39mskipna, \u001b[38;5;241m*\u001b[39m\u001b[38;5;241m*\u001b[39mkwds)\n\u001b[1;32m    146\u001b[0m \u001b[38;5;28;01melse\u001b[39;00m:\n\u001b[0;32m--> 147\u001b[0m     result \u001b[38;5;241m=\u001b[39m \u001b[43malt\u001b[49m\u001b[43m(\u001b[49m\u001b[43mvalues\u001b[49m\u001b[43m,\u001b[49m\u001b[43m \u001b[49m\u001b[43maxis\u001b[49m\u001b[38;5;241;43m=\u001b[39;49m\u001b[43maxis\u001b[49m\u001b[43m,\u001b[49m\u001b[43m \u001b[49m\u001b[43mskipna\u001b[49m\u001b[38;5;241;43m=\u001b[39;49m\u001b[43mskipna\u001b[49m\u001b[43m,\u001b[49m\u001b[43m \u001b[49m\u001b[38;5;241;43m*\u001b[39;49m\u001b[38;5;241;43m*\u001b[39;49m\u001b[43mkwds\u001b[49m\u001b[43m)\u001b[49m\n\u001b[1;32m    149\u001b[0m \u001b[38;5;28;01mreturn\u001b[39;00m result\n",
      "File \u001b[0;32m/opt/conda/lib/python3.11/site-packages/pandas/core/nanops.py:404\u001b[0m, in \u001b[0;36m_datetimelike_compat.<locals>.new_func\u001b[0;34m(values, axis, skipna, mask, **kwargs)\u001b[0m\n\u001b[1;32m    401\u001b[0m \u001b[38;5;28;01mif\u001b[39;00m datetimelike \u001b[38;5;129;01mand\u001b[39;00m mask \u001b[38;5;129;01mis\u001b[39;00m \u001b[38;5;28;01mNone\u001b[39;00m:\n\u001b[1;32m    402\u001b[0m     mask \u001b[38;5;241m=\u001b[39m isna(values)\n\u001b[0;32m--> 404\u001b[0m result \u001b[38;5;241m=\u001b[39m \u001b[43mfunc\u001b[49m\u001b[43m(\u001b[49m\u001b[43mvalues\u001b[49m\u001b[43m,\u001b[49m\u001b[43m \u001b[49m\u001b[43maxis\u001b[49m\u001b[38;5;241;43m=\u001b[39;49m\u001b[43maxis\u001b[49m\u001b[43m,\u001b[49m\u001b[43m \u001b[49m\u001b[43mskipna\u001b[49m\u001b[38;5;241;43m=\u001b[39;49m\u001b[43mskipna\u001b[49m\u001b[43m,\u001b[49m\u001b[43m \u001b[49m\u001b[43mmask\u001b[49m\u001b[38;5;241;43m=\u001b[39;49m\u001b[43mmask\u001b[49m\u001b[43m,\u001b[49m\u001b[43m \u001b[49m\u001b[38;5;241;43m*\u001b[39;49m\u001b[38;5;241;43m*\u001b[39;49m\u001b[43mkwargs\u001b[49m\u001b[43m)\u001b[49m\n\u001b[1;32m    406\u001b[0m \u001b[38;5;28;01mif\u001b[39;00m datetimelike:\n\u001b[1;32m    407\u001b[0m     result \u001b[38;5;241m=\u001b[39m _wrap_results(result, orig_values\u001b[38;5;241m.\u001b[39mdtype, fill_value\u001b[38;5;241m=\u001b[39miNaT)\n",
      "File \u001b[0;32m/opt/conda/lib/python3.11/site-packages/pandas/core/nanops.py:720\u001b[0m, in \u001b[0;36mnanmean\u001b[0;34m(values, axis, skipna, mask)\u001b[0m\n\u001b[1;32m    718\u001b[0m count \u001b[38;5;241m=\u001b[39m _get_counts(values\u001b[38;5;241m.\u001b[39mshape, mask, axis, dtype\u001b[38;5;241m=\u001b[39mdtype_count)\n\u001b[1;32m    719\u001b[0m the_sum \u001b[38;5;241m=\u001b[39m values\u001b[38;5;241m.\u001b[39msum(axis, dtype\u001b[38;5;241m=\u001b[39mdtype_sum)\n\u001b[0;32m--> 720\u001b[0m the_sum \u001b[38;5;241m=\u001b[39m \u001b[43m_ensure_numeric\u001b[49m\u001b[43m(\u001b[49m\u001b[43mthe_sum\u001b[49m\u001b[43m)\u001b[49m\n\u001b[1;32m    722\u001b[0m \u001b[38;5;28;01mif\u001b[39;00m axis \u001b[38;5;129;01mis\u001b[39;00m \u001b[38;5;129;01mnot\u001b[39;00m \u001b[38;5;28;01mNone\u001b[39;00m \u001b[38;5;129;01mand\u001b[39;00m \u001b[38;5;28mgetattr\u001b[39m(the_sum, \u001b[38;5;124m\"\u001b[39m\u001b[38;5;124mndim\u001b[39m\u001b[38;5;124m\"\u001b[39m, \u001b[38;5;28;01mFalse\u001b[39;00m):\n\u001b[1;32m    723\u001b[0m     count \u001b[38;5;241m=\u001b[39m cast(np\u001b[38;5;241m.\u001b[39mndarray, count)\n",
      "File \u001b[0;32m/opt/conda/lib/python3.11/site-packages/pandas/core/nanops.py:1701\u001b[0m, in \u001b[0;36m_ensure_numeric\u001b[0;34m(x)\u001b[0m\n\u001b[1;32m   1698\u001b[0m \u001b[38;5;28;01melif\u001b[39;00m \u001b[38;5;129;01mnot\u001b[39;00m (is_float(x) \u001b[38;5;129;01mor\u001b[39;00m is_integer(x) \u001b[38;5;129;01mor\u001b[39;00m is_complex(x)):\n\u001b[1;32m   1699\u001b[0m     \u001b[38;5;28;01mif\u001b[39;00m \u001b[38;5;28misinstance\u001b[39m(x, \u001b[38;5;28mstr\u001b[39m):\n\u001b[1;32m   1700\u001b[0m         \u001b[38;5;66;03m# GH#44008, GH#36703 avoid casting e.g. strings to numeric\u001b[39;00m\n\u001b[0;32m-> 1701\u001b[0m         \u001b[38;5;28;01mraise\u001b[39;00m \u001b[38;5;167;01mTypeError\u001b[39;00m(\u001b[38;5;124mf\u001b[39m\u001b[38;5;124m\"\u001b[39m\u001b[38;5;124mCould not convert string \u001b[39m\u001b[38;5;124m'\u001b[39m\u001b[38;5;132;01m{\u001b[39;00mx\u001b[38;5;132;01m}\u001b[39;00m\u001b[38;5;124m'\u001b[39m\u001b[38;5;124m to numeric\u001b[39m\u001b[38;5;124m\"\u001b[39m)\n\u001b[1;32m   1702\u001b[0m     \u001b[38;5;28;01mtry\u001b[39;00m:\n\u001b[1;32m   1703\u001b[0m         x \u001b[38;5;241m=\u001b[39m \u001b[38;5;28mfloat\u001b[39m(x)\n",
      "\u001b[0;31mTypeError\u001b[0m: Could not convert string '+0.88%+0.89%-0.18%+0.57%+0.85%+1.56%+2.12%+0.40%+1.23%-0.10%+0.88%+2.64%-0.50%+0.81%+1.70%+3.31%+0.67%+1.21%+0.24%+0.55%-0.05%+0.74%+2.95%+0.24%+1.34%-0.20%+2.00%+0.70%+1.13%-0.07%+1.34%+2.84%+0.17%+1.51%+0.29%+2.28%+2.16%+3.06%+1.23%+0.98%-8.08%+1.03%+3.13%+2.04%+1.24%+1.11%+1.93%+3.00%+0.28%+2.49%+2.54%+0.84%+2.68%+0.31%+0.95%+0.34%+3.35%+3.02%+5.04%-0.44%+2.30%+0.60%+2.60%+2.83%+1.47%+0.54%+4.68%-0.25%+3.13%+1.55%+2.42%+1.05%+0.88%+1.29%+1.69%+2.49%+2.55%+2.22%+2.77%+1.38%+0.67%+0.61%+1.16%+4.19%+1.63%+0.90%-0.36%+1.28%+1.73%+3.91%+0.61%+0.13%+2.04%+1.83%+0.22%-1.63%-2.79%+2.36%+1.68%+0.73%-0.63%+0.89%+2.22%+1.40%-0.31%+1.86%+1.13%+1.69%+1.24%+1.38%-0.44%-0.27%+0.47%+2.45%+0.77%+2.46%-0.19%+0.57%+1.12%+0.82%+2.23%+1.96%+1.69%+0.80%+1.07%+0.47%+6.74%+3.01%+5.43%+1.32%-0.28%+0.33%+1.79%+1.36%-0.08%+0.03%-0.62%+0.89%+2.99%+2.54%+2.17%+1.32%+0.02%-0.56%+2.33%+2.22%+1.65%+1.11%+2.27%+0.15%+0.07%+2.44%-0.46%-1.04%+2.36%+0.47%+1.09%+1.27%+1.02%-0.20%+0.95%+1.39%+0.51%+0.38%+1.94%+0.57%+2.42%+0.70%+1.36%+1.80%+3.08%+0.92%+1.93%+0.90%+0.36%+0.50%+0.79%+2.08%+0.48%+1.89%-2.13%-0.99%+2.35%+3.52%+1.71%+0.96%-2.07%+0.26%+2.02%+0.65%+0.04%+0.28%+0.80%+1.58%+1.94%+0.14%+0.46%-0.42%+0.15%+0.18%-0.71%+0.51%-0.93%+0.04%+1.44%+2.02%-0.47%-0.08%+0.46%+1.69%+1.30%-1.70%+0.10%+0.77%-2.03%+1.45%+0.71%+1.74%+0.06%+2.29%-3.12%-1.05%+4.44%-4.69%-0.18%+1.62%-3.40%+0.63%-0.94%+1.51%-1.76%-0.89%-1.01%-0.74%-0.37%+4.67%-0.22%-1.78%' to numeric"
     ]
    }
   ],
   "source": [
    "df[\"Change %\"].mean()"
   ]
  },
  {
   "cell_type": "code",
   "execution_count": 13,
   "id": "376bc6b0-0093-444c-b9ee-e27f5046414d",
   "metadata": {},
   "outputs": [
    {
     "data": {
      "text/plain": [
       "'India, China, USA, Indonesia'"
      ]
     },
     "execution_count": 13,
     "metadata": {},
     "output_type": "execute_result"
    }
   ],
   "source": [
    "# Using .replace() method\n",
    "# List of four most populated countries\n",
    "countries = \"India, China, United States, Indonesia\"\n",
    "\n",
    "countries.replace(\"United States\", \"USA\")"
   ]
  },
  {
   "cell_type": "code",
   "execution_count": 14,
   "id": "d6e819b5-317b-4d59-b671-ac8f28616239",
   "metadata": {},
   "outputs": [
    {
     "data": {
      "text/plain": [
       "'+0.88'"
      ]
     },
     "execution_count": 14,
     "metadata": {},
     "output_type": "execute_result"
    }
   ],
   "source": [
    "\"+0.88%\".replace(\"%\", \"\") # empty string represents nothing!"
   ]
  },
  {
   "cell_type": "code",
   "execution_count": 15,
   "id": "75113aa3-f81e-4935-9cfa-36657d1d8ebe",
   "metadata": {},
   "outputs": [],
   "source": [
    "df[\"Change %\"] = df[\"Change %\"].replace(\"%\", \"\")"
   ]
  },
  {
   "cell_type": "code",
   "execution_count": 16,
   "id": "6443ef73-6ebb-4eb0-90e3-8557bed00f1a",
   "metadata": {},
   "outputs": [
    {
     "data": {
      "text/plain": [
       "0    +0.88%\n",
       "1    +0.89%\n",
       "2    -0.18%\n",
       "3    +0.57%\n",
       "4    +0.85%\n",
       "Name: Change %, dtype: object"
      ]
     },
     "execution_count": 16,
     "metadata": {},
     "output_type": "execute_result"
    }
   ],
   "source": [
    "df[\"Change %\"].head()"
   ]
  },
  {
   "cell_type": "code",
   "execution_count": 17,
   "id": "f19e9ad9-43d4-481e-bd42-d321c103143a",
   "metadata": {},
   "outputs": [],
   "source": [
    "df[\"Change %\"] = df[\"Change %\"].str.replace(\"%\", \"\")"
   ]
  },
  {
   "cell_type": "code",
   "execution_count": 18,
   "id": "5be7e08c-2f43-4930-af7e-3f12d04b7cca",
   "metadata": {},
   "outputs": [
    {
     "data": {
      "text/plain": [
       "0    +0.88\n",
       "1    +0.89\n",
       "2    -0.18\n",
       "3    +0.57\n",
       "4    +0.85\n",
       "Name: Change %, dtype: object"
      ]
     },
     "execution_count": 18,
     "metadata": {},
     "output_type": "execute_result"
    }
   ],
   "source": [
    "df[\"Change %\"].head()"
   ]
  },
  {
   "cell_type": "code",
   "execution_count": 19,
   "id": "1347794c-6498-4e5d-a91b-70afb8cefb29",
   "metadata": {},
   "outputs": [
    {
     "data": {
      "text/plain": [
       "Country                     object\n",
       "Population 2022              int64\n",
       "Population 2023              int64\n",
       "Change %                    object\n",
       "Region                      object\n",
       "Official Language           object\n",
       "Dog Population             float64\n",
       "Cat Population             float64\n",
       "Bird Population            float64\n",
       "Aquaria Population         float64\n",
       "Small Mammal Population    float64\n",
       "Terraria Population        float64\n",
       "dtype: object"
      ]
     },
     "execution_count": 19,
     "metadata": {},
     "output_type": "execute_result"
    }
   ],
   "source": [
    "df.dtypes"
   ]
  },
  {
   "cell_type": "code",
   "execution_count": 20,
   "id": "5abca150-b141-4918-a64e-8b88c33e2593",
   "metadata": {},
   "outputs": [
    {
     "ename": "TypeError",
     "evalue": "Could not convert string '+0.88+0.89-0.18+0.57+0.85+1.56+2.12+0.40+1.23-0.10+0.88+2.64-0.50+0.81+1.70+3.31+0.67+1.21+0.24+0.55-0.05+0.74+2.95+0.24+1.34-0.20+2.00+0.70+1.13-0.07+1.34+2.84+0.17+1.51+0.29+2.28+2.16+3.06+1.23+0.98-8.08+1.03+3.13+2.04+1.24+1.11+1.93+3.00+0.28+2.49+2.54+0.84+2.68+0.31+0.95+0.34+3.35+3.02+5.04-0.44+2.30+0.60+2.60+2.83+1.47+0.54+4.68-0.25+3.13+1.55+2.42+1.05+0.88+1.29+1.69+2.49+2.55+2.22+2.77+1.38+0.67+0.61+1.16+4.19+1.63+0.90-0.36+1.28+1.73+3.91+0.61+0.13+2.04+1.83+0.22-1.63-2.79+2.36+1.68+0.73-0.63+0.89+2.22+1.40-0.31+1.86+1.13+1.69+1.24+1.38-0.44-0.27+0.47+2.45+0.77+2.46-0.19+0.57+1.12+0.82+2.23+1.96+1.69+0.80+1.07+0.47+6.74+3.01+5.43+1.32-0.28+0.33+1.79+1.36-0.08+0.03-0.62+0.89+2.99+2.54+2.17+1.32+0.02-0.56+2.33+2.22+1.65+1.11+2.27+0.15+0.07+2.44-0.46-1.04+2.36+0.47+1.09+1.27+1.02-0.20+0.95+1.39+0.51+0.38+1.94+0.57+2.42+0.70+1.36+1.80+3.08+0.92+1.93+0.90+0.36+0.50+0.79+2.08+0.48+1.89-2.13-0.99+2.35+3.52+1.71+0.96-2.07+0.26+2.02+0.65+0.04+0.28+0.80+1.58+1.94+0.14+0.46-0.42+0.15+0.18-0.71+0.51-0.93+0.04+1.44+2.02-0.47-0.08+0.46+1.69+1.30-1.70+0.10+0.77-2.03+1.45+0.71+1.74+0.06+2.29-3.12-1.05+4.44-4.69-0.18+1.62-3.40+0.63-0.94+1.51-1.76-0.89-1.01-0.74-0.37+4.67-0.22-1.78' to numeric",
     "output_type": "error",
     "traceback": [
      "\u001b[0;31m---------------------------------------------------------------------------\u001b[0m",
      "\u001b[0;31mTypeError\u001b[0m                                 Traceback (most recent call last)",
      "Cell \u001b[0;32mIn[20], line 1\u001b[0m\n\u001b[0;32m----> 1\u001b[0m \u001b[43mdf\u001b[49m\u001b[43m[\u001b[49m\u001b[38;5;124;43m\"\u001b[39;49m\u001b[38;5;124;43mChange \u001b[39;49m\u001b[38;5;124;43m%\u001b[39;49m\u001b[38;5;124;43m\"\u001b[39;49m\u001b[43m]\u001b[49m\u001b[38;5;241;43m.\u001b[39;49m\u001b[43mmean\u001b[49m\u001b[43m(\u001b[49m\u001b[43m)\u001b[49m\n",
      "File \u001b[0;32m/opt/conda/lib/python3.11/site-packages/pandas/core/series.py:6549\u001b[0m, in \u001b[0;36mSeries.mean\u001b[0;34m(self, axis, skipna, numeric_only, **kwargs)\u001b[0m\n\u001b[1;32m   6541\u001b[0m \u001b[38;5;129m@doc\u001b[39m(make_doc(\u001b[38;5;124m\"\u001b[39m\u001b[38;5;124mmean\u001b[39m\u001b[38;5;124m\"\u001b[39m, ndim\u001b[38;5;241m=\u001b[39m\u001b[38;5;241m1\u001b[39m))\n\u001b[1;32m   6542\u001b[0m \u001b[38;5;28;01mdef\u001b[39;00m \u001b[38;5;21mmean\u001b[39m(\n\u001b[1;32m   6543\u001b[0m     \u001b[38;5;28mself\u001b[39m,\n\u001b[0;32m   (...)\u001b[0m\n\u001b[1;32m   6547\u001b[0m     \u001b[38;5;241m*\u001b[39m\u001b[38;5;241m*\u001b[39mkwargs,\n\u001b[1;32m   6548\u001b[0m ):\n\u001b[0;32m-> 6549\u001b[0m     \u001b[38;5;28;01mreturn\u001b[39;00m \u001b[43mNDFrame\u001b[49m\u001b[38;5;241;43m.\u001b[39;49m\u001b[43mmean\u001b[49m\u001b[43m(\u001b[49m\u001b[38;5;28;43mself\u001b[39;49m\u001b[43m,\u001b[49m\u001b[43m \u001b[49m\u001b[43maxis\u001b[49m\u001b[43m,\u001b[49m\u001b[43m \u001b[49m\u001b[43mskipna\u001b[49m\u001b[43m,\u001b[49m\u001b[43m \u001b[49m\u001b[43mnumeric_only\u001b[49m\u001b[43m,\u001b[49m\u001b[43m \u001b[49m\u001b[38;5;241;43m*\u001b[39;49m\u001b[38;5;241;43m*\u001b[39;49m\u001b[43mkwargs\u001b[49m\u001b[43m)\u001b[49m\n",
      "File \u001b[0;32m/opt/conda/lib/python3.11/site-packages/pandas/core/generic.py:12420\u001b[0m, in \u001b[0;36mNDFrame.mean\u001b[0;34m(self, axis, skipna, numeric_only, **kwargs)\u001b[0m\n\u001b[1;32m  12413\u001b[0m \u001b[38;5;28;01mdef\u001b[39;00m \u001b[38;5;21mmean\u001b[39m(\n\u001b[1;32m  12414\u001b[0m     \u001b[38;5;28mself\u001b[39m,\n\u001b[1;32m  12415\u001b[0m     axis: Axis \u001b[38;5;241m|\u001b[39m \u001b[38;5;28;01mNone\u001b[39;00m \u001b[38;5;241m=\u001b[39m \u001b[38;5;241m0\u001b[39m,\n\u001b[0;32m   (...)\u001b[0m\n\u001b[1;32m  12418\u001b[0m     \u001b[38;5;241m*\u001b[39m\u001b[38;5;241m*\u001b[39mkwargs,\n\u001b[1;32m  12419\u001b[0m ) \u001b[38;5;241m-\u001b[39m\u001b[38;5;241m>\u001b[39m Series \u001b[38;5;241m|\u001b[39m \u001b[38;5;28mfloat\u001b[39m:\n\u001b[0;32m> 12420\u001b[0m     \u001b[38;5;28;01mreturn\u001b[39;00m \u001b[38;5;28;43mself\u001b[39;49m\u001b[38;5;241;43m.\u001b[39;49m\u001b[43m_stat_function\u001b[49m\u001b[43m(\u001b[49m\n\u001b[1;32m  12421\u001b[0m \u001b[43m        \u001b[49m\u001b[38;5;124;43m\"\u001b[39;49m\u001b[38;5;124;43mmean\u001b[39;49m\u001b[38;5;124;43m\"\u001b[39;49m\u001b[43m,\u001b[49m\u001b[43m \u001b[49m\u001b[43mnanops\u001b[49m\u001b[38;5;241;43m.\u001b[39;49m\u001b[43mnanmean\u001b[49m\u001b[43m,\u001b[49m\u001b[43m \u001b[49m\u001b[43maxis\u001b[49m\u001b[43m,\u001b[49m\u001b[43m \u001b[49m\u001b[43mskipna\u001b[49m\u001b[43m,\u001b[49m\u001b[43m \u001b[49m\u001b[43mnumeric_only\u001b[49m\u001b[43m,\u001b[49m\u001b[43m \u001b[49m\u001b[38;5;241;43m*\u001b[39;49m\u001b[38;5;241;43m*\u001b[39;49m\u001b[43mkwargs\u001b[49m\n\u001b[1;32m  12422\u001b[0m \u001b[43m    \u001b[49m\u001b[43m)\u001b[49m\n",
      "File \u001b[0;32m/opt/conda/lib/python3.11/site-packages/pandas/core/generic.py:12377\u001b[0m, in \u001b[0;36mNDFrame._stat_function\u001b[0;34m(self, name, func, axis, skipna, numeric_only, **kwargs)\u001b[0m\n\u001b[1;32m  12373\u001b[0m nv\u001b[38;5;241m.\u001b[39mvalidate_func(name, (), kwargs)\n\u001b[1;32m  12375\u001b[0m validate_bool_kwarg(skipna, \u001b[38;5;124m\"\u001b[39m\u001b[38;5;124mskipna\u001b[39m\u001b[38;5;124m\"\u001b[39m, none_allowed\u001b[38;5;241m=\u001b[39m\u001b[38;5;28;01mFalse\u001b[39;00m)\n\u001b[0;32m> 12377\u001b[0m \u001b[38;5;28;01mreturn\u001b[39;00m \u001b[38;5;28;43mself\u001b[39;49m\u001b[38;5;241;43m.\u001b[39;49m\u001b[43m_reduce\u001b[49m\u001b[43m(\u001b[49m\n\u001b[1;32m  12378\u001b[0m \u001b[43m    \u001b[49m\u001b[43mfunc\u001b[49m\u001b[43m,\u001b[49m\u001b[43m \u001b[49m\u001b[43mname\u001b[49m\u001b[38;5;241;43m=\u001b[39;49m\u001b[43mname\u001b[49m\u001b[43m,\u001b[49m\u001b[43m \u001b[49m\u001b[43maxis\u001b[49m\u001b[38;5;241;43m=\u001b[39;49m\u001b[43maxis\u001b[49m\u001b[43m,\u001b[49m\u001b[43m \u001b[49m\u001b[43mskipna\u001b[49m\u001b[38;5;241;43m=\u001b[39;49m\u001b[43mskipna\u001b[49m\u001b[43m,\u001b[49m\u001b[43m \u001b[49m\u001b[43mnumeric_only\u001b[49m\u001b[38;5;241;43m=\u001b[39;49m\u001b[43mnumeric_only\u001b[49m\n\u001b[1;32m  12379\u001b[0m \u001b[43m\u001b[49m\u001b[43m)\u001b[49m\n",
      "File \u001b[0;32m/opt/conda/lib/python3.11/site-packages/pandas/core/series.py:6457\u001b[0m, in \u001b[0;36mSeries._reduce\u001b[0;34m(self, op, name, axis, skipna, numeric_only, filter_type, **kwds)\u001b[0m\n\u001b[1;32m   6452\u001b[0m     \u001b[38;5;66;03m# GH#47500 - change to TypeError to match other methods\u001b[39;00m\n\u001b[1;32m   6453\u001b[0m     \u001b[38;5;28;01mraise\u001b[39;00m \u001b[38;5;167;01mTypeError\u001b[39;00m(\n\u001b[1;32m   6454\u001b[0m         \u001b[38;5;124mf\u001b[39m\u001b[38;5;124m\"\u001b[39m\u001b[38;5;124mSeries.\u001b[39m\u001b[38;5;132;01m{\u001b[39;00mname\u001b[38;5;132;01m}\u001b[39;00m\u001b[38;5;124m does not allow \u001b[39m\u001b[38;5;132;01m{\u001b[39;00mkwd_name\u001b[38;5;132;01m}\u001b[39;00m\u001b[38;5;124m=\u001b[39m\u001b[38;5;132;01m{\u001b[39;00mnumeric_only\u001b[38;5;132;01m}\u001b[39;00m\u001b[38;5;124m \u001b[39m\u001b[38;5;124m\"\u001b[39m\n\u001b[1;32m   6455\u001b[0m         \u001b[38;5;124m\"\u001b[39m\u001b[38;5;124mwith non-numeric dtypes.\u001b[39m\u001b[38;5;124m\"\u001b[39m\n\u001b[1;32m   6456\u001b[0m     )\n\u001b[0;32m-> 6457\u001b[0m \u001b[38;5;28;01mreturn\u001b[39;00m \u001b[43mop\u001b[49m\u001b[43m(\u001b[49m\u001b[43mdelegate\u001b[49m\u001b[43m,\u001b[49m\u001b[43m \u001b[49m\u001b[43mskipna\u001b[49m\u001b[38;5;241;43m=\u001b[39;49m\u001b[43mskipna\u001b[49m\u001b[43m,\u001b[49m\u001b[43m \u001b[49m\u001b[38;5;241;43m*\u001b[39;49m\u001b[38;5;241;43m*\u001b[39;49m\u001b[43mkwds\u001b[49m\u001b[43m)\u001b[49m\n",
      "File \u001b[0;32m/opt/conda/lib/python3.11/site-packages/pandas/core/nanops.py:147\u001b[0m, in \u001b[0;36mbottleneck_switch.__call__.<locals>.f\u001b[0;34m(values, axis, skipna, **kwds)\u001b[0m\n\u001b[1;32m    145\u001b[0m         result \u001b[38;5;241m=\u001b[39m alt(values, axis\u001b[38;5;241m=\u001b[39maxis, skipna\u001b[38;5;241m=\u001b[39mskipna, \u001b[38;5;241m*\u001b[39m\u001b[38;5;241m*\u001b[39mkwds)\n\u001b[1;32m    146\u001b[0m \u001b[38;5;28;01melse\u001b[39;00m:\n\u001b[0;32m--> 147\u001b[0m     result \u001b[38;5;241m=\u001b[39m \u001b[43malt\u001b[49m\u001b[43m(\u001b[49m\u001b[43mvalues\u001b[49m\u001b[43m,\u001b[49m\u001b[43m \u001b[49m\u001b[43maxis\u001b[49m\u001b[38;5;241;43m=\u001b[39;49m\u001b[43maxis\u001b[49m\u001b[43m,\u001b[49m\u001b[43m \u001b[49m\u001b[43mskipna\u001b[49m\u001b[38;5;241;43m=\u001b[39;49m\u001b[43mskipna\u001b[49m\u001b[43m,\u001b[49m\u001b[43m \u001b[49m\u001b[38;5;241;43m*\u001b[39;49m\u001b[38;5;241;43m*\u001b[39;49m\u001b[43mkwds\u001b[49m\u001b[43m)\u001b[49m\n\u001b[1;32m    149\u001b[0m \u001b[38;5;28;01mreturn\u001b[39;00m result\n",
      "File \u001b[0;32m/opt/conda/lib/python3.11/site-packages/pandas/core/nanops.py:404\u001b[0m, in \u001b[0;36m_datetimelike_compat.<locals>.new_func\u001b[0;34m(values, axis, skipna, mask, **kwargs)\u001b[0m\n\u001b[1;32m    401\u001b[0m \u001b[38;5;28;01mif\u001b[39;00m datetimelike \u001b[38;5;129;01mand\u001b[39;00m mask \u001b[38;5;129;01mis\u001b[39;00m \u001b[38;5;28;01mNone\u001b[39;00m:\n\u001b[1;32m    402\u001b[0m     mask \u001b[38;5;241m=\u001b[39m isna(values)\n\u001b[0;32m--> 404\u001b[0m result \u001b[38;5;241m=\u001b[39m \u001b[43mfunc\u001b[49m\u001b[43m(\u001b[49m\u001b[43mvalues\u001b[49m\u001b[43m,\u001b[49m\u001b[43m \u001b[49m\u001b[43maxis\u001b[49m\u001b[38;5;241;43m=\u001b[39;49m\u001b[43maxis\u001b[49m\u001b[43m,\u001b[49m\u001b[43m \u001b[49m\u001b[43mskipna\u001b[49m\u001b[38;5;241;43m=\u001b[39;49m\u001b[43mskipna\u001b[49m\u001b[43m,\u001b[49m\u001b[43m \u001b[49m\u001b[43mmask\u001b[49m\u001b[38;5;241;43m=\u001b[39;49m\u001b[43mmask\u001b[49m\u001b[43m,\u001b[49m\u001b[43m \u001b[49m\u001b[38;5;241;43m*\u001b[39;49m\u001b[38;5;241;43m*\u001b[39;49m\u001b[43mkwargs\u001b[49m\u001b[43m)\u001b[49m\n\u001b[1;32m    406\u001b[0m \u001b[38;5;28;01mif\u001b[39;00m datetimelike:\n\u001b[1;32m    407\u001b[0m     result \u001b[38;5;241m=\u001b[39m _wrap_results(result, orig_values\u001b[38;5;241m.\u001b[39mdtype, fill_value\u001b[38;5;241m=\u001b[39miNaT)\n",
      "File \u001b[0;32m/opt/conda/lib/python3.11/site-packages/pandas/core/nanops.py:720\u001b[0m, in \u001b[0;36mnanmean\u001b[0;34m(values, axis, skipna, mask)\u001b[0m\n\u001b[1;32m    718\u001b[0m count \u001b[38;5;241m=\u001b[39m _get_counts(values\u001b[38;5;241m.\u001b[39mshape, mask, axis, dtype\u001b[38;5;241m=\u001b[39mdtype_count)\n\u001b[1;32m    719\u001b[0m the_sum \u001b[38;5;241m=\u001b[39m values\u001b[38;5;241m.\u001b[39msum(axis, dtype\u001b[38;5;241m=\u001b[39mdtype_sum)\n\u001b[0;32m--> 720\u001b[0m the_sum \u001b[38;5;241m=\u001b[39m \u001b[43m_ensure_numeric\u001b[49m\u001b[43m(\u001b[49m\u001b[43mthe_sum\u001b[49m\u001b[43m)\u001b[49m\n\u001b[1;32m    722\u001b[0m \u001b[38;5;28;01mif\u001b[39;00m axis \u001b[38;5;129;01mis\u001b[39;00m \u001b[38;5;129;01mnot\u001b[39;00m \u001b[38;5;28;01mNone\u001b[39;00m \u001b[38;5;129;01mand\u001b[39;00m \u001b[38;5;28mgetattr\u001b[39m(the_sum, \u001b[38;5;124m\"\u001b[39m\u001b[38;5;124mndim\u001b[39m\u001b[38;5;124m\"\u001b[39m, \u001b[38;5;28;01mFalse\u001b[39;00m):\n\u001b[1;32m    723\u001b[0m     count \u001b[38;5;241m=\u001b[39m cast(np\u001b[38;5;241m.\u001b[39mndarray, count)\n",
      "File \u001b[0;32m/opt/conda/lib/python3.11/site-packages/pandas/core/nanops.py:1701\u001b[0m, in \u001b[0;36m_ensure_numeric\u001b[0;34m(x)\u001b[0m\n\u001b[1;32m   1698\u001b[0m \u001b[38;5;28;01melif\u001b[39;00m \u001b[38;5;129;01mnot\u001b[39;00m (is_float(x) \u001b[38;5;129;01mor\u001b[39;00m is_integer(x) \u001b[38;5;129;01mor\u001b[39;00m is_complex(x)):\n\u001b[1;32m   1699\u001b[0m     \u001b[38;5;28;01mif\u001b[39;00m \u001b[38;5;28misinstance\u001b[39m(x, \u001b[38;5;28mstr\u001b[39m):\n\u001b[1;32m   1700\u001b[0m         \u001b[38;5;66;03m# GH#44008, GH#36703 avoid casting e.g. strings to numeric\u001b[39;00m\n\u001b[0;32m-> 1701\u001b[0m         \u001b[38;5;28;01mraise\u001b[39;00m \u001b[38;5;167;01mTypeError\u001b[39;00m(\u001b[38;5;124mf\u001b[39m\u001b[38;5;124m\"\u001b[39m\u001b[38;5;124mCould not convert string \u001b[39m\u001b[38;5;124m'\u001b[39m\u001b[38;5;132;01m{\u001b[39;00mx\u001b[38;5;132;01m}\u001b[39;00m\u001b[38;5;124m'\u001b[39m\u001b[38;5;124m to numeric\u001b[39m\u001b[38;5;124m\"\u001b[39m)\n\u001b[1;32m   1702\u001b[0m     \u001b[38;5;28;01mtry\u001b[39;00m:\n\u001b[1;32m   1703\u001b[0m         x \u001b[38;5;241m=\u001b[39m \u001b[38;5;28mfloat\u001b[39m(x)\n",
      "\u001b[0;31mTypeError\u001b[0m: Could not convert string '+0.88+0.89-0.18+0.57+0.85+1.56+2.12+0.40+1.23-0.10+0.88+2.64-0.50+0.81+1.70+3.31+0.67+1.21+0.24+0.55-0.05+0.74+2.95+0.24+1.34-0.20+2.00+0.70+1.13-0.07+1.34+2.84+0.17+1.51+0.29+2.28+2.16+3.06+1.23+0.98-8.08+1.03+3.13+2.04+1.24+1.11+1.93+3.00+0.28+2.49+2.54+0.84+2.68+0.31+0.95+0.34+3.35+3.02+5.04-0.44+2.30+0.60+2.60+2.83+1.47+0.54+4.68-0.25+3.13+1.55+2.42+1.05+0.88+1.29+1.69+2.49+2.55+2.22+2.77+1.38+0.67+0.61+1.16+4.19+1.63+0.90-0.36+1.28+1.73+3.91+0.61+0.13+2.04+1.83+0.22-1.63-2.79+2.36+1.68+0.73-0.63+0.89+2.22+1.40-0.31+1.86+1.13+1.69+1.24+1.38-0.44-0.27+0.47+2.45+0.77+2.46-0.19+0.57+1.12+0.82+2.23+1.96+1.69+0.80+1.07+0.47+6.74+3.01+5.43+1.32-0.28+0.33+1.79+1.36-0.08+0.03-0.62+0.89+2.99+2.54+2.17+1.32+0.02-0.56+2.33+2.22+1.65+1.11+2.27+0.15+0.07+2.44-0.46-1.04+2.36+0.47+1.09+1.27+1.02-0.20+0.95+1.39+0.51+0.38+1.94+0.57+2.42+0.70+1.36+1.80+3.08+0.92+1.93+0.90+0.36+0.50+0.79+2.08+0.48+1.89-2.13-0.99+2.35+3.52+1.71+0.96-2.07+0.26+2.02+0.65+0.04+0.28+0.80+1.58+1.94+0.14+0.46-0.42+0.15+0.18-0.71+0.51-0.93+0.04+1.44+2.02-0.47-0.08+0.46+1.69+1.30-1.70+0.10+0.77-2.03+1.45+0.71+1.74+0.06+2.29-3.12-1.05+4.44-4.69-0.18+1.62-3.40+0.63-0.94+1.51-1.76-0.89-1.01-0.74-0.37+4.67-0.22-1.78' to numeric"
     ]
    }
   ],
   "source": [
    "df[\"Change %\"].mean()"
   ]
  },
  {
   "cell_type": "code",
   "execution_count": 22,
   "id": "2fa3b066-65be-4ff4-977a-f1aecebdead6",
   "metadata": {},
   "outputs": [],
   "source": [
    "df[\"Change %\"] = df[\"Change %\"].astype(\"Float64\") # Float64 handles missing values!"
   ]
  },
  {
   "cell_type": "code",
   "execution_count": 23,
   "id": "4842a011-803f-437b-9118-791abc79fb69",
   "metadata": {},
   "outputs": [
    {
     "data": {
      "text/plain": [
       "0    0.88\n",
       "1    0.89\n",
       "2   -0.18\n",
       "3    0.57\n",
       "4    0.85\n",
       "Name: Change %, dtype: Float64"
      ]
     },
     "execution_count": 23,
     "metadata": {},
     "output_type": "execute_result"
    }
   ],
   "source": [
    "df[\"Change %\"].head()"
   ]
  },
  {
   "cell_type": "code",
   "execution_count": 24,
   "id": "819cc1f0-1e15-478e-b556-3d8250fa5f6e",
   "metadata": {},
   "outputs": [
    {
     "data": {
      "text/plain": [
       "np.float64(1.0084873949579831)"
      ]
     },
     "execution_count": 24,
     "metadata": {},
     "output_type": "execute_result"
    }
   ],
   "source": [
    "df[\"Change %\"].mean()"
   ]
  },
  {
   "cell_type": "code",
   "execution_count": 25,
   "id": "5faddfde-5194-4d2c-8712-70c1bddfada3",
   "metadata": {},
   "outputs": [
    {
     "data": {
      "text/plain": [
       "Country                     object\n",
       "Population 2022              int64\n",
       "Population 2023              int64\n",
       "Change %                   Float64\n",
       "Region                      object\n",
       "Official Language           object\n",
       "Dog Population             float64\n",
       "Cat Population             float64\n",
       "Bird Population            float64\n",
       "Aquaria Population         float64\n",
       "Small Mammal Population    float64\n",
       "Terraria Population        float64\n",
       "dtype: object"
      ]
     },
     "execution_count": 25,
     "metadata": {},
     "output_type": "execute_result"
    }
   ],
   "source": [
    "df.dtypes"
   ]
  },
  {
   "cell_type": "code",
   "execution_count": 27,
   "id": "cf3b5b88-86dc-44b6-921c-4d3c6b028953",
   "metadata": {},
   "outputs": [
    {
     "name": "stdout",
     "output_type": "stream",
     "text": [
      "<class 'pandas.core.frame.DataFrame'>\n",
      "RangeIndex: 238 entries, 0 to 237\n",
      "Data columns (total 12 columns):\n",
      " #   Column                   Non-Null Count  Dtype  \n",
      "---  ------                   --------------  -----  \n",
      " 0   Country                  238 non-null    object \n",
      " 1   Population 2022          238 non-null    int64  \n",
      " 2   Population 2023          238 non-null    int64  \n",
      " 3   Change %                 238 non-null    Float64\n",
      " 4   Region                   238 non-null    object \n",
      " 5   Official Language        191 non-null    object \n",
      " 6   Dog Population           38 non-null     float64\n",
      " 7   Cat Population           35 non-null     float64\n",
      " 8   Bird Population          32 non-null     float64\n",
      " 9   Aquaria Population       29 non-null     float64\n",
      " 10  Small Mammal Population  29 non-null     float64\n",
      " 11  Terraria Population      27 non-null     float64\n",
      "dtypes: Float64(1), float64(6), int64(2), object(3)\n",
      "memory usage: 22.7+ KB\n"
     ]
    }
   ],
   "source": [
    "df.info()"
   ]
  },
  {
   "cell_type": "code",
   "execution_count": 28,
   "id": "97d0b31e-c742-4fa9-b1ef-470aa6c9d0b1",
   "metadata": {},
   "outputs": [],
   "source": [
    "df_with_dogs = df.dropna(subset=[\"Dog Population\"])"
   ]
  },
  {
   "cell_type": "code",
   "execution_count": 29,
   "id": "511d7ad7-32bf-4c6d-887e-376a23c6723c",
   "metadata": {},
   "outputs": [
    {
     "name": "stdout",
     "output_type": "stream",
     "text": [
      "<class 'pandas.core.frame.DataFrame'>\n",
      "Index: 38 entries, 1 to 157\n",
      "Data columns (total 12 columns):\n",
      " #   Column                   Non-Null Count  Dtype  \n",
      "---  ------                   --------------  -----  \n",
      " 0   Country                  38 non-null     object \n",
      " 1   Population 2022          38 non-null     int64  \n",
      " 2   Population 2023          38 non-null     int64  \n",
      " 3   Change %                 38 non-null     Float64\n",
      " 4   Region                   38 non-null     object \n",
      " 5   Official Language        38 non-null     object \n",
      " 6   Dog Population           38 non-null     float64\n",
      " 7   Cat Population           35 non-null     float64\n",
      " 8   Bird Population          31 non-null     float64\n",
      " 9   Aquaria Population       29 non-null     float64\n",
      " 10  Small Mammal Population  29 non-null     float64\n",
      " 11  Terraria Population      27 non-null     float64\n",
      "dtypes: Float64(1), float64(6), int64(2), object(3)\n",
      "memory usage: 3.9+ KB\n"
     ]
    }
   ],
   "source": [
    "df_with_dogs.info()"
   ]
  },
  {
   "cell_type": "code",
   "execution_count": 33,
   "id": "68a3af88-ea02-4159-96a8-6813400b00b7",
   "metadata": {},
   "outputs": [],
   "source": [
    "# fill in missing values with reasonable guess - mean dogs per capita\n",
    "df[\"dogs_per_capita\"] = df[\"Dog Population\"] / df[\"Population 2023\"]"
   ]
  },
  {
   "cell_type": "code",
   "execution_count": 34,
   "id": "12b4f601-8c95-45e0-a909-7ede063aee8f",
   "metadata": {},
   "outputs": [
    {
     "data": {
      "text/plain": [
       "count    38.000000\n",
       "mean      0.137065\n",
       "std       0.069887\n",
       "min       0.007093\n",
       "25%       0.099721\n",
       "50%       0.128252\n",
       "75%       0.183206\n",
       "max       0.297817\n",
       "Name: dogs_per_capita, dtype: float64"
      ]
     },
     "execution_count": 34,
     "metadata": {},
     "output_type": "execute_result"
    }
   ],
   "source": [
    "df[\"dogs_per_capita\"].describe()"
   ]
  },
  {
   "cell_type": "code",
   "execution_count": 36,
   "id": "3a4cc1c2-151e-47c9-8315-38db4622128a",
   "metadata": {},
   "outputs": [],
   "source": [
    "df[\"Dog Population\"] = df[\"Dog Population\"].fillna(df[\"Population 2023\"] * 0.137065)"
   ]
  },
  {
   "cell_type": "code",
   "execution_count": 37,
   "id": "cd25720b-1b5d-4264-852a-ec811ce642d4",
   "metadata": {},
   "outputs": [
    {
     "name": "stdout",
     "output_type": "stream",
     "text": [
      "<class 'pandas.core.frame.DataFrame'>\n",
      "RangeIndex: 238 entries, 0 to 237\n",
      "Data columns (total 13 columns):\n",
      " #   Column                   Non-Null Count  Dtype  \n",
      "---  ------                   --------------  -----  \n",
      " 0   Country                  238 non-null    object \n",
      " 1   Population 2022          238 non-null    int64  \n",
      " 2   Population 2023          238 non-null    int64  \n",
      " 3   Change %                 238 non-null    Float64\n",
      " 4   Region                   238 non-null    object \n",
      " 5   Official Language        191 non-null    object \n",
      " 6   Dog Population           238 non-null    float64\n",
      " 7   Cat Population           35 non-null     float64\n",
      " 8   Bird Population          32 non-null     float64\n",
      " 9   Aquaria Population       29 non-null     float64\n",
      " 10  Small Mammal Population  29 non-null     float64\n",
      " 11  Terraria Population      27 non-null     float64\n",
      " 12  dogs_per_capita          38 non-null     float64\n",
      "dtypes: Float64(1), float64(7), int64(2), object(3)\n",
      "memory usage: 24.5+ KB\n"
     ]
    }
   ],
   "source": [
    "df.info()"
   ]
  },
  {
   "cell_type": "code",
   "execution_count": 38,
   "id": "49d4a391-0a2e-4b95-b0d1-e8bb7b0ae2c2",
   "metadata": {},
   "outputs": [
    {
     "data": {
      "text/plain": [
       "count    2.380000e+02\n",
       "mean     7.825225e+06\n",
       "std      7.203852e+07\n",
       "min      6.798424e+01\n",
       "25%      5.514899e+04\n",
       "50%      7.384561e+05\n",
       "75%      3.185980e+06\n",
       "max      1.109094e+09\n",
       "Name: Dog Population, dtype: float64"
      ]
     },
     "execution_count": 38,
     "metadata": {},
     "output_type": "execute_result"
    }
   ],
   "source": [
    "df[\"Dog Population\"].describe()"
   ]
  },
  {
   "cell_type": "code",
   "execution_count": 39,
   "id": "016bf824-566c-4a2a-a18d-b41fe3e7017f",
   "metadata": {},
   "outputs": [],
   "source": [
    "df[\"English\"] = df[\"Official Language\"] == \"English\" # true if English is one of the official languages"
   ]
  },
  {
   "cell_type": "code",
   "execution_count": 40,
   "id": "af03f451-454e-496b-a987-c3c26a386e23",
   "metadata": {},
   "outputs": [
    {
     "data": {
      "text/plain": [
       "0    False\n",
       "1    False\n",
       "2    False\n",
       "3     True\n",
       "4    False\n",
       "Name: English, dtype: bool"
      ]
     },
     "execution_count": 40,
     "metadata": {},
     "output_type": "execute_result"
    }
   ],
   "source": [
    "df[\"English\"].head()"
   ]
  },
  {
   "cell_type": "code",
   "execution_count": 42,
   "id": "817fa3e4-5117-4f95-a4ed-be63278823b9",
   "metadata": {},
   "outputs": [],
   "source": [
    "df[\"English\"] = df[\"Official Language\"].str.contains(\"English\")"
   ]
  },
  {
   "cell_type": "code",
   "execution_count": 43,
   "id": "944c62a3-11cc-417e-a020-5feceb4ff8e9",
   "metadata": {},
   "outputs": [
    {
     "data": {
      "text/plain": [
       "0      NaN\n",
       "1     True\n",
       "2    False\n",
       "3     True\n",
       "4    False\n",
       "Name: English, dtype: object"
      ]
     },
     "execution_count": 43,
     "metadata": {},
     "output_type": "execute_result"
    }
   ],
   "source": [
    "df[\"English\"].head()"
   ]
  },
  {
   "cell_type": "code",
   "execution_count": 44,
   "id": "dc39fafb-19b1-44a0-90ae-0e79e4143297",
   "metadata": {},
   "outputs": [],
   "source": [
    "english_df = df[df[\"English\"] == True]"
   ]
  },
  {
   "cell_type": "code",
   "execution_count": 45,
   "id": "20d1c29d-b4d7-4681-a2a9-c6a0ed2a2e0c",
   "metadata": {},
   "outputs": [
    {
     "data": {
      "text/plain": [
       "56"
      ]
     },
     "execution_count": 45,
     "metadata": {},
     "output_type": "execute_result"
    }
   ],
   "source": [
    "len(english_df)"
   ]
  },
  {
   "cell_type": "code",
   "execution_count": 46,
   "id": "09ce117f-454b-4eef-bf72-94b88a576c22",
   "metadata": {},
   "outputs": [
    {
     "data": {
      "text/plain": [
       "np.int64(3010448677)"
      ]
     },
     "execution_count": 46,
     "metadata": {},
     "output_type": "execute_result"
    }
   ],
   "source": [
    "english_df[\"Population 2023\"].sum()"
   ]
  },
  {
   "cell_type": "code",
   "execution_count": 47,
   "id": "3c1796c0-3866-4260-bebe-8b75e6c8cfcc",
   "metadata": {},
   "outputs": [
    {
     "data": {
      "text/plain": [
       "56"
      ]
     },
     "execution_count": 47,
     "metadata": {},
     "output_type": "execute_result"
    }
   ],
   "source": [
    "df[\"Official Language\"].str.contains(\"English\").sum()"
   ]
  },
  {
   "cell_type": "code",
   "execution_count": 48,
   "id": "c33976d6-4bcf-4fd5-ab54-e07c33087976",
   "metadata": {},
   "outputs": [
    {
     "data": {
      "text/plain": [
       "0"
      ]
     },
     "execution_count": 48,
     "metadata": {},
     "output_type": "execute_result"
    }
   ],
   "source": [
    "df[\"Official Language\"].str.contains(\"english\").sum()"
   ]
  },
  {
   "cell_type": "code",
   "execution_count": 49,
   "id": "d8498aca-8037-499e-beee-c0c04c02715c",
   "metadata": {},
   "outputs": [
    {
     "data": {
      "text/plain": [
       "0"
      ]
     },
     "execution_count": 49,
     "metadata": {},
     "output_type": "execute_result"
    }
   ],
   "source": [
    "df[\"Official Language\"].str.contains(\"ENGLISH\").sum()"
   ]
  },
  {
   "cell_type": "code",
   "execution_count": 50,
   "id": "bbcc83f3-f859-487b-963a-4497ed0924fd",
   "metadata": {},
   "outputs": [],
   "source": [
    "df[\"English\"] = df[\"Official Language\"].str.contains(\"English\", case=False)"
   ]
  },
  {
   "cell_type": "code",
   "execution_count": 51,
   "id": "e6c0160c-2afb-4ad4-84b8-f308a8befc84",
   "metadata": {},
   "outputs": [
    {
     "data": {
      "text/plain": [
       "56"
      ]
     },
     "execution_count": 51,
     "metadata": {},
     "output_type": "execute_result"
    }
   ],
   "source": [
    "df[\"English\"].sum()"
   ]
  },
  {
   "cell_type": "code",
   "execution_count": 52,
   "id": "581c5757-6760-4680-8a42-e509f42f7bd7",
   "metadata": {},
   "outputs": [],
   "source": [
    "df[\"German\"] = df[\"Official Language\"].str.contains(\"German\",  case=False)"
   ]
  },
  {
   "cell_type": "code",
   "execution_count": 53,
   "id": "04c234be-627b-4043-92cf-cf02205ec54b",
   "metadata": {},
   "outputs": [
    {
     "data": {
      "text/plain": [
       "6"
      ]
     },
     "execution_count": 53,
     "metadata": {},
     "output_type": "execute_result"
    }
   ],
   "source": [
    "df[\"German\"].sum()"
   ]
  },
  {
   "cell_type": "code",
   "execution_count": 54,
   "id": "fda78d81-3c24-4954-925a-db3435e7bb85",
   "metadata": {},
   "outputs": [
    {
     "data": {
      "text/html": [
       "<div>\n",
       "<style scoped>\n",
       "    .dataframe tbody tr th:only-of-type {\n",
       "        vertical-align: middle;\n",
       "    }\n",
       "\n",
       "    .dataframe tbody tr th {\n",
       "        vertical-align: top;\n",
       "    }\n",
       "\n",
       "    .dataframe thead th {\n",
       "        text-align: right;\n",
       "    }\n",
       "</style>\n",
       "<table border=\"1\" class=\"dataframe\">\n",
       "  <thead>\n",
       "    <tr style=\"text-align: right;\">\n",
       "      <th></th>\n",
       "      <th>Country</th>\n",
       "      <th>Population 2022</th>\n",
       "      <th>Population 2023</th>\n",
       "      <th>Change %</th>\n",
       "      <th>Region</th>\n",
       "      <th>Official Language</th>\n",
       "      <th>Dog Population</th>\n",
       "      <th>Cat Population</th>\n",
       "      <th>Bird Population</th>\n",
       "      <th>Aquaria Population</th>\n",
       "      <th>Small Mammal Population</th>\n",
       "      <th>Terraria Population</th>\n",
       "      <th>dogs_per_capita</th>\n",
       "      <th>English</th>\n",
       "      <th>German</th>\n",
       "    </tr>\n",
       "  </thead>\n",
       "  <tbody>\n",
       "    <tr>\n",
       "      <th>0</th>\n",
       "      <td>World</td>\n",
       "      <td>8021407192</td>\n",
       "      <td>8091734930</td>\n",
       "      <td>0.88</td>\n",
       "      <td>WRLD - World</td>\n",
       "      <td>NaN</td>\n",
       "      <td>1.109094e+09</td>\n",
       "      <td>NaN</td>\n",
       "      <td>NaN</td>\n",
       "      <td>NaN</td>\n",
       "      <td>NaN</td>\n",
       "      <td>NaN</td>\n",
       "      <td>NaN</td>\n",
       "      <td>NaN</td>\n",
       "      <td>NaN</td>\n",
       "    </tr>\n",
       "    <tr>\n",
       "      <th>1</th>\n",
       "      <td>India</td>\n",
       "      <td>1425423212</td>\n",
       "      <td>1438069596</td>\n",
       "      <td>0.89</td>\n",
       "      <td>ASIA - South</td>\n",
       "      <td>Hindi, English</td>\n",
       "      <td>1.020000e+07</td>\n",
       "      <td>NaN</td>\n",
       "      <td>NaN</td>\n",
       "      <td>NaN</td>\n",
       "      <td>NaN</td>\n",
       "      <td>NaN</td>\n",
       "      <td>0.007093</td>\n",
       "      <td>True</td>\n",
       "      <td>False</td>\n",
       "    </tr>\n",
       "    <tr>\n",
       "      <th>2</th>\n",
       "      <td>China [a]</td>\n",
       "      <td>1425179569</td>\n",
       "      <td>1422584933</td>\n",
       "      <td>-0.18</td>\n",
       "      <td>ASIA - East</td>\n",
       "      <td>Standard Chinese</td>\n",
       "      <td>2.740000e+07</td>\n",
       "      <td>53100000.0</td>\n",
       "      <td>NaN</td>\n",
       "      <td>NaN</td>\n",
       "      <td>NaN</td>\n",
       "      <td>NaN</td>\n",
       "      <td>0.019261</td>\n",
       "      <td>False</td>\n",
       "      <td>False</td>\n",
       "    </tr>\n",
       "    <tr>\n",
       "      <th>3</th>\n",
       "      <td>United States</td>\n",
       "      <td>341534046</td>\n",
       "      <td>343477335</td>\n",
       "      <td>0.57</td>\n",
       "      <td>AMER - North</td>\n",
       "      <td>English</td>\n",
       "      <td>6.992900e+07</td>\n",
       "      <td>74059000.0</td>\n",
       "      <td>8300000.0</td>\n",
       "      <td>NaN</td>\n",
       "      <td>NaN</td>\n",
       "      <td>NaN</td>\n",
       "      <td>0.203591</td>\n",
       "      <td>True</td>\n",
       "      <td>False</td>\n",
       "    </tr>\n",
       "    <tr>\n",
       "      <th>4</th>\n",
       "      <td>Indonesia</td>\n",
       "      <td>278830529</td>\n",
       "      <td>281190067</td>\n",
       "      <td>0.85</td>\n",
       "      <td>ASIA - Southeast</td>\n",
       "      <td>Indonesian</td>\n",
       "      <td>3.854132e+07</td>\n",
       "      <td>NaN</td>\n",
       "      <td>NaN</td>\n",
       "      <td>NaN</td>\n",
       "      <td>NaN</td>\n",
       "      <td>NaN</td>\n",
       "      <td>NaN</td>\n",
       "      <td>False</td>\n",
       "      <td>False</td>\n",
       "    </tr>\n",
       "  </tbody>\n",
       "</table>\n",
       "</div>"
      ],
      "text/plain": [
       "         Country  Population 2022  Population 2023  Change %  \\\n",
       "0          World       8021407192       8091734930      0.88   \n",
       "1          India       1425423212       1438069596      0.89   \n",
       "2      China [a]       1425179569       1422584933     -0.18   \n",
       "3  United States        341534046        343477335      0.57   \n",
       "4      Indonesia        278830529        281190067      0.85   \n",
       "\n",
       "             Region Official Language  Dog Population  Cat Population  \\\n",
       "0      WRLD - World               NaN    1.109094e+09             NaN   \n",
       "1      ASIA - South    Hindi, English    1.020000e+07             NaN   \n",
       "2       ASIA - East  Standard Chinese    2.740000e+07      53100000.0   \n",
       "3      AMER - North           English    6.992900e+07      74059000.0   \n",
       "4  ASIA - Southeast        Indonesian    3.854132e+07             NaN   \n",
       "\n",
       "   Bird Population  Aquaria Population  Small Mammal Population  \\\n",
       "0              NaN                 NaN                      NaN   \n",
       "1              NaN                 NaN                      NaN   \n",
       "2              NaN                 NaN                      NaN   \n",
       "3        8300000.0                 NaN                      NaN   \n",
       "4              NaN                 NaN                      NaN   \n",
       "\n",
       "   Terraria Population  dogs_per_capita English German  \n",
       "0                  NaN              NaN     NaN    NaN  \n",
       "1                  NaN         0.007093    True  False  \n",
       "2                  NaN         0.019261   False  False  \n",
       "3                  NaN         0.203591    True  False  \n",
       "4                  NaN              NaN   False  False  "
      ]
     },
     "execution_count": 54,
     "metadata": {},
     "output_type": "execute_result"
    }
   ],
   "source": [
    "df.head()"
   ]
  },
  {
   "cell_type": "code",
   "execution_count": 55,
   "id": "413d7005-8299-40ca-a6d6-0151b2d05c63",
   "metadata": {},
   "outputs": [
    {
     "data": {
      "text/plain": [
       "['China ', 'a]']"
      ]
     },
     "execution_count": 55,
     "metadata": {},
     "output_type": "execute_result"
    }
   ],
   "source": [
    "text = \"China [a]\"\n",
    "substrings = text.split(\"[\")\n",
    "substrings"
   ]
  },
  {
   "cell_type": "code",
   "execution_count": 56,
   "id": "523da589-cb8b-41ac-af36-7bd12059b8b3",
   "metadata": {},
   "outputs": [
    {
     "data": {
      "text/plain": [
       "2"
      ]
     },
     "execution_count": 56,
     "metadata": {},
     "output_type": "execute_result"
    }
   ],
   "source": [
    "len(substrings)"
   ]
  },
  {
   "cell_type": "code",
   "execution_count": 57,
   "id": "eecfcf44-5fa8-4c33-a3ee-5c090303fdad",
   "metadata": {},
   "outputs": [
    {
     "data": {
      "text/plain": [
       "'China '"
      ]
     },
     "execution_count": 57,
     "metadata": {},
     "output_type": "execute_result"
    }
   ],
   "source": [
    "substrings[0]"
   ]
  },
  {
   "cell_type": "code",
   "execution_count": 58,
   "id": "0a9929d1-9a6d-45ab-b631-f2d18d66c9b2",
   "metadata": {},
   "outputs": [
    {
     "data": {
      "text/plain": [
       "0                                  [World]\n",
       "1                                  [India]\n",
       "2                             [China , a]]\n",
       "3                          [United States]\n",
       "4                              [Indonesia]\n",
       "                      ...                 \n",
       "233          [Montserrat (United Kingdom)]\n",
       "234    [Falkland Islands (United Kingdom)]\n",
       "235                [Tokelau (New Zealand)]\n",
       "236                   [Niue (New Zealand)]\n",
       "237                    [Vatican City , x]]\n",
       "Name: Country, Length: 238, dtype: object"
      ]
     },
     "execution_count": 58,
     "metadata": {},
     "output_type": "execute_result"
    }
   ],
   "source": [
    "df[\"Country\"].str.split(\"[\")"
   ]
  },
  {
   "cell_type": "code",
   "execution_count": 59,
   "id": "b6094ec3-aabf-4f2e-8157-cd71e4e94cc0",
   "metadata": {},
   "outputs": [
    {
     "data": {
      "text/plain": [
       "['World']"
      ]
     },
     "execution_count": 59,
     "metadata": {},
     "output_type": "execute_result"
    }
   ],
   "source": [
    "df[\"Country\"].str.split(\"[\")[0]"
   ]
  },
  {
   "cell_type": "code",
   "execution_count": 60,
   "id": "2259fb2c-51ad-466e-8e56-58c622ca80c4",
   "metadata": {},
   "outputs": [],
   "source": [
    "df[\"Country\"] = df[\"Country\"].str.split(\"[\").str[0]"
   ]
  },
  {
   "cell_type": "code",
   "execution_count": 61,
   "id": "23de30b3-74c8-4785-9cb1-520de1e66528",
   "metadata": {},
   "outputs": [
    {
     "data": {
      "text/plain": [
       "np.int64(0)"
      ]
     },
     "execution_count": 61,
     "metadata": {},
     "output_type": "execute_result"
    }
   ],
   "source": [
    "df[\"Country\"].str.contains(\"]\").sum()"
   ]
  },
  {
   "cell_type": "code",
   "execution_count": 62,
   "id": "266f547b-4a0a-414b-b019-9c2ab1e70583",
   "metadata": {},
   "outputs": [
    {
     "data": {
      "text/plain": [
       "0            World\n",
       "1            India\n",
       "2           China \n",
       "3    United States\n",
       "4        Indonesia\n",
       "Name: Country, dtype: object"
      ]
     },
     "execution_count": 62,
     "metadata": {},
     "output_type": "execute_result"
    }
   ],
   "source": [
    "df[\"Country\"].head()"
   ]
  },
  {
   "cell_type": "code",
   "execution_count": 63,
   "id": "0e589cdf-d8b7-4e8e-aeef-94a12b8225b0",
   "metadata": {},
   "outputs": [],
   "source": [
    "df[\"Country\"] = df[\"Country\"].str.strip()"
   ]
  },
  {
   "cell_type": "code",
   "execution_count": 64,
   "id": "e2efdf8b-d785-48c7-95c8-c0903a0ccd77",
   "metadata": {},
   "outputs": [
    {
     "data": {
      "text/plain": [
       "0            World\n",
       "1            India\n",
       "2            China\n",
       "3    United States\n",
       "4        Indonesia\n",
       "Name: Country, dtype: object"
      ]
     },
     "execution_count": 64,
     "metadata": {},
     "output_type": "execute_result"
    }
   ],
   "source": [
    "df[\"Country\"].head()"
   ]
  },
  {
   "cell_type": "code",
   "execution_count": null,
   "id": "c96c5d3f-d280-4864-9206-6c8cf006d735",
   "metadata": {},
   "outputs": [],
   "source": []
  },
  {
   "cell_type": "code",
   "execution_count": null,
   "id": "dc2d747f-57a9-45aa-beb8-0ea979198d34",
   "metadata": {},
   "outputs": [],
   "source": []
  },
  {
   "cell_type": "code",
   "execution_count": null,
   "id": "db0d1bc8-ddc3-483d-ba25-dd708b1397cc",
   "metadata": {},
   "outputs": [],
   "source": []
  },
  {
   "cell_type": "code",
   "execution_count": null,
   "id": "83927a95-f9cc-4780-8c5e-fb490dd5861d",
   "metadata": {},
   "outputs": [],
   "source": []
  },
  {
   "cell_type": "code",
   "execution_count": null,
   "id": "445ce8b3-1edf-4da4-8f20-b6df14a564e9",
   "metadata": {},
   "outputs": [],
   "source": []
  },
  {
   "cell_type": "code",
   "execution_count": null,
   "id": "567b7010-253c-4d4a-b9d8-4839ec80ebd2",
   "metadata": {},
   "outputs": [],
   "source": []
  },
  {
   "cell_type": "code",
   "execution_count": null,
   "id": "f22eb240-fdc4-426e-85a3-feafbf08c727",
   "metadata": {},
   "outputs": [],
   "source": []
  },
  {
   "cell_type": "code",
   "execution_count": null,
   "id": "193e212d-86f1-4797-b7b0-6fdf3390b99d",
   "metadata": {},
   "outputs": [],
   "source": []
  },
  {
   "cell_type": "code",
   "execution_count": null,
   "id": "b1993c83-559a-46ed-a33f-ada1bc285971",
   "metadata": {},
   "outputs": [],
   "source": []
  },
  {
   "cell_type": "code",
   "execution_count": null,
   "id": "0df898f4-5377-4ed5-bf57-25f02a79506b",
   "metadata": {},
   "outputs": [],
   "source": []
  },
  {
   "cell_type": "code",
   "execution_count": null,
   "id": "4dda3e64-37eb-4232-aa58-ff11a63a021e",
   "metadata": {},
   "outputs": [],
   "source": []
  },
  {
   "cell_type": "code",
   "execution_count": null,
   "id": "d200c5af-aa43-4f81-894c-ec85a4527a09",
   "metadata": {},
   "outputs": [],
   "source": []
  },
  {
   "cell_type": "code",
   "execution_count": null,
   "id": "81140fb2-ebb3-493c-a601-14d34ab21127",
   "metadata": {},
   "outputs": [],
   "source": []
  },
  {
   "cell_type": "code",
   "execution_count": null,
   "id": "8074f97c-7b3e-45d9-977b-2a11e858f715",
   "metadata": {},
   "outputs": [],
   "source": []
  },
  {
   "cell_type": "code",
   "execution_count": null,
   "id": "44f791e5-ff43-4f3f-9cd2-464601528ac8",
   "metadata": {},
   "outputs": [],
   "source": []
  },
  {
   "cell_type": "code",
   "execution_count": null,
   "id": "74b4c304-1082-492f-8d43-b616ff36d0a1",
   "metadata": {},
   "outputs": [],
   "source": []
  },
  {
   "cell_type": "code",
   "execution_count": null,
   "id": "053a84de-8734-4415-a7d0-3e4e3d8195d1",
   "metadata": {},
   "outputs": [],
   "source": []
  },
  {
   "cell_type": "code",
   "execution_count": null,
   "id": "dad3934b-bfd4-432f-9aa7-24d329875d04",
   "metadata": {},
   "outputs": [],
   "source": []
  },
  {
   "cell_type": "code",
   "execution_count": null,
   "id": "771ed1fa-9e03-4f39-b0f8-c3b7fc62e2ae",
   "metadata": {},
   "outputs": [],
   "source": []
  },
  {
   "cell_type": "code",
   "execution_count": null,
   "id": "78442c47-eb4d-4452-ba20-951bbd738fc2",
   "metadata": {},
   "outputs": [],
   "source": []
  },
  {
   "cell_type": "code",
   "execution_count": null,
   "id": "03c54cd2-67e6-4abb-88f4-c549ae6f4038",
   "metadata": {},
   "outputs": [],
   "source": []
  },
  {
   "cell_type": "code",
   "execution_count": null,
   "id": "f73029f3-7d46-499c-8d1c-a502d9b77396",
   "metadata": {},
   "outputs": [],
   "source": []
  },
  {
   "cell_type": "code",
   "execution_count": null,
   "id": "f7239cbb-9c5d-46ab-b4da-473d585bbaff",
   "metadata": {},
   "outputs": [],
   "source": []
  },
  {
   "cell_type": "code",
   "execution_count": null,
   "id": "150a06ca-2388-44e0-a705-8ca6ec56c875",
   "metadata": {},
   "outputs": [],
   "source": []
  },
  {
   "cell_type": "code",
   "execution_count": null,
   "id": "1fd16405-8e4f-4b31-a1ff-6fb4a73ace3a",
   "metadata": {},
   "outputs": [],
   "source": []
  },
  {
   "cell_type": "code",
   "execution_count": null,
   "id": "a7433b52-d8a8-457d-af5c-50d375c52b6e",
   "metadata": {},
   "outputs": [],
   "source": []
  },
  {
   "cell_type": "code",
   "execution_count": null,
   "id": "a0fdadf4-31cf-40f4-b120-f872ab978f75",
   "metadata": {},
   "outputs": [],
   "source": []
  },
  {
   "cell_type": "code",
   "execution_count": null,
   "id": "6fdb36f3-f7d0-4512-9aa1-5ed2a52316c5",
   "metadata": {},
   "outputs": [],
   "source": []
  },
  {
   "cell_type": "code",
   "execution_count": null,
   "id": "60221575-9c99-40ef-84b2-cc6795afd604",
   "metadata": {},
   "outputs": [],
   "source": []
  },
  {
   "cell_type": "code",
   "execution_count": null,
   "id": "4548cc12-0840-439e-9364-14c2a14f7aa3",
   "metadata": {},
   "outputs": [],
   "source": []
  },
  {
   "cell_type": "code",
   "execution_count": null,
   "id": "56ca8c36-e69d-4685-aca7-68f49d5139d3",
   "metadata": {},
   "outputs": [],
   "source": []
  },
  {
   "cell_type": "code",
   "execution_count": null,
   "id": "f7496df3-c714-42ea-95fd-b71b7bd42973",
   "metadata": {},
   "outputs": [],
   "source": []
  },
  {
   "cell_type": "code",
   "execution_count": null,
   "id": "636ee858-86b4-4017-914d-3e9d85ea2cee",
   "metadata": {},
   "outputs": [],
   "source": []
  },
  {
   "cell_type": "code",
   "execution_count": null,
   "id": "721c7253-6e9b-4354-88e8-a4c343b1e6b4",
   "metadata": {},
   "outputs": [],
   "source": []
  },
  {
   "cell_type": "code",
   "execution_count": null,
   "id": "db1e3f7b-941e-4146-934b-953714bc51b2",
   "metadata": {},
   "outputs": [],
   "source": []
  },
  {
   "cell_type": "code",
   "execution_count": null,
   "id": "0867f810-486b-4242-9f72-a38f45ab4bfd",
   "metadata": {},
   "outputs": [],
   "source": []
  },
  {
   "cell_type": "code",
   "execution_count": null,
   "id": "e1f56882-b003-4fb2-8d08-bd0d2b38bb94",
   "metadata": {},
   "outputs": [],
   "source": []
  },
  {
   "cell_type": "code",
   "execution_count": null,
   "id": "32225a2b-2bb3-4d05-9685-11dc4cbd148a",
   "metadata": {},
   "outputs": [],
   "source": []
  },
  {
   "cell_type": "code",
   "execution_count": null,
   "id": "a7d0f2d3-1a3e-413a-9ee5-bf8a777b39ef",
   "metadata": {},
   "outputs": [],
   "source": []
  },
  {
   "cell_type": "code",
   "execution_count": null,
   "id": "b7012646-9b22-43a8-88c7-e7e1f20728cd",
   "metadata": {},
   "outputs": [],
   "source": []
  },
  {
   "cell_type": "code",
   "execution_count": null,
   "id": "37a61d9d-9a2f-4056-8c87-5875f8b49bb7",
   "metadata": {},
   "outputs": [],
   "source": []
  },
  {
   "cell_type": "code",
   "execution_count": null,
   "id": "7d67f029-bad6-4d2d-903a-760064316d1f",
   "metadata": {},
   "outputs": [],
   "source": []
  },
  {
   "cell_type": "code",
   "execution_count": null,
   "id": "eac542e4-36a9-4453-8d32-10f599b755e0",
   "metadata": {},
   "outputs": [],
   "source": []
  },
  {
   "cell_type": "code",
   "execution_count": null,
   "id": "16abe0cd-b5d6-48b2-bea2-f540155218f3",
   "metadata": {},
   "outputs": [],
   "source": []
  },
  {
   "cell_type": "code",
   "execution_count": null,
   "id": "95480d3e-3e6d-453e-8610-f39f271db08b",
   "metadata": {},
   "outputs": [],
   "source": []
  },
  {
   "cell_type": "code",
   "execution_count": null,
   "id": "3bbcbe59-c02c-42d8-87ec-6b6bb7a15795",
   "metadata": {},
   "outputs": [],
   "source": []
  },
  {
   "cell_type": "code",
   "execution_count": null,
   "id": "95eaadd7-265c-430d-9532-6f573844c54e",
   "metadata": {},
   "outputs": [],
   "source": []
  },
  {
   "cell_type": "code",
   "execution_count": null,
   "id": "91fdc278-7673-4d80-b792-606df58d436e",
   "metadata": {},
   "outputs": [],
   "source": []
  },
  {
   "cell_type": "code",
   "execution_count": null,
   "id": "0191fb3c-6d45-46bb-98bb-333668a79bbb",
   "metadata": {},
   "outputs": [],
   "source": []
  },
  {
   "cell_type": "code",
   "execution_count": null,
   "id": "f0370775-4e2c-4d1d-9e8c-c857621f3f85",
   "metadata": {},
   "outputs": [],
   "source": []
  },
  {
   "cell_type": "code",
   "execution_count": null,
   "id": "37195859-9632-4fd0-b91b-94cbb76a0a14",
   "metadata": {},
   "outputs": [],
   "source": []
  },
  {
   "cell_type": "code",
   "execution_count": null,
   "id": "0f01b682-f21d-42a8-8349-6d8c31e24806",
   "metadata": {},
   "outputs": [],
   "source": []
  },
  {
   "cell_type": "code",
   "execution_count": null,
   "id": "7f50787e-b31b-47b7-9917-6f963846e6bd",
   "metadata": {},
   "outputs": [],
   "source": []
  },
  {
   "cell_type": "code",
   "execution_count": null,
   "id": "84dfff4e-a9c9-4416-ab87-b05200bcc9a2",
   "metadata": {},
   "outputs": [],
   "source": []
  },
  {
   "cell_type": "code",
   "execution_count": null,
   "id": "752e2094-4688-4dab-8d3b-0d1d30f5885d",
   "metadata": {},
   "outputs": [],
   "source": []
  },
  {
   "cell_type": "code",
   "execution_count": null,
   "id": "ed150721-1796-4556-a8e6-67c93e66a9af",
   "metadata": {},
   "outputs": [],
   "source": []
  },
  {
   "cell_type": "code",
   "execution_count": null,
   "id": "3415bdc3-05a3-448b-b88d-a9573f7f957e",
   "metadata": {},
   "outputs": [],
   "source": []
  },
  {
   "cell_type": "code",
   "execution_count": null,
   "id": "aa4c736a-09af-4459-8a36-cff3d7ca4d38",
   "metadata": {},
   "outputs": [],
   "source": []
  },
  {
   "cell_type": "code",
   "execution_count": null,
   "id": "6d3d69df-491d-4d02-bdd6-c36158932b2d",
   "metadata": {},
   "outputs": [],
   "source": []
  },
  {
   "cell_type": "code",
   "execution_count": null,
   "id": "0c462150-edbf-41a9-8e30-b10a64dc1100",
   "metadata": {},
   "outputs": [],
   "source": []
  },
  {
   "cell_type": "code",
   "execution_count": null,
   "id": "fad81683-f45f-44ea-b10a-3101b4171401",
   "metadata": {},
   "outputs": [],
   "source": []
  },
  {
   "cell_type": "code",
   "execution_count": null,
   "id": "35ecad72-7647-49b1-ae25-493e892a885d",
   "metadata": {},
   "outputs": [],
   "source": []
  },
  {
   "cell_type": "code",
   "execution_count": null,
   "id": "089ab7a0-6c12-44f1-a65d-d74b3c9eb555",
   "metadata": {},
   "outputs": [],
   "source": []
  },
  {
   "cell_type": "code",
   "execution_count": null,
   "id": "10bfb60d-535d-45ca-9d54-f5df22b78438",
   "metadata": {},
   "outputs": [],
   "source": []
  },
  {
   "cell_type": "code",
   "execution_count": null,
   "id": "ced0eb6e-7aef-4513-a6fc-77952ba1ecbf",
   "metadata": {},
   "outputs": [],
   "source": []
  },
  {
   "cell_type": "code",
   "execution_count": null,
   "id": "51c2cd72-9e7c-4ac2-ab11-18f8fb8fa621",
   "metadata": {},
   "outputs": [],
   "source": []
  },
  {
   "cell_type": "code",
   "execution_count": null,
   "id": "f97cd3bf-f756-410d-94f7-26e60ffcb470",
   "metadata": {},
   "outputs": [],
   "source": []
  },
  {
   "cell_type": "code",
   "execution_count": null,
   "id": "4e312a3f-5b58-4610-bdb3-fbd81bf38a86",
   "metadata": {},
   "outputs": [],
   "source": []
  }
 ],
 "metadata": {
  "kernelspec": {
   "display_name": "Python 3 (ipykernel)",
   "language": "python",
   "name": "python3"
  },
  "language_info": {
   "codemirror_mode": {
    "name": "ipython",
    "version": 3
   },
   "file_extension": ".py",
   "mimetype": "text/x-python",
   "name": "python",
   "nbconvert_exporter": "python",
   "pygments_lexer": "ipython3",
   "version": "3.11.6"
  }
 },
 "nbformat": 4,
 "nbformat_minor": 5
}

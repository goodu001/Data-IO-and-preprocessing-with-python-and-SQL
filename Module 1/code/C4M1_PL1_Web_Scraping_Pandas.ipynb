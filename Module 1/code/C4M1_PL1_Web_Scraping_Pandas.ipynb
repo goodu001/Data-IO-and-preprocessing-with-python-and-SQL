{
 "cells": [
  {
   "cell_type": "markdown",
   "metadata": {},
   "source": [
    "# Practice Lab: Web Scraping with Pandas\n",
    "\n",
    "In this lab, you will practice how to scrape data from a webpage using Python. You will use the `pandas` library to extract tables from a webpage and perform some basic data analysis.\n",
    "\n",
    "You are interested in finding out in which countries people are more dog lovers and where they are more cat lovers. In the demo videos, you have already seen how a webpage can be scraped. Now you will use this same webpage and extract information about cats and dogs to analyze it.\n",
    "\n",
    "## General instructions\n",
    "- **Replace any instances of `None` with your own code**. All `None`s must be replaced.\n",
    "- **Compare your results with the expected output** shown below the code.\n",
    "- **Check the solution** using the expandable cell to verify your answer. If needed, you can copy the code and paste it into the cell\n",
    "\n",
    "Happy coding!\n",
    "\n",
    "<div style=\"background-color: #FAD888; padding: 10px; border-radius: 3px; box-shadow: 0 2px 4px rgba(0, 0, 0, 0.1); width:95%\n",
    "\">\n",
    "<strong>Important note</strong>: Code blocks with None will not run properly. If you run them before completing the exercise, you will likely get an error. \n",
    "</div>"
   ]
  },
  {
   "cell_type": "markdown",
   "metadata": {},
   "source": [
    "## Table of contents\n",
    "- [Step 1: Import modules](#import-modules)\n",
    "- [Step 2: Extract tables from webpage](#extract-tables)\n",
    "- [Step 3: Analyze the data](#analyze-data)"
   ]
  },
  {
   "cell_type": "markdown",
   "metadata": {},
   "source": [
    "<a id=\"import-modules\"></a>\n",
    "\n",
    "## Step 1: Import modules\n",
    "First, you need to import the necessary modules. In this case, you will use `pandas`."
   ]
  },
  {
   "cell_type": "code",
   "execution_count": null,
   "metadata": {},
   "outputs": [],
   "source": [
    "import pandas as pd"
   ]
  },
  {
   "cell_type": "markdown",
   "metadata": {},
   "source": [
    "<a id=\"extract-tables\"></a>\n",
    "\n",
    "## Step 2: Extract tables from webpage\n",
    "Use the `pd.read_html()` function to extract all tables from the webpage. The URL of the webpage is provided below.\n",
    "\n",
    "<div style=\"background-color: #C6E2FF; padding: 10px; border-radius: 3px; box-shadow: 0 2px 4px rgba(0, 0, 0, 0.1); width:95%\n",
    "\">\n",
    "    <strong>▶▶▶ Directions</strong> \n",
    "        <ol>\n",
    "            <li>Extract all tables from the webpage.</li>\n",
    "            <ul>\n",
    "                <li>Use the <code>pandas.read_html()</code> function.</li>\n",
    "                <li>Pass the web address as the parameter.</li>\n",
    "            </ul>\n",
    "        </ol>\n",
    "</div>"
   ]
  },
  {
   "cell_type": "code",
   "execution_count": null,
   "metadata": {},
   "outputs": [],
   "source": [
    "URL = \"https://dlai-lc-dag.s3.us-east-2.amazonaws.com/countries_and_pet_population.html\"\n",
    "\n",
    "### START CODE HERE ###\n",
    "\n",
    "# Get the tables from the webpage\n",
    "tables = None\n",
    "\n",
    "### END CODE HERE ###"
   ]
  },
  {
   "cell_type": "markdown",
   "metadata": {},
   "source": [
    "<details>\n",
    "<summary style=\"background-color: #FDBFC7; padding: 10px; border-radius: 3px; box-shadow: 0 2px 4px rgba(0, 0, 0, 0.1); width: 95%; text-align: left; cursor: pointer; font-weight: bold;\">\n",
    "Click here to see the solution</summary> \n",
    "\n",
    "<ul style=\"background-color: #FFF8F8; padding: 10px; border-radius: 3px; margin-top: 5px; width: 95%; box-shadow: inset 0 2px 4px rgba(0, 0, 0, 0.1);\">\n",
    "   \n",
    "Your solution should look something like this:\n",
    "\n",
    "```python\n",
    "tables = pd.read_html(URL)\n",
    "```\n",
    "</details>"
   ]
  },
  {
   "cell_type": "markdown",
   "metadata": {},
   "source": [
    "Check the type of the variable `tables` to ensure it is a list."
   ]
  },
  {
   "cell_type": "code",
   "execution_count": null,
   "metadata": {},
   "outputs": [],
   "source": [
    "# Check what type of variable tables is\n",
    "type(tables)"
   ]
  },
  {
   "cell_type": "markdown",
   "metadata": {},
   "source": [
    "<details open>\n",
    "<summary style=\"background-color: #c6e2ff6c; padding: 10px; border-radius: 3px; box-shadow: 0 2px 4px rgba(0, 0, 0, 0.01); width: 95%; text-align: left; cursor: pointer; font-weight: bold;\">\n",
    "Expected output:</summary> \n",
    "\n",
    "\n",
    "```\n",
    "list\n",
    "```\n",
    "\n",
    "</details>"
   ]
  },
  {
   "cell_type": "markdown",
   "metadata": {},
   "source": [
    "Look at the number of tables found on the webpage."
   ]
  },
  {
   "cell_type": "code",
   "execution_count": null,
   "metadata": {},
   "outputs": [],
   "source": [
    "# Look at the number of tables found on the webpage\n",
    "len(tables)"
   ]
  },
  {
   "cell_type": "markdown",
   "metadata": {},
   "source": [
    "<details open>\n",
    "<summary style=\"background-color: #c6e2ff6c; padding: 10px; border-radius: 3px; box-shadow: 0 2px 4px rgba(0, 0, 0, 0.01); width: 95%; text-align: left; cursor: pointer; font-weight: bold;\">\n",
    "Expected output:</summary> \n",
    "\n",
    "\n",
    "```\n",
    "1\n",
    "```\n",
    "\n",
    "</details>"
   ]
  },
  {
   "cell_type": "markdown",
   "metadata": {},
   "source": [
    "If you have done the above part correctly, the `tables` variable should be list that contains a single table from the webpage."
   ]
  },
  {
   "cell_type": "markdown",
   "metadata": {},
   "source": [
    "<div style=\"background-color: #C6E2FF; padding: 10px; border-radius: 3px; box-shadow: 0 2px 4px rgba(0, 0, 0, 0.1); width:95%\n",
    "\">\n",
    "    <strong>▶▶▶ Directions</strong> \n",
    "        <ol>\n",
    "            <li>Extract the population table from the tables list.</li>\n",
    "            <ul>\n",
    "                <li>Access the first (and only) table in the list and assign it to the variable <code>df</code>.</li>\n",
    "                <li>Display the first five rows of the populations table using <code>.head()</code>.</li>\n",
    "            </ul>\n",
    "        </ol>\n",
    "</div>"
   ]
  },
  {
   "cell_type": "code",
   "execution_count": null,
   "metadata": {},
   "outputs": [],
   "source": [
    "### START CODE HERE ###\n",
    "\n",
    "# Extract the first table from the list\n",
    "df = None\n",
    "\n",
    "# Display the first few rows of the table\n",
    "None\n",
    "\n",
    "### END CODE HERE ###"
   ]
  },
  {
   "cell_type": "markdown",
   "metadata": {},
   "source": [
    "<details open>\n",
    "<summary style=\"background-color: #c6e2ff6c; padding: 10px; border-radius: 3px; box-shadow: 0 2px 4px rgba(0, 0, 0, 0.01); width: 95%; text-align: left; cursor: pointer; font-weight: bold;\">\n",
    "Expected output:</summary> \n",
    "\n",
    "\n",
    "<img src=\"imgsL2/output_step2.png\">\n",
    "\n",
    "</details>"
   ]
  },
  {
   "cell_type": "markdown",
   "metadata": {},
   "source": [
    "<details>\n",
    "<summary style=\"background-color: #FDBFC7; padding: 10px; border-radius: 3px; box-shadow: 0 2px 4px rgba(0, 0, 0, 0.1); width: 95%; text-align: left; cursor: pointer; font-weight: bold;\">\n",
    "Click here to see the solution</summary> \n",
    "\n",
    "<ul style=\"background-color: #FFF8F8; padding: 10px; border-radius: 3px; margin-top: 5px; width: 95%; box-shadow: inset 0 2px 4px rgba(0, 0, 0, 0.1);\">\n",
    "   \n",
    "Your solution should look something like this:\n",
    "\n",
    "```python\n",
    "# Extract the first table from the list\n",
    "df = tables[0]\n",
    "\n",
    "# Display the first few rows of the table\n",
    "df.head()\n",
    "```\n",
    "</details>"
   ]
  },
  {
   "cell_type": "markdown",
   "metadata": {},
   "source": [
    "<a id=\"analyze-data\"></a>\n",
    "\n",
    "## Step 3: Analyze the data\n",
    "\n",
    "Now that you have your data, it is time to have a look at it. Run the cell below to inspect the columns in the table."
   ]
  },
  {
   "cell_type": "code",
   "execution_count": null,
   "metadata": {},
   "outputs": [],
   "source": [
    "df.info()"
   ]
  },
  {
   "cell_type": "markdown",
   "metadata": {},
   "source": [
    "<details open>\n",
    "<summary style=\"background-color: #c6e2ff6c; padding: 10px; border-radius: 3px; box-shadow: 0 2px 4px rgba(0, 0, 0, 0.01); width: 95%; text-align: left; cursor: pointer; font-weight: bold;\">\n",
    "Expected output:</summary> \n",
    "\n",
    "\n",
    "```\n",
    "<class 'pandas.core.frame.DataFrame'>\n",
    "RangeIndex: 238 entries, 0 to 237\n",
    "Data columns (total 13 columns):\n",
    " #   Column                   Non-Null Count  Dtype  \n",
    "---  ------                   --------------  -----  \n",
    " 0   Country                  238 non-null    object \n",
    " 1   Population 2022          238 non-null    int64  \n",
    " 2   Population 2023          238 non-null    int64  \n",
    " 3   Change %                 238 non-null    object \n",
    " 4   Region                   238 non-null    object \n",
    " 5   Official Language        191 non-null    object \n",
    " 6   Dog Population           38 non-null     float64\n",
    " 7   Cat Population           35 non-null     float64\n",
    " 8   Bird Population          32 non-null     float64\n",
    " 9   Aquaria Population       29 non-null     float64\n",
    " 10  Small Mammal Population  29 non-null     float64\n",
    " 11  Terraria Population      27 non-null     float64\n",
    " 12  Animal Story             77 non-null     object \n",
    "dtypes: float64(6), int64(2), object(5)\n",
    "memory usage: 24.3+ KB\n",
    "```\n",
    "\n",
    "</details>"
   ]
  },
  {
   "cell_type": "markdown",
   "metadata": {},
   "source": [
    "### Cat and dog loving countries\n",
    "\n",
    "Now you can have a look at which countries prefer cats and which countries prefer dogs. You can see in the output above that both Cat Population, as well as Dog Population columns are already in a numeric (float64) format, so you don't need to do any type casting. However, if you look at the table, you will see that not all the rows have data for both cat and dog population. So to make your results consistent, you will first fill any missing values with a value based on the average number of dogs and cats per capita. Then you will create another column, that you will populate with \"cat\" if there are more cats in the country and \"dog\" if there are more dogs.\n",
    "\n",
    "<div style=\"background-color: #C6E2FF; padding: 10px; border-radius: 3px; box-shadow: 0 2px 4px rgba(0, 0, 0, 0.1); width:95%\n",
    "\">\n",
    "    <strong>▶▶▶ Directions</strong> \n",
    "        <ol>\n",
    "            <li>Use the cell below to figure out which countries have more cats and which have more dogs. </li>\n",
    "            <ul>\n",
    "                <li>Find the number of dogs per capita and take the mean value. You are given the code, as this was done in the demos</li>\n",
    "                <li>Use the average number of dogs per capita and the population values to fill any missing values in <code>Dog Population</code>. You are given the code, as this was done in the demos</li>\n",
    "                <li>Find the number of cats per capita and take the mean value. Use a similar structure as the items above</li>\n",
    "                <li>Use the cats per capita and the population values to fill any missing values in <code>Cat Population</code>. Use a similar structure as the items above</li>\n",
    "                <li>Create a new column <code>Cats > Dogs</code> which has the value <code>True</code> in it if there are more cats in the country than dogs and <code>False</code> if there are more dogs or there is an equal number of cats and dogs.</li>\n",
    "                <ul>\n",
    "                    <li>You can use the comparison operator <code>></code> to compare the two columns to achieve that.</li>\n",
    "                </ul>\n",
    "            </ul>\n",
    "        </ol>\n",
    "</div>"
   ]
  },
  {
   "cell_type": "code",
   "execution_count": null,
   "metadata": {},
   "outputs": [],
   "source": [
    "# Find the number of dogs per capita (as seen in demos)\n",
    "df[\"dogs_per_capita\"] = df[\"Dog Population\"] / df[\"Population 2023\"]\n",
    "\n",
    "# Find the mean number of dogs per capita\n",
    "mean_dogs_per_capita = df[\"dogs_per_capita\"].mean()\n",
    "\n",
    "df[\"Dog Population\"] = df[\"Dog Population\"].fillna(df[\"Population 2023\"] * mean_dogs_per_capita)\n",
    "\n",
    "### START CODE HERE ###\n",
    "\n",
    "# Find the number of cats per capita (as seen in demos)\n",
    "df[\"cats_per_capita\"] = None / None\n",
    "\n",
    "# Find the mean number of dogs per capita\n",
    "mean_cats_per_capita = df[\"cats_per_capita\"].None()\n",
    "\n",
    "df[\"Cat Population\"] = df[\"Cat Population\"].fillna(None)\n",
    "\n",
    "# Create a new column 'Cats > Dogs' that contains True if the number of cats is greater than the number of dogs and False otherwise\n",
    "df[\"Cats > Dogs\"] = df[None] > df[None]\n",
    "\n",
    "### END CODE HERE ###\n",
    "\n",
    "# Display the first few rows of the new dataframe\n",
    "df.head()"
   ]
  },
  {
   "cell_type": "markdown",
   "metadata": {},
   "source": [
    "<details open>\n",
    "<summary style=\"background-color: #c6e2ff6c; padding: 10px; border-radius: 3px; box-shadow: 0 2px 4px rgba(0, 0, 0, 0.01); width: 95%; text-align: left; cursor: pointer; font-weight: bold;\">\n",
    "Expected output:</summary> \n",
    "\n",
    "\n",
    "<img src=\"imgsL2/output_step3a.png\">\n",
    "\n",
    "</details>"
   ]
  },
  {
   "cell_type": "markdown",
   "metadata": {},
   "source": [
    "<details>\n",
    "<summary style=\"background-color: #FDBFC7; padding: 10px; border-radius: 3px; box-shadow: 0 2px 4px rgba(0, 0, 0, 0.1); width: 95%; text-align: left; cursor: pointer; font-weight: bold;\">\n",
    "Click here to see the solution</summary> \n",
    "\n",
    "<ul style=\"background-color: #FFF8F8; padding: 10px; border-radius: 3px; margin-top: 5px; width: 95%; box-shadow: inset 0 2px 4px rgba(0, 0, 0, 0.1);\">\n",
    "   \n",
    "Your solution should look something like this:\n",
    "\n",
    "```python\n",
    "# Find the number of cats per capita (as seen in demos)\n",
    "df[\"cats_per_capita\"] = df[\"Cat Population\"] / df[\"Population 2023\"]\n",
    "\n",
    "# Find the mean number of dogs per capita\n",
    "mean_cats_per_capita = df[\"cats_per_capita\"].mean()\n",
    "\n",
    "df[\"Cat Population\"] = df[\"Cat Population\"].fillna(df[\"Population 2023\"] * mean_cats_per_capita)\n",
    "\n",
    "# Create a new column 'Cats > Dogs' that contains True if the number of cats is greater than the number of dogs and False otherwise\n",
    "df[\"Cats > Dogs\"] = df[\"Cat Population\"] > df[\"Dog Population\"]\n",
    "```\n",
    "</details>"
   ]
  },
  {
   "cell_type": "markdown",
   "metadata": {},
   "source": [
    "<a id=\"average-population-by-continent\"></a>\n",
    "\n",
    "## Average population by continent\n",
    "\n",
    "You want to learn what is the total cat and dog population per continent. For that, you can extract the continent information from the <code>Region</code> column, by splitting the text on the dash and keeping the first term\n",
    "\n",
    "<div style=\"background-color: #C6E2FF; padding: 10px; border-radius: 3px; box-shadow: 0 2px 4px rgba(0, 0, 0, 0.1); width:95%\n",
    "\">\n",
    "    <strong>▶▶▶ Directions</strong> \n",
    "        <ol>\n",
    "            <li>Use the cell below to retrieve the continent from the <code>Region</code> columns. </li>\n",
    "            <ul>\n",
    "                <li>Use <code>.str.split()</code> with a dash <code>-</code> as the argument to split the region.</li>\n",
    "                <li>Use <code>[0]</code> to select the first item from the list to only keep the continent name.</li>\n",
    "                <li>In the end, remove the whitespace using <code>.str.strip()</code>.</li>\n",
    "            </ul>\n",
    "        </ol>\n",
    "</div>\n"
   ]
  },
  {
   "cell_type": "code",
   "execution_count": null,
   "metadata": {},
   "outputs": [],
   "source": [
    "### START CODE HERE ###\n",
    "\n",
    "# Clean the 'Region' column to remove citations\n",
    "df[\"Region\"] = None\n",
    "\n",
    "# Remove leading and trailing whitespaces from the 'Region' column\n",
    "df[\"Region\"] = None\n",
    "\n",
    "### END CODE HERE ###\n",
    "\n",
    "# Find the number of cats and dogs per continent\n",
    "df.groupby(\"Region\")[[\"Dog Population\", \"Cat Population\"]].sum()"
   ]
  },
  {
   "cell_type": "markdown",
   "metadata": {},
   "source": [
    "<details open>\n",
    "<summary style=\"background-color: #c6e2ff6c; padding: 10px; border-radius: 3px; box-shadow: 0 2px 4px rgba(0, 0, 0, 0.01); width: 95%; text-align: left; cursor: pointer; font-weight: bold;\">\n",
    "Expected output:</summary> \n",
    "\n",
    "\n",
    "<img src=\"imgsL2/output_pop_by_continent.png\" width=300>\n",
    "\n",
    "</details>"
   ]
  },
  {
   "cell_type": "markdown",
   "metadata": {},
   "source": [
    "<details>\n",
    "<summary style=\"background-color: #FDBFC7; padding: 10px; border-radius: 3px; box-shadow: 0 2px 4px rgba(0, 0, 0, 0.1); width: 95%; text-align: left; cursor: pointer; font-weight: bold;\">\n",
    "Click here to see the solution</summary> \n",
    "\n",
    "<ul style=\"background-color: #FFF8F8; padding: 10px; border-radius: 3px; margin-top: 5px; width: 95%; box-shadow: inset 0 2px 4px rgba(0, 0, 0, 0.1);\">\n",
    "   \n",
    "Your solution should look something like this:\n",
    "\n",
    "```python\n",
    "# Clean the 'Region' column to remove citations\n",
    "df[\"Region\"] = df[\"Region\"].str.split(\"-\").str[0]\n",
    "\n",
    "# Remove leading and trailing whitespaces from the 'Region' column\n",
    "df[\"Region\"] = df[\"Region\"].str.strip()\n",
    "```\n",
    "</details>"
   ]
  },
  {
   "cell_type": "markdown",
   "metadata": {},
   "source": [
    "<a id=\"plotting-a-map-of-the-countries\"></a>\n",
    "\n",
    "## Plotting a map of the countries (Bonus Exercise)\n",
    "\n",
    "Congratulations, you created a DataFrame that tells you which countries prefer cats and which countries prefer dogs. Now it would be nice if you could plot this on a world map. To do that you need to first clean up the `Country` column. You will be reusing the code from the demos\n",
    "\n",
    "Once the cleaning is done you can plot the map of the world and color the countries based on whether they have more cats or more dogs. This is something you are not expected to know out of the pocket (even the creator of this lab did not!), but you can use an LLM to help you. Ask your favourite model to help you finish this task. Make sure to ask the model to use \"plotly express\", as plotly is installed in this environment. Using other exotic libraries might lead you to more problems as they are likely not installed in this environment.\n",
    "\n",
    "In case you are familiar with this library already, feel free to try out the excercise without the help of LLM, or if you find it too challenging, you can copy the solution from below.\n",
    "\n",
    "<div style=\"background-color: #C6E2FF; padding: 10px; border-radius: 3px; box-shadow: 0 2px 4px rgba(0, 0, 0, 0.1); width:95%\n",
    "\">\n",
    "    <strong>▶▶▶ Directions</strong> \n",
    "        <ol>\n",
    "            <li>Use the cell below to clean up country names and plot the map showing if a country has more dogs or cats. </li>\n",
    "            <ul>\n",
    "                <li>Use the provided code to clean the country names. This is the same code you learned in the demos\n",
    "                <li>Create the map. </li>\n",
    "                <ul>\n",
    "                    <li>Ask an LLM to help you draw a map in python.</li>\n",
    "                    <li>You need to tell it what kind of a dataframe you have and what is in it.</li>\n",
    "                    <li>You need to tell it what kind of plot you want: specify the type, colors and any other important detail you can think of.</li>\n",
    "                    <li>Don't forget to tell the model which library you want it to use.</li>\n",
    "                </ul>\n",
    "            </ul>\n",
    "        </ol>\n",
    "</div>"
   ]
  },
  {
   "cell_type": "code",
   "execution_count": null,
   "metadata": {},
   "outputs": [],
   "source": [
    "import plotly.express as px\n",
    "\n",
    "# Clean the 'Country' column to remove citations\n",
    "df[\"Country\"] = df[\"Country\"].str.split(\"[\").str[0]\n",
    "\n",
    "# Remove leading and trailing whitespaces from the 'Country' column\n",
    "df[\"Country\"] = df[\"Country\"].str.strip()\n",
    "\n",
    "### START CODE HERE ###\n",
    "# Use this block to create the plot\n",
    "\n",
    "### END CODE HERE ###\n"
   ]
  },
  {
   "cell_type": "markdown",
   "metadata": {},
   "source": [
    "<details>\n",
    "<summary style=\"background-color: #FDBFC7; padding: 10px; border-radius: 3px; box-shadow: 0 2px 4px rgba(0, 0, 0, 0.1); width: 95%; text-align: left; cursor: pointer; font-weight: bold;\">\n",
    "Click here to see the solution</summary> \n",
    "\n",
    "<ul style=\"background-color: #FFF8F8; padding: 10px; border-radius: 3px; margin-top: 5px; width: 95%; box-shadow: inset 0 2px 4px rgba(0, 0, 0, 0.1);\">\n",
    "   \n",
    "Your solution should look something like this:\n",
    "\n",
    "```python\n",
    "# Define a color map\n",
    "color_map = {True: \"blue\", False: \"red\"}\n",
    "\n",
    "# Plot the map\n",
    "fig = px.choropleth(df, \n",
    "                    locations=\"Country\", \n",
    "                    locationmode=\"country names\",\n",
    "                    color=\"Cats > Dogs\",\n",
    "                    color_discrete_map=color_map,\n",
    "                    title=\"Countries with More Cats or Dogs\")\n",
    "\n",
    "# Show the plot\n",
    "fig.show()\n",
    "```\n",
    "</details>"
   ]
  },
  {
   "cell_type": "markdown",
   "metadata": {},
   "source": [
    "Do you come from any of the countries on the map? Check out whether your has more cats than dogs as pets. If not, maybe you find some other countries on the map interesting.\n",
    "\n",
    "Congratulations for making it until the end of this lab. Hope you enjoyed it! "
   ]
  }
 ],
 "metadata": {
  "kernelspec": {
   "display_name": "Python 3 (ipykernel)",
   "language": "python",
   "name": "python3"
  },
  "language_info": {
   "codemirror_mode": {
    "name": "ipython",
    "version": 3
   },
   "file_extension": ".py",
   "mimetype": "text/x-python",
   "name": "python",
   "nbconvert_exporter": "python",
   "pygments_lexer": "ipython3",
   "version": "3.11.6"
  }
 },
 "nbformat": 4,
 "nbformat_minor": 4
}

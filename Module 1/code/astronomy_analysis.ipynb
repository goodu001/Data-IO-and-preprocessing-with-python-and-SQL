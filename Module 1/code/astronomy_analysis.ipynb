{
 "cells": [
  {
   "cell_type": "markdown",
   "id": "11809611-bee1-4b53-a6d0-4cf4b543a466",
   "metadata": {},
   "source": [
    "# Astronomy Events Analysis"
   ]
  },
  {
   "cell_type": "code",
   "execution_count": 2,
   "id": "942fd798-3a25-464e-bb8b-7fc225caaf53",
   "metadata": {},
   "outputs": [],
   "source": [
    "import pandas as pd"
   ]
  },
  {
   "cell_type": "code",
   "execution_count": 3,
   "id": "08f6500d-626c-4f0f-9115-f3894e886ef6",
   "metadata": {},
   "outputs": [],
   "source": [
    "url = \"http://www.seasky.org/astronomy/astronomy-calendar-2030.html\""
   ]
  },
  {
   "cell_type": "code",
   "execution_count": null,
   "id": "2e5ddf5f-5e48-4d38-8b2f-b763ef8b0e40",
   "metadata": {},
   "outputs": [],
   "source": [
    "tables = pd.read_html(url)"
   ]
  },
  {
   "cell_type": "code",
   "execution_count": 5,
   "id": "ced02a85-df56-4d87-82a3-b9943533a68c",
   "metadata": {},
   "outputs": [],
   "source": [
    "import requests\n",
    "from bs4 import BeautifulSoup"
   ]
  },
  {
   "cell_type": "code",
   "execution_count": 6,
   "id": "91750a04-7803-4264-a465-0fc9f076e83c",
   "metadata": {},
   "outputs": [],
   "source": [
    "response = requests.get(url) # get request"
   ]
  },
  {
   "cell_type": "code",
   "execution_count": 7,
   "id": "9df136a5-02c5-4266-94b6-5a8e8cbad01f",
   "metadata": {},
   "outputs": [
    {
     "data": {
      "text/plain": [
       "200"
      ]
     },
     "execution_count": 7,
     "metadata": {},
     "output_type": "execute_result"
    }
   ],
   "source": [
    "response.status_code"
   ]
  },
  {
   "cell_type": "code",
   "execution_count": null,
   "id": "8a2e55be-cb8a-48e7-b912-675b2427295f",
   "metadata": {},
   "outputs": [],
   "source": [
    "response.content"
   ]
  },
  {
   "cell_type": "code",
   "execution_count": 9,
   "id": "e72a9754-5dfb-4bb9-adbb-1030ec6c0c02",
   "metadata": {},
   "outputs": [
    {
     "name": "stdout",
     "output_type": "stream",
     "text": [
      "b'<!doctype html>\\n<html>\\n<head>\\n<meta charset=\"UTF-8\">\\n<title>Astronomy Calendar of Celestial Events 2030 - Sea and Sky</title>\\n<meta name=\"description\" content=\"This astronomy calendar of celestial events contains dates for notable astonomical events in 2030 including moon phases, meteor showers, eclipses, planetary alignments, occultations, oppositions, conjunctions, comets, asteroids, and astronomy events.\">\\n<link href=\"astronomy.css\" rel=\"stylesheet\" type=\"text/css\">\\n</head>\\n\\n<body id=\"calendar\" class=\"oneColFixCtrHdr\">\\n<!-- begin #container -->\\n<div id=\"container\">\\n<div id=\"header-spacer\"> </div>\\n<!-- begin #header -->\\n  <div id=\"header\">\\n    <style>\\r\\n@charset \"utf-8\";\\r\\n#header01 {\\r\\n\\tposition: absolute;\\r\\n\\twidth: 167px;\\r\\n\\theight: 122px;\\r\\n\\tz-index: 1;\\r\\n\\tleft: 0px;\\r\\n\\ttop: 0px;\\r\\n}\\r\\n#header02 {\\r\\n\\tposition: absolute;\\r\\n\\twidth: 430px;\\r\\n\\theight: 122px;\\r\\n\\tz-index: 1;\\r\\n\\tleft: 167px;\\r\\n\\ttop: 0;\\r\\n}\\r\\n#header03 {\\r\\n\\tposition: absolute;\\r\\n\\twidth: 358px;\\r\\n\\theight:122px;\\r\\n\\tz-index: 1;\\r\\n\\tleft: 608px;\\r\\n\\tt'\n"
     ]
    }
   ],
   "source": [
    "first_1000_characters = response.content[:1000]\n",
    "print(first_1000_characters)"
   ]
  },
  {
   "cell_type": "code",
   "execution_count": 10,
   "id": "dc205df4-f7e6-4935-9144-d5bfe0da6e42",
   "metadata": {},
   "outputs": [],
   "source": [
    "# Parse the HTML content\n",
    "soup = BeautifulSoup(response.content)"
   ]
  },
  {
   "cell_type": "code",
   "execution_count": null,
   "id": "8f824a1f-0b00-4bf1-839c-8cac42e00e4c",
   "metadata": {},
   "outputs": [],
   "source": [
    "print(soup)"
   ]
  },
  {
   "cell_type": "code",
   "execution_count": 12,
   "id": "d500cbb0-0236-4e33-a2b7-e545baa2773d",
   "metadata": {},
   "outputs": [
    {
     "name": "stdout",
     "output_type": "stream",
     "text": [
      "New event:\n",
      "<li class=\"b9\">\n",
      "<p><span class=\"date-text\">January 3, 4</span> - <span class=\"title-text\">Quadrantids Meteor Shower.</span> The Quadrantids is an above average shower, with up to 40 meteors per hour at its peak. It is thought to be produced by dust grains left behind by an extinct comet known as 2003 EH1, which was discovered in 2003. The shower runs annually from January 1-5. It peaks this year on the night of the 3rd and  morning of the 4th. The new moon means dark skies and optimal viewing conditions for what should be an excellent show. Best viewing will be from a dark location after midnight. Meteors will radiate from the constellation Bootes, but can appear anywhere in the sky.</p>\n",
      "</li>\n",
      "New event:\n",
      "<li class=\"b1\">\n",
      "<p><span class=\"date-text\">January 4</span> - <span class=\"title-text\">New Moon.</span> The Moon will located on the same side of the Earth as the Sun and will not be visible in the night sky. This phase occurs at 02:50 UTC. This is the best time of the month to observe faint objects such as galaxies and star clusters because there is no moonlight to interfere.</p>\n",
      "</li>\n",
      "New event:\n",
      "<li class=\"b2\">\n",
      "<p><span class=\"date-text\">January 19</span> - <span class=\"title-text\">Full Moon.</span> The Moon will be located on the opposite side of the Earth as the Sun and its face will be will be fully illuminated. This phase occurs at 15:55 UTC. This full moon was known by early Native American tribes as the Wolf Moon because this was the time of year when hungry wolf packs howled outside their camps. This moon has also been know as the Old Moon and the Moon After Yule.</p>\n",
      "</li>\n",
      "New event:\n",
      "<li class=\"b5\">\n",
      "<p><span class=\"date-text\">January 22</span> - <span class=\"title-text\">Mercury at Greatest Western Elongation.</span> The planet Mercury reaches greatest western elongation of 24.4 degrees from the Sun. This is the best time to view Mercury since it will be at its highest point above the horizon in the morning sky. Look for the planet low in the eastern sky just before sunrise.</p>\n",
      "</li>\n",
      "New event:\n",
      "<li class=\"b1\">\n",
      "<p><span class=\"date-text\">February 2</span>- <span class=\"title-text\">New Moon.</span> The Moon will located on the same side of the Earth as the Sun and will not be visible in the night sky. This phase occurs at 16:08 UTC. This is the best time of the month to observe faint objects such as galaxies and star clusters because there is no moonlight to interfere.</p>\n",
      "</li>\n",
      "New event:\n",
      "<li class=\"b2\">\n",
      "<p><span class=\"date-text\">February 18</span> - <span class=\"title-text\">Full Moon.</span> The Moon will be located on the opposite side of the Earth as the Sun and its face will be will be fully illuminated. This phase occurs at 06:21 UTC. This full moon was known by early Native American tribes as the Snow Moon because the heaviest snows usually fell during this time of the year. Since hunting is difficult, this moon has also been known by some tribes as the Hunger Moon, since the harsh weather made hunting difficult.<br/>\n",
      "</p>\n",
      "</li>\n",
      "New event:\n",
      "<li class=\"b1\">\n",
      "<p><span class=\"date-text\">March 4</span> - <span class=\"title-text\">New Moon.</span> The Moon will located on the same side of the Earth as the Sun and will not be visible in the night sky. This phase occurs at 06:36 UTC. This is the best time of the month to observe faint objects such as galaxies and star clusters because there is no moonlight to interfere.</p>\n",
      "</li>\n",
      "New event:\n",
      "<li class=\"b5\">\n",
      "<p><span class=\"date-text\">March 17</span> - <span class=\"title-text\">Venus at Greatest Western Elongation.</span> The planet Venus reaches greatest eastern elongation of 46.6 degrees from the Sun. This is the best time to view Venus since it will be at its highest point above the horizon in the morning sky. Look for the bright planet in the eastern sky before sunrise.</p>\n",
      "</li>\n",
      "New event:\n",
      "<li class=\"b2\">\n",
      "<p><span class=\"date-text\">March 19</span> - <span class=\"title-text\">Full Moon.</span> The Moon will be located on the opposite side of the Earth as the Sun and its face will be will be fully illuminated. This phase occurs at 17:57 UTC. This full moon was known by early Native American tribes as the Worm Moon because this was the time of year when the ground would begin to soften and the earthworms would reappear. This moon has also been known as the Crow Moon, the Crust Moon, the Sap Moon, and the Lenten Moon.<br/>\n",
      "</p>\n",
      "</li>\n",
      "New event:\n",
      "<li class=\"b8\">\n",
      "<p><span class=\"date-text\">March 20</span> - <span class=\"title-text\">March Equinox.</span> The March equinox occurs at 13:55 UTC. The Sun will shine directly on the equator and there will be nearly equal amounts of day and night throughout the world. This is also the first day of spring (vernal equinox) in the Northern Hemisphere and the first day of fall (autumnal equinox) in the Southern Hemisphere.</p>\n",
      "</li>\n",
      "New event:\n",
      "<li class=\"b1\">\n",
      "<p><span class=\"date-text\">April 2</span> - <span class=\"title-text\">New Moon.</span> The Moon will located on the same side of the Earth as the Sun and will not be visible in the night sky. This phase occurs at 22:03 UTC. This is the best time of the month to observe faint objects such as galaxies and star clusters because there is no moonlight to interfere.</p>\n",
      "</li>\n",
      "New event:\n",
      "<li class=\"b5\">\n",
      "<p><span class=\"date-text\">April 4</span> - <span class=\"title-text\">Mercury at Greatest Eastern Elongation.</span> The planet Mercury reaches greatest eastern elongation of 19.1 degrees from the Sun. This is the best time to view Mercury since it will be at its highest point above the horizon in the evening sky. Look for the planet low in the western sky just after sunset.</p>\n",
      "</li>\n",
      "New event:\n",
      "<li class=\"b2\">\n",
      "<p><span class=\"date-text\">April 18</span> - <span class=\"title-text\">Full Moon.</span> The Moon will be located on the opposite side of the Earth as the Sun and its face will be will be fully illuminated. This phase occurs at 03:21 UTC. This full moon was known by early Native American tribes as the Pink Moon because it marked the appearance of the moss pink, or wild ground phlox, which is one of the first spring flowers. This moon has also been known as the Sprouting Grass Moon, the Growing Moon, and the Egg Moon. Many coastal tribes called it the Fish Moon because this was the time that the shad swam upstream to spawn.</p>\n",
      "</li>\n",
      "New event:\n",
      "<li class=\"b9\">\n",
      "<p><span class=\"date-text\">April 22, 23</span> - <span class=\"title-text\">Lyrids Meteor Shower. </span>The Lyrids is an average shower, usually producing about 20 meteors per hour at its peak. It is produced by dust particles left behind by comet C/1861 G1 Thatcher, which was discovered in 1861. The shower runs annually from April 16-25. It peaks this year on the night of the night of the 22nd and morning of the 23rd. These meteors can sometimes produce bright dust trails that last for several seconds.  The waning gibbous moon will block many of the fainter meteors this year. But if you are patient, you may still be able to catch a few of the brighter ones. Best viewing will be from a dark location after midnight. Meteors will radiate from the constellation Lyra, but can appear anywhere in the sky.</p>\n",
      "</li>\n",
      "New event:\n",
      "<li class=\"b1\">\n",
      "<p><span class=\"date-text\">May 2</span> - <span class=\"title-text\">New Moon.</span> The Moon will located on the same side of the Earth as the Sun and will not be visible in the night sky. This phase occurs at 14:13 UTC. This is the best time of the month to observe faint objects such as galaxies and star clusters because there is no moonlight to interfere.</p>\n",
      "</li>\n",
      "New event:\n",
      "<li class=\"b9\">\n",
      "<p><span class=\"date-text\">May 6, 7</span> - <span class=\"title-text\">Eta Aquarids Meteor Shower.</span> The Eta Aquarids is an above average shower, capable of producing up to 60 meteors per hour at its peak. Most of the activity is seen in the Southern Hemisphere. In the Northern Hemisphere, the rate can reach about 30 meteors per hour. It is produced by dust particles left behind by comet Halley, which has been observed since ancient times. The shower runs annually from April 19 to May 28. It peaks this year on the night of May 6 and the morning of the May 7. This is a great year for observing the Eta Aquarids. The crescent moon will set before midnight leaving dark skies for what should be an excellent early morning show. Best viewing will be from a dark location after midnight. Meteors will radiate from the constellation Aquarius, but can appear anywhere in the sky.</p>\n",
      "</li>\n",
      "New event:\n",
      "<li class=\"b5\">\n",
      "<p><span class=\"date-text\">May 13</span> - <span class=\"title-text\">Jupiter at Opposition.</span> The giant planet will be at its closest approach to Earth and its face will be fully illuminated by the Sun. It will be brighter than any other time of the year and will be visible all night long. This is the best time to view and photograph Jupiter and its moons. A medium-sized telescope should be able to show you some of the details in Jupiter's cloud bands. A good pair of binoculars should allow you to see Jupiter's four largest moons, appearing as bright dots on either side of the planet. </p>\n",
      "</li>\n",
      "New event:\n",
      "<li class=\"b2\">\n",
      "<p><span class=\"date-text\">May 17</span> - <span class=\"title-text\">Full Moon.</span> The Moon will be located on the opposite side of the Earth as the Sun and its face will be will be fully illuminated. This phase occurs at 11:20 UTC. This full moon was known by early Native American tribes as the Flower Moon because this was the time of year when spring flowers appeared in abundance. This moon has also been known as the Corn Planting Moon and the Milk Moon.</p>\n",
      "</li>\n",
      "New event:\n",
      "<li class=\"b5\">\n",
      "<p><span class=\"date-text\">May 21</span> - <span class=\"title-text\">Mercury at Greatest Western Elongation.</span> The planet Mercury reaches greatest western elongation of 25.6 degrees from the Sun. This is the best time to view Mercury since it will be at its highest point above the horizon in the morning sky. Look for the planet low in the eastern sky just before sunrise.</p>\n",
      "</li>\n",
      "New event:\n",
      "<li class=\"b1\">\n",
      "<p><span class=\"date-text\">June 1</span> - <span class=\"title-text\">New Moon.</span> The Moon will located on the same side of the Earth as the Sun and will not be visible in the night sky. This phase occurs at 06:22 UTC. This is the best time of the month to observe faint objects such as galaxies and star clusters because there is no moonlight to interfere.</p>\n",
      "</li>\n",
      "New event:\n",
      "<li class=\"b4\">\n",
      "<p><span class=\"date-text\">June 1 </span>- <span class=\"title-text\">Annular Solar Eclipse.</span> An annular solar eclipse occurs when the Moon is too far away from the Earth to completely cover the Sun. This results in a ring of light around the darkened Moon. The Sun's corona is not visible during an annular eclipse.  The path of the eclipse will begin in Algeria in northern Africa and move across Tunisia, Greece, Turkey, Russia, northern China, and Japan before ending in the Pacific Ocean. A partial eclipse will be visible throughout Europe, northern Africa, the Middle East, Asia, and Alaska. <br/>\n",
      "        (<a href=\"http://eclipse.gsfc.nasa.gov/SEplot/SEplot2001/SE2030Jun01A.GIF\" target=\"_blank\">NASA  Map and Eclipse Information</a>) (<a href=\"http://eclipse.gsfc.nasa.gov/SEgoogle/SEgoogle2001/SE2030Jun01Agoogle.html\" target=\"_blank\">NASA Interactive Google Map</a>)</p>\n",
      "</li>\n",
      "New event:\n",
      "<li class=\"b2\">\n",
      "<p><span class=\"date-text\">June 15</span> - <span class=\"title-text\">Full Moon.</span> The Moon will be located on the opposite side of the Earth as the Sun and its face will be will be fully illuminated. This phase occurs at 18:41 UTC. This full moon was known by early Native American tribes as the Strawberry Moon because it signaled the time of year to gather ripening fruit. It also coincides with the peak of the strawberry harvesting season. This moon has also been known as the Rose Moon and the Honey Moon.</p>\n",
      "</li>\n",
      "New event:\n",
      "<li class=\"b3\">\n",
      "<p><span class=\"date-text\">June 15</span> - <span class=\"title-text\">Partial Lunar Eclipse.</span> A partial lunar eclipse occurs when the Moon passes through the Earth's partial shadow, or penumbra, and only a portion of it passes through the darkest shadow, or umbra. During this type of eclipse a part of the Moon will darken as it moves through the Earth's shadow. The eclipse will be visible throughout Africa, Europe, Asia, and Australia. (<a href=\"http://eclipse.gsfc.nasa.gov/LEplot/LEplot2001/LE2030Jun15P.pdf\" target=\"_blank\">NASA Map and Eclipse Information</a>)</p>\n",
      "</li>\n",
      "New event:\n",
      "<li class=\"b8\">\n",
      "<p><span class=\"date-text\">June 21</span> - <span class=\"title-text\">June Solstice.</span> The June solstice occurs at 07:35 UTC. The North Pole of the earth will be tilted toward the Sun, which will have reached its northernmost position in the sky and will be directly over the Tropic of Cancer at 23.44 degrees north latitude. This is the first day of summer (summer solstice) in the Northern Hemisphere and the first day of winter (winter solstice) in the Southern Hemisphere.</p>\n",
      "</li>\n",
      "New event:\n",
      "<li class=\"b1\">\n",
      "<p><span class=\"date-text\">June 30</span> - <span class=\"title-text\">New Moon.</span> The Moon will located on the same side of the Earth as the Sun and will not be visible in the night sky. This phase occurs at 21:35 UTC. This is the best time of the month to observe faint objects such as galaxies and star clusters because there is no moonlight to interfere.</p>\n",
      "</li>\n",
      "New event:\n",
      "<li class=\"b2\">\n",
      "<p><span class=\"date-text\">July 15</span> - <span class=\"title-text\">Full Moon.</span> The Moon will be located on the opposite side of the Earth as the Sun and its face will be will be fully illuminated. This phase occurs at 02:11 UTC. This full moon was known by early Native American tribes as the Buck Moon because the male buck deer would begin to grow their new antlers at this time of year. This moon has also been known as the Thunder Moon and the Hay Moon.</p>\n",
      "</li>\n",
      "New event:\n",
      "<li class=\"b9\">\n",
      "<p><span class=\"date-text\">July 28, 29</span> - <span class=\"title-text\">Delta Aquarids Meteor Shower.</span> The Delta Aquarids is an average shower that can produce up to 20 meteors per hour at its peak. It is produced by debris left behind by comets Marsden and Kracht. The shower runs annually from July 12 to August 23. It peaks this year on the night of July 28 and morning of July 29. This is an great year for observing the Delta Aquarids. The new moon means dark skies and optimal conditions for what should be an excellent show. Best viewing will be from a dark location after midnight. Meteors will radiate from the constellation Aquarius, but can appear anywhere in the sky.</p>\n",
      "</li>\n",
      "New event:\n",
      "<li class=\"b1\">\n",
      "<p><span class=\"date-text\">July 30</span> - <span class=\"title-text\">New Moon.</span> The Moon will located on the same side of the Earth as the Sun and will not be visible in the night sky. This phase occurs at 11:11 UTC. This is the best time of the month to observe faint objects such as galaxies and star clusters because there is no moonlight to interfere.</p>\n",
      "</li>\n",
      "New event:\n",
      "<li class=\"b5\">\n",
      "<p><span class=\"date-text\">August 2</span> - <span class=\"title-text\">Mercury at Greatest Eastern Elongation.</span> The planet Mercury reaches greatest eastern elongation of 27.3 degrees from the Sun. This is the best time to view Mercury since it will be at its highest point above the horizon in the evening sky. Look for the planet low in the western sky just after sunset.</p>\n",
      "</li>\n",
      "New event:\n",
      "<li class=\"b9\">\n",
      "<p><span class=\"date-text\">August 12, 13</span> - <span class=\"title-text\">Perseids Meteor Shower.</span> The Perseids is one of the best meteor showers to observe, producing up to 60 meteors per hour at its peak. It is produced by comet Swift-Tuttle, which was discovered in 1862. The Perseids are famous for producing a large number of bright meteors. The shower runs annually from July 17 to August 24. It peaks this year on the night of August 12 and the morning of August 13. Unfortunately the glare from the full moon will obscure all but the brightest meteors this year. But the Perseids are so numerous that you should still be able to catch quite a few of the brighter ones if you are patient. Best viewing will be from a dark location after midnight. Meteors will radiate from the constellation Perseus, but can appear anywhere in the sky.</p>\n",
      "</li>\n",
      "New event:\n",
      "<li class=\"b2\">\n",
      "<p><span class=\"date-text\">August 13</span> - <span class=\"title-text\">Full Moon.</span> The Moon will be located on the opposite side of the Earth as the Sun and its face will be will be fully illuminated. This phase occurs at 10:44 UTC. This full moon was known by early Native American tribes as the Sturgeon Moon because the large sturgeon fish of the Great Lakes and other major lakes were more easily caught at this time of year. This moon has also been known as the Green Corn Moon and the Grain Moon.</p>\n",
      "</li>\n",
      "New event:\n",
      "<li class=\"b1\">\n",
      "<p><span class=\"date-text\">August 28</span> - <span class=\"title-text\">New Moon.</span> The Moon will located on the same side of the Earth as the Sun and will not be visible in the night sky. This phase occurs at 23:07 UTC. This is the best time of the month to observe faint objects such as galaxies and star clusters because there is no moonlight to interfere.</p>\n",
      "</li>\n",
      "New event:\n",
      "<li class=\"b2\">\n",
      "<p><span class=\"date-text\">September 11</span> - <span class=\"title-text\">Full Moon.</span> The Moon will be located on the opposite side of the Earth as the Sun and its face will be will be fully illuminated. This phase occurs at 21:17 UTC. This full moon was known by early Native American tribes as the Corn Moon because the corn is harvested around this time of year. This moon is also known as the Harvest Moon. The Harvest Moon is the full moon that occurs closest to the September equinox each year.</p>\n",
      "</li>\n",
      "New event:\n",
      "<li class=\"b5\">\n",
      "<p><span class=\"date-text\">September 15</span> - <span class=\"title-text\">Mercury at Greatest Western Elongation.</span> The planet Mercury reaches greatest western elongation of 17.9 degrees from the Sun. This is the best time to view Mercury since it will be at its highest point above the horizon in the morning sky. Look for the planet low in the eastern sky just before sunrise.</p>\n",
      "</li>\n",
      "New event:\n",
      "<li class=\"b8\">\n",
      "<p><span class=\"date-text\">September 22</span> - <span class=\"title-text\">September Equinox.</span> The September equinox occurs at 23:27 UTC. The Sun will shine directly on the equator and there will be nearly equal amounts of day and night throughout the world. This is also the first day of fall (autumnal equinox) in the Northern Hemisphere and the first day of spring (vernal equinox) in the Southern Hemisphere.</p>\n",
      "</li>\n",
      "New event:\n",
      "<li class=\"b1\">\n",
      "<p><span class=\"date-text\">September 27</span> - <span class=\"title-text\">New Moon.</span> The Moon will located on the same side of the Earth as the Sun and will not be visible in the night sky. This phase occurs at 09:54 UTC. This is the best time of the month to observe faint objects such as galaxies and star clusters because there is no moonlight to interfere.</p>\n",
      "</li>\n",
      "New event:\n",
      "<li class=\"b5\">\n",
      "<p><span class=\"date-text\">October 5</span> - <span class=\"title-text\">Neptune at Opposition.</span> The blue giant planet will be at its closest approach to Earth and its face will be fully illuminated by the Sun. It will be brighter than any other time of the year and will be visible all night long. This is the best time to view and photograph Neptune. Due to its extreme distance from Earth, it will only appear as a tiny blue dot in all but the most powerful telescopes.</p>\n",
      "</li>\n",
      "New event:\n",
      "<li class=\"b9\">\n",
      "<p><span class=\"date-text\">October 7</span> - <span class=\"title-text\">Draconids Meteor Shower.</span> The Draconids is a minor meteor shower producing only about 10 meteors per hour. It is produced by dust grains left behind by comet 21P Giacobini-Zinner, which was first discovered in 1900. The Draconids is an unusual shower in that the best viewing is in the early evening instead of early morning like most other showers. The shower runs annually from October 6-10 and peaks this year on the the night of the 7th. Unfortunately the glare from the nearly full moon will block most of the meteors this year. Combined with the low hourly rate it would probably be best to skip this one unless you are really patient. Best viewing will be in the early evening from a dark location far away from city lights. Meteors will radiate from the constellation Draco, but can appear anywhere in the sky.</p>\n",
      "</li>\n",
      "New event:\n",
      "<li class=\"b2\">\n",
      "<p><span class=\"date-text\">October 11</span> - <span class=\"title-text\">Full Moon.</span> The Moon will be located on the opposite side of the Earth as the Sun and its face will be will be fully illuminated. This phase occurs at 10:46 UTC. This full moon was known by early Native American tribes as the Hunters Moon because at this time of year the leaves are falling and the game is fat and ready to hunt. This moon has also been known as the Travel Moon and the Blood Moon.</p>\n",
      "</li>\n",
      "New event:\n",
      "<li class=\"b9\">\n",
      "<p><span class=\"date-text\">October 21, 22</span> - <span class=\"title-text\">Orionids Meteor Shower. </span>The Orionids is an average shower producing up to 20 meteors per hour at its peak. It is produced by dust grains left behind by comet Halley, which has been known and observed since ancient times. The shower runs annually from October 2 to November 7. It peaks this year on the night of October 21 and the morning of October 22. The waning crescent moon may block some of the faintest meteors this year. But you should still be able to catch quite a few of the brighter ones if you are patient. Best viewing will be from a dark location after midnight. Meteors will radiate from the constellation Orion, but can appear anywhere in the sky.</p>\n",
      "</li>\n",
      "New event:\n",
      "<li class=\"b1\">\n",
      "<p><span class=\"date-text\">October 26</span> - <span class=\"title-text\">New Moon.</span> The Moon will located on the same side of the Earth as the Sun and will not be visible in the night sky. This phase occurs at 20:17 UTC. This is the best time of the month to observe faint objects such as galaxies and star clusters because there is no moonlight to interfere.</p>\n",
      "</li>\n",
      "New event:\n",
      "<li class=\"b9\">\n",
      "<p><span class=\"date-text\">November 4, 5</span> - <span class=\"title-text\">Taurids Meteor Shower.</span> The Taurids is a long-running minor meteor shower producing only about 5-10 meteors per hour. It is unusual in that it consists of two separate streams. The first is produced by dust grains left behind by Asteroid 2004 TG10. The second stream is produced by debris left behind by Comet 2P Encke. The shower runs annually from September 7 to December 10. It peaks this year on the the night of November 4. The waxing gibbous moon will block most of the fainter meteors in the evening. But it will set a few hours after midnight leaving dark skies for what could be a good early morning show. Best viewing will be just after midnight from a dark location far away from city lights. Meteors will radiate from the constellation Taurus, but can appear anywhere in the sky.</p>\n",
      "</li>\n",
      "New event:\n",
      "<li class=\"b2\">\n",
      "<p><span class=\"date-text\">November 10</span> - <span class=\"title-text\">Full Moon.</span> The Moon will be located on the opposite side of the Earth as the Sun and its face will be will be fully illuminated. This phase occurs at 03:31 UTC. This full moon was known by early Native American tribes as the Beaver Moon because this was the time of year to set the beaver traps before the swamps and rivers froze. It has also been known as the Frosty Moon and the Dark Moon.</p>\n",
      "</li>\n",
      "New event:\n",
      "<li class=\"b9\">\n",
      "<p><span class=\"date-text\">November 17, 18</span> - <span class=\"title-text\">Leonids Meteor Shower.</span> The Leonids is an average shower, producing up to 15 meteors per hour at its peak. This shower is unique in that it has a cyclonic peak about every 33 years where hundreds of meteors per hour can be seen. That last of these occurred in 2001. The Leonids is produced by dust grains left behind by comet Tempel-Tuttle, which was discovered in 1865. The shower runs annually from November 6-30. It peaks this year on the night of the 17th and morning of the 18th. The second quarter moon will block some of the fainter meteors this year. But if you are patient, you should still be able to catch quite a few of the brighter ones. Best viewing will be from a dark location after midnight. Meteors will radiate from the constellation Leo, but can appear anywhere in the sky.</p>\n",
      "</li>\n",
      "New event:\n",
      "<li class=\"b1\">\n",
      "<p><span class=\"date-text\">November 25</span> - <span class=\"title-text\">New Moon.</span> The Moon will located on the same side of the Earth as the Sun and will not be visible in the night sky. This phase occurs at 06:47 UTC. This is the best time of the month to observe faint objects such as galaxies and star clusters because there is no moonlight to interfere.</p>\n",
      "</li>\n",
      "New event:\n",
      "<li class=\"b4\">\n",
      "<p><span class=\"date-text\">November 25</span> - <span class=\"title-text\">Total Solar Eclipse.</span> A total solar eclipse occurs when the moon completely blocks the Sun, revealing the Sun's beautiful outer atmosphere known as the corona. The path of totality will begin in the Atlantic Ocean off the coast of southern Africa and move across Namibia, Botswana, and South Africa. It will them move out into the Indian Ocean and across southeast Australia. A partial eclipse will be visible throughout southern Africa, the southern Indian Ocean, parts of Indonesia, and most of Australia and Antarctica.<br/>\n",
      "        (<a href=\"http://eclipse.gsfc.nasa.gov/SEplot/SEplot2001/SE2030Nov25T.GIF\" target=\"_blank\">NASA Map and Eclipse Information</a>) (<a href=\"http://eclipse.gsfc.nasa.gov/SEgoogle/SEgoogle2001/SE2030Nov25Tgoogle.html\" target=\"_blank\">NASA Interactive Google Map</a>)</p>\n",
      "</li>\n",
      "New event:\n",
      "<li class=\"b5\">\n",
      "<p><span class=\"date-text\">November 26</span> - <span class=\"title-text\">Mercury at Greatest Eastern Elongation.</span> The planet Mercury reaches greatest eastern elongation of 21.8 degrees from the Sun. This is the best time to view Mercury since it will be at its highest point above the horizon in the evening sky. Look for the planet low in the western sky just after sunset.</p>\n",
      "</li>\n",
      "New event:\n",
      "<li class=\"b5\">\n",
      "<p><span class=\"date-text\">November 27</span> - <span class=\"title-text\">Saturn at Opposition.</span> The ringed planet will be at its closest approach to Earth and its face will be fully illuminated by the Sun. It will be brighter than any other time of the year and will be visible all night long. This is the best time to view and photograph Saturn and its moons. A medium-sized or larger telescope will allow you to see Saturn's rings and a few of its brightest moons.</p>\n",
      "</li>\n",
      "New event:\n",
      "<li class=\"b2\">\n",
      "<p><span class=\"date-text\">December 9</span> - <span class=\"title-text\">Full Moon.</span> The Moon will be located on the opposite side of the Earth as the Sun and its face will be will be fully illuminated. This phase occurs at 22:41 UTC. This full moon was known by early Native American tribes as the Cold Moon because this is the time of year when the cold winter air settles in and the nights become long and dark. This moon has also been known as the Long Nights Moon and the Moon Before Yule.</p>\n",
      "</li>\n",
      "New event:\n",
      "<li class=\"b3\">\n",
      "<p><span class=\"date-text\">December 9</span> - <span class=\"title-text\">Penumbral Lunar Eclipse.</span> A penumbral lunar eclipse occurs when the Moon passes through the Earth's partial shadow, or penumbra. During this type of eclipse the Moon will darken slightly but not completely. The eclipse will be visible throughout western Australia, most of North America, Mexico, Central America, and South America, and all of Africa, Europe, and Asia. (<a href=\"http://eclipse.gsfc.nasa.gov/LEplot/LEplot2001/LE2030Dec09N.pdf\" target=\"_blank\">NASA Map and Eclipse Information</a>)</p>\n",
      "</li>\n",
      "New event:\n",
      "<li class=\"b5\">\n",
      "<p><span class=\"date-text\">December 12</span> - <span class=\"title-text\">Uranus at Opposition.</span> The blue-green planet will be at its closest approach to Earth and its face will be fully illuminated by the Sun. It will be brighter than any other time of the year and will be visible all night long. This is the best time to view Uranus. Due to its distance, it will only appear as a tiny blue-green dot in all but the most powerful telescopes.</p>\n",
      "</li>\n",
      "New event:\n",
      "<li class=\"b9\">\n",
      "<p><span class=\"date-text\">December 13, 14</span> - <span class=\"title-text\">Geminids Meteor Shower.</span> The Geminids is the  king of the meteor showers. It is considered by many to be the best shower in the heavens, producing up to 120 multicolored meteors per hour at its peak. It is produced by debris left behind by an asteroid known as 3200 Phaethon, which was discovered in 1982. The shower runs annually from December 7-17. It peaks this year on the night of the 13th and morning of the 14th. The glare from the waning gibbous moon will obscure many of the fainter meteors this year. But the Geminids are so bright and numerous that this could still be a good show. Best viewing will be from a dark location after midnight. Meteors will radiate from the constellation Gemini, but can appear anywhere in the sky.</p>\n",
      "</li>\n",
      "New event:\n",
      "<li class=\"b8\">\n",
      "<p><span class=\"date-text\">December 21</span> - <span class=\"title-text\">December Solstice.</span> The December solstice occurs at 20:12 UTC. The South Pole of the earth will be tilted toward the Sun, which will have reached its southernmost position in the sky and will be directly over the Tropic of Capricorn at 23.44 degrees south latitude. This is the first day of winter (winter solstice) in the Northern Hemisphere and the first day of summer (summer solstice) in the Southern Hemisphere.</p>\n",
      "</li>\n",
      "New event:\n",
      "<li class=\"b9\">\n",
      "<p><span class=\"date-text\">December 21, 22</span> - <span class=\"title-text\">Ursids Meteor Shower.</span> The Ursids is a minor meteor shower producing about 5-10 meteors per hour. It is produced by dust grains left behind by comet Tuttle, which was first discovered in 1790. The shower runs annually from December 17-25. It peaks this year on the the night of the 21st and morning of the 22nd. The thin, crescent moon should not be too much of a problem this year. The skies will be dark enough for what could be a really good show. Best viewing will be just after midnight from a dark location far away from city lights. Meteors will radiate from the constellation Ursa Minor, but can appear anywhere in the sky.</p>\n",
      "</li>\n",
      "New event:\n",
      "<li class=\"b1\">\n",
      "<p><span class=\"date-text\">December 24</span> - <span class=\"title-text\">New Moon.</span> The Moon will located on the same side of the Earth as the Sun and will not be visible in the night sky. This phase occurs at 17:33 UTC. This is the best time of the month to observe faint objects such as galaxies and star clusters because there is no moonlight to interfere.</p>\n",
      "</li>\n"
     ]
    }
   ],
   "source": [
    "# Create a list to store all events in\n",
    "event_list = []\n",
    "\n",
    "# Write a loop over all <li> events that have a class attribute\n",
    "for event in soup.find_all(\"li\", class_=True):\n",
    "    # Each individual event!\n",
    "    print(\"New event:\")\n",
    "    print(event)"
   ]
  },
  {
   "cell_type": "code",
   "execution_count": 16,
   "id": "2a37a15f-f23e-43f1-a03b-ddac0362e6a5",
   "metadata": {},
   "outputs": [],
   "source": [
    "# Create a list to store all events in\n",
    "event_list = []\n",
    "\n",
    "# Write a loop over all <li> events that have a class attribute\n",
    "for event in soup.find_all(\"li\", class_=True):\n",
    "    # Each individual event!\n",
    "\n",
    "    # Identify the span with the class \"date-text\", save as date\n",
    "    date = event.find(\"span\", class_=\"date-text\").text\n",
    "\n",
    "    # Identify span with class \"title-text\", save as title & extract text\n",
    "    title = event.find(\"span\", class_=\"title-text\").text\n",
    "\n",
    "    # Identify the paragraph tag, save as description & extract text\n",
    "    description = event.find(\"p\").text\n",
    "\n",
    "    # Create a list containing the date, title, and description text\n",
    "    event_row = [date, title, description]\n",
    "\n",
    "    # Add list to list of events\n",
    "    event_list.append(event_row)"
   ]
  },
  {
   "cell_type": "code",
   "execution_count": 17,
   "id": "18671ca9-fa75-4036-81d0-adcaa43f65d0",
   "metadata": {},
   "outputs": [
    {
     "data": {
      "text/plain": [
       "['January 3, 4',\n",
       " 'Quadrantids Meteor Shower.',\n",
       " 'January 3, 4 - Quadrantids Meteor Shower. The Quadrantids is an above average shower, with up to 40 meteors per hour at its peak. It is thought to be produced by dust grains left behind by an extinct comet known as 2003 EH1, which was discovered in 2003. The shower runs annually from January 1-5. It peaks this year on the night of the 3rd and  morning of the 4th. The new moon means dark skies and optimal viewing conditions for what should be an excellent show. Best viewing will be from a dark location after midnight. Meteors will radiate from the constellation Bootes, but can appear anywhere in the sky.']"
      ]
     },
     "execution_count": 17,
     "metadata": {},
     "output_type": "execute_result"
    }
   ],
   "source": [
    "event_list[0]"
   ]
  },
  {
   "cell_type": "code",
   "execution_count": 15,
   "id": "4c7923d8-a3d5-4b9e-b80d-ded1eec60eef",
   "metadata": {},
   "outputs": [
    {
     "data": {
      "text/plain": [
       "3"
      ]
     },
     "execution_count": 15,
     "metadata": {},
     "output_type": "execute_result"
    }
   ],
   "source": [
    "len(event_list[0])"
   ]
  },
  {
   "cell_type": "code",
   "execution_count": 18,
   "id": "6e636a84-b927-4dfe-b53e-5ec6c146a5a9",
   "metadata": {},
   "outputs": [],
   "source": [
    "df = pd.DataFrame(event_list)"
   ]
  },
  {
   "cell_type": "code",
   "execution_count": 19,
   "id": "a65fb3d2-d69c-406d-95bd-49575c842e62",
   "metadata": {},
   "outputs": [
    {
     "data": {
      "text/html": [
       "<div>\n",
       "<style scoped>\n",
       "    .dataframe tbody tr th:only-of-type {\n",
       "        vertical-align: middle;\n",
       "    }\n",
       "\n",
       "    .dataframe tbody tr th {\n",
       "        vertical-align: top;\n",
       "    }\n",
       "\n",
       "    .dataframe thead th {\n",
       "        text-align: right;\n",
       "    }\n",
       "</style>\n",
       "<table border=\"1\" class=\"dataframe\">\n",
       "  <thead>\n",
       "    <tr style=\"text-align: right;\">\n",
       "      <th></th>\n",
       "      <th>0</th>\n",
       "      <th>1</th>\n",
       "      <th>2</th>\n",
       "    </tr>\n",
       "  </thead>\n",
       "  <tbody>\n",
       "    <tr>\n",
       "      <th>0</th>\n",
       "      <td>January 3, 4</td>\n",
       "      <td>Quadrantids Meteor Shower.</td>\n",
       "      <td>January 3, 4 - Quadrantids Meteor Shower. The ...</td>\n",
       "    </tr>\n",
       "    <tr>\n",
       "      <th>1</th>\n",
       "      <td>January 4</td>\n",
       "      <td>New Moon.</td>\n",
       "      <td>January 4 - New Moon. The Moon will located on...</td>\n",
       "    </tr>\n",
       "    <tr>\n",
       "      <th>2</th>\n",
       "      <td>January 19</td>\n",
       "      <td>Full Moon.</td>\n",
       "      <td>January 19 - Full Moon. The Moon will be locat...</td>\n",
       "    </tr>\n",
       "    <tr>\n",
       "      <th>3</th>\n",
       "      <td>January 22</td>\n",
       "      <td>Mercury at Greatest Western Elongation.</td>\n",
       "      <td>January 22 - Mercury at Greatest Western Elong...</td>\n",
       "    </tr>\n",
       "    <tr>\n",
       "      <th>4</th>\n",
       "      <td>February 2</td>\n",
       "      <td>New Moon.</td>\n",
       "      <td>February 2- New Moon. The Moon will located on...</td>\n",
       "    </tr>\n",
       "  </tbody>\n",
       "</table>\n",
       "</div>"
      ],
      "text/plain": [
       "              0                                        1  \\\n",
       "0  January 3, 4               Quadrantids Meteor Shower.   \n",
       "1     January 4                                New Moon.   \n",
       "2    January 19                               Full Moon.   \n",
       "3    January 22  Mercury at Greatest Western Elongation.   \n",
       "4    February 2                                New Moon.   \n",
       "\n",
       "                                                   2  \n",
       "0  January 3, 4 - Quadrantids Meteor Shower. The ...  \n",
       "1  January 4 - New Moon. The Moon will located on...  \n",
       "2  January 19 - Full Moon. The Moon will be locat...  \n",
       "3  January 22 - Mercury at Greatest Western Elong...  \n",
       "4  February 2- New Moon. The Moon will located on...  "
      ]
     },
     "execution_count": 19,
     "metadata": {},
     "output_type": "execute_result"
    }
   ],
   "source": [
    "df.head()"
   ]
  },
  {
   "cell_type": "code",
   "execution_count": null,
   "id": "ab3ccf20-cc14-4df3-bd55-2431606d5528",
   "metadata": {},
   "outputs": [],
   "source": [
    "# Create a list to store all events in\n",
    "\n",
    "# Write a loop over all <li> events that have a class attribute\n",
    "\n",
    "    # Identify the span with the class \"date-text\", save as date & extract text\n",
    "\n",
    "    # Identify span with class \"title-text\", save as title & extract text\n",
    "\n",
    "    # Identify the paragraph tag, save as description & extract text\n",
    "\n",
    "    # Create a list containing the date, title, and description text\n",
    "\n",
    "    # Add list to list of events"
   ]
  },
  {
   "cell_type": "code",
   "execution_count": 20,
   "id": "9412e53a-7659-4b37-80c5-e6ac1884c616",
   "metadata": {},
   "outputs": [
    {
     "name": "stdout",
     "output_type": "stream",
     "text": [
      "               Date                                    Title  \\\n",
      "0      January 3, 4               Quadrantids Meteor Shower.   \n",
      "1         January 4                                New Moon.   \n",
      "2        January 19                               Full Moon.   \n",
      "3        January 22  Mercury at Greatest Western Elongation.   \n",
      "4        February 2                                New Moon.   \n",
      "5       February 18                               Full Moon.   \n",
      "6           March 4                                New Moon.   \n",
      "7          March 17    Venus at Greatest Western Elongation.   \n",
      "8          March 19                               Full Moon.   \n",
      "9          March 20                           March Equinox.   \n",
      "10          April 2                                New Moon.   \n",
      "11          April 4  Mercury at Greatest Eastern Elongation.   \n",
      "12         April 18                               Full Moon.   \n",
      "13     April 22, 23                    Lyrids Meteor Shower.   \n",
      "14            May 2                                New Moon.   \n",
      "15         May 6, 7              Eta Aquarids Meteor Shower.   \n",
      "16           May 13                   Jupiter at Opposition.   \n",
      "17           May 17                               Full Moon.   \n",
      "18           May 21  Mercury at Greatest Western Elongation.   \n",
      "19           June 1                                New Moon.   \n",
      "20           June 1                   Annular Solar Eclipse.   \n",
      "21          June 15                               Full Moon.   \n",
      "22          June 15                   Partial Lunar Eclipse.   \n",
      "23          June 21                           June Solstice.   \n",
      "24          June 30                                New Moon.   \n",
      "25          July 15                               Full Moon.   \n",
      "26      July 28, 29            Delta Aquarids Meteor Shower.   \n",
      "27          July 30                                New Moon.   \n",
      "28         August 2  Mercury at Greatest Eastern Elongation.   \n",
      "29    August 12, 13                  Perseids Meteor Shower.   \n",
      "30        August 13                               Full Moon.   \n",
      "31        August 28                                New Moon.   \n",
      "32     September 11                               Full Moon.   \n",
      "33     September 15  Mercury at Greatest Western Elongation.   \n",
      "34     September 22                       September Equinox.   \n",
      "35     September 27                                New Moon.   \n",
      "36        October 5                   Neptune at Opposition.   \n",
      "37        October 7                 Draconids Meteor Shower.   \n",
      "38       October 11                               Full Moon.   \n",
      "39   October 21, 22                  Orionids Meteor Shower.   \n",
      "40       October 26                                New Moon.   \n",
      "41    November 4, 5                   Taurids Meteor Shower.   \n",
      "42      November 10                               Full Moon.   \n",
      "43  November 17, 18                   Leonids Meteor Shower.   \n",
      "44      November 25                                New Moon.   \n",
      "45      November 25                     Total Solar Eclipse.   \n",
      "46      November 26  Mercury at Greatest Eastern Elongation.   \n",
      "47      November 27                    Saturn at Opposition.   \n",
      "48       December 9                               Full Moon.   \n",
      "49       December 9                 Penumbral Lunar Eclipse.   \n",
      "50      December 12                    Uranus at Opposition.   \n",
      "51  December 13, 14                  Geminids Meteor Shower.   \n",
      "52      December 21                       December Solstice.   \n",
      "53  December 21, 22                    Ursids Meteor Shower.   \n",
      "54      December 24                                New Moon.   \n",
      "\n",
      "                                          Description  \n",
      "0   January 3, 4-Quadrantids Meteor Shower.The Qua...  \n",
      "1   January 4-New Moon.The Moon will located on th...  \n",
      "2   January 19-Full Moon.The Moon will be located ...  \n",
      "3   January 22-Mercury at Greatest Western Elongat...  \n",
      "4   February 2-New Moon.The Moon will located on t...  \n",
      "5   February 18-Full Moon.The Moon will be located...  \n",
      "6   March 4-New Moon.The Moon will located on the ...  \n",
      "7   March 17-Venus at Greatest Western Elongation....  \n",
      "8   March 19-Full Moon.The Moon will be located on...  \n",
      "9   March 20-March Equinox.The March equinox occur...  \n",
      "10  April 2-New Moon.The Moon will located on the ...  \n",
      "11  April 4-Mercury at Greatest Eastern Elongation...  \n",
      "12  April 18-Full Moon.The Moon will be located on...  \n",
      "13  April 22, 23-Lyrids Meteor Shower.The Lyrids i...  \n",
      "14  May 2-New Moon.The Moon will located on the sa...  \n",
      "15  May 6, 7-Eta Aquarids Meteor Shower.The Eta Aq...  \n",
      "16  May 13-Jupiter at Opposition.The giant planet ...  \n",
      "17  May 17-Full Moon.The Moon will be located on t...  \n",
      "18  May 21-Mercury at Greatest Western Elongation....  \n",
      "19  June 1-New Moon.The Moon will located on the s...  \n",
      "20  June 1-Annular Solar Eclipse.An annular solar ...  \n",
      "21  June 15-Full Moon.The Moon will be located on ...  \n",
      "22  June 15-Partial Lunar Eclipse.A partial lunar ...  \n",
      "23  June 21-June Solstice.The June solstice occurs...  \n",
      "24  June 30-New Moon.The Moon will located on the ...  \n",
      "25  July 15-Full Moon.The Moon will be located on ...  \n",
      "26  July 28, 29-Delta Aquarids Meteor Shower.The D...  \n",
      "27  July 30-New Moon.The Moon will located on the ...  \n",
      "28  August 2-Mercury at Greatest Eastern Elongatio...  \n",
      "29  August 12, 13-Perseids Meteor Shower.The Perse...  \n",
      "30  August 13-Full Moon.The Moon will be located o...  \n",
      "31  August 28-New Moon.The Moon will located on th...  \n",
      "32  September 11-Full Moon.The Moon will be locate...  \n",
      "33  September 15-Mercury at Greatest Western Elong...  \n",
      "34  September 22-September Equinox.The September e...  \n",
      "35  September 27-New Moon.The Moon will located on...  \n",
      "36  October 5-Neptune at Opposition.The blue giant...  \n",
      "37  October 7-Draconids Meteor Shower.The Draconid...  \n",
      "38  October 11-Full Moon.The Moon will be located ...  \n",
      "39  October 21, 22-Orionids Meteor Shower.The Orio...  \n",
      "40  October 26-New Moon.The Moon will located on t...  \n",
      "41  November 4, 5-Taurids Meteor Shower.The Taurid...  \n",
      "42  November 10-Full Moon.The Moon will be located...  \n",
      "43  November 17, 18-Leonids Meteor Shower.The Leon...  \n",
      "44  November 25-New Moon.The Moon will located on ...  \n",
      "45  November 25-Total Solar Eclipse.A total solar ...  \n",
      "46  November 26-Mercury at Greatest Eastern Elonga...  \n",
      "47  November 27-Saturn at Opposition.The ringed pl...  \n",
      "48  December 9-Full Moon.The Moon will be located ...  \n",
      "49  December 9-Penumbral Lunar Eclipse.A penumbral...  \n",
      "50  December 12-Uranus at Opposition.The blue-gree...  \n",
      "51  December 13, 14-Geminids Meteor Shower.The Gem...  \n",
      "52  December 21-December Solstice.The December sol...  \n",
      "53  December 21, 22-Ursids Meteor Shower.The Ursid...  \n",
      "54  December 24-New Moon.The Moon will located on ...  \n"
     ]
    }
   ],
   "source": [
    "# Assuming 'soup' is a BeautifulSoup object containing your HTML data\n",
    "events_list = []\n",
    "\n",
    "# Loop over all <li> elements with a class attribute\n",
    "for event in soup.find_all('li', class_=True):\n",
    "    # Extract the date text\n",
    "    date = event.find('span', class_='date-text').get_text(strip=True)\n",
    "    \n",
    "    # Extract the title text\n",
    "    title = event.find('span', class_='title-text').get_text(strip=True)\n",
    "    \n",
    "    # Extract the description text\n",
    "    description = event.find('p').get_text(strip=True)\n",
    "    \n",
    "    # Create a list of the extracted information\n",
    "    event_details = [date, title, description]\n",
    "    \n",
    "    # Add the list to the events list\n",
    "    events_list.append(event_details)\n",
    "\n",
    "# Create a DataFrame from the list of events\n",
    "events_df = pd.DataFrame(events_list, columns=['Date', 'Title', 'Description'])\n",
    "\n",
    "# Display the DataFrame\n",
    "print(events_df)"
   ]
  },
  {
   "cell_type": "code",
   "execution_count": 21,
   "id": "14e4fa1e-100a-43ee-9a05-8d47cb22b88e",
   "metadata": {},
   "outputs": [
    {
     "data": {
      "text/html": [
       "<div>\n",
       "<style scoped>\n",
       "    .dataframe tbody tr th:only-of-type {\n",
       "        vertical-align: middle;\n",
       "    }\n",
       "\n",
       "    .dataframe tbody tr th {\n",
       "        vertical-align: top;\n",
       "    }\n",
       "\n",
       "    .dataframe thead th {\n",
       "        text-align: right;\n",
       "    }\n",
       "</style>\n",
       "<table border=\"1\" class=\"dataframe\">\n",
       "  <thead>\n",
       "    <tr style=\"text-align: right;\">\n",
       "      <th></th>\n",
       "      <th>0</th>\n",
       "      <th>1</th>\n",
       "      <th>2</th>\n",
       "    </tr>\n",
       "  </thead>\n",
       "  <tbody>\n",
       "    <tr>\n",
       "      <th>0</th>\n",
       "      <td>January 3, 4</td>\n",
       "      <td>Quadrantids Meteor Shower.</td>\n",
       "      <td>January 3, 4 - Quadrantids Meteor Shower. The ...</td>\n",
       "    </tr>\n",
       "    <tr>\n",
       "      <th>1</th>\n",
       "      <td>January 4</td>\n",
       "      <td>New Moon.</td>\n",
       "      <td>January 4 - New Moon. The Moon will located on...</td>\n",
       "    </tr>\n",
       "    <tr>\n",
       "      <th>2</th>\n",
       "      <td>January 19</td>\n",
       "      <td>Full Moon.</td>\n",
       "      <td>January 19 - Full Moon. The Moon will be locat...</td>\n",
       "    </tr>\n",
       "    <tr>\n",
       "      <th>3</th>\n",
       "      <td>January 22</td>\n",
       "      <td>Mercury at Greatest Western Elongation.</td>\n",
       "      <td>January 22 - Mercury at Greatest Western Elong...</td>\n",
       "    </tr>\n",
       "    <tr>\n",
       "      <th>4</th>\n",
       "      <td>February 2</td>\n",
       "      <td>New Moon.</td>\n",
       "      <td>February 2- New Moon. The Moon will located on...</td>\n",
       "    </tr>\n",
       "  </tbody>\n",
       "</table>\n",
       "</div>"
      ],
      "text/plain": [
       "              0                                        1  \\\n",
       "0  January 3, 4               Quadrantids Meteor Shower.   \n",
       "1     January 4                                New Moon.   \n",
       "2    January 19                               Full Moon.   \n",
       "3    January 22  Mercury at Greatest Western Elongation.   \n",
       "4    February 2                                New Moon.   \n",
       "\n",
       "                                                   2  \n",
       "0  January 3, 4 - Quadrantids Meteor Shower. The ...  \n",
       "1  January 4 - New Moon. The Moon will located on...  \n",
       "2  January 19 - Full Moon. The Moon will be locat...  \n",
       "3  January 22 - Mercury at Greatest Western Elong...  \n",
       "4  February 2- New Moon. The Moon will located on...  "
      ]
     },
     "execution_count": 21,
     "metadata": {},
     "output_type": "execute_result"
    }
   ],
   "source": [
    "df.head()"
   ]
  },
  {
   "cell_type": "code",
   "execution_count": 24,
   "id": "104ebd06-7cd8-4c4a-8219-c37b2c1329a1",
   "metadata": {},
   "outputs": [],
   "source": [
    "df.columns = [\"date\", \"title\", \"description\"]"
   ]
  },
  {
   "cell_type": "code",
   "execution_count": 25,
   "id": "af365b11-e772-4dcb-ab83-038227d946c7",
   "metadata": {},
   "outputs": [
    {
     "data": {
      "text/html": [
       "<div>\n",
       "<style scoped>\n",
       "    .dataframe tbody tr th:only-of-type {\n",
       "        vertical-align: middle;\n",
       "    }\n",
       "\n",
       "    .dataframe tbody tr th {\n",
       "        vertical-align: top;\n",
       "    }\n",
       "\n",
       "    .dataframe thead th {\n",
       "        text-align: right;\n",
       "    }\n",
       "</style>\n",
       "<table border=\"1\" class=\"dataframe\">\n",
       "  <thead>\n",
       "    <tr style=\"text-align: right;\">\n",
       "      <th></th>\n",
       "      <th>date</th>\n",
       "      <th>title</th>\n",
       "      <th>description</th>\n",
       "    </tr>\n",
       "  </thead>\n",
       "  <tbody>\n",
       "    <tr>\n",
       "      <th>0</th>\n",
       "      <td>January 3, 4</td>\n",
       "      <td>Quadrantids Meteor Shower.</td>\n",
       "      <td>January 3, 4 - Quadrantids Meteor Shower. The ...</td>\n",
       "    </tr>\n",
       "    <tr>\n",
       "      <th>1</th>\n",
       "      <td>January 4</td>\n",
       "      <td>New Moon.</td>\n",
       "      <td>January 4 - New Moon. The Moon will located on...</td>\n",
       "    </tr>\n",
       "    <tr>\n",
       "      <th>2</th>\n",
       "      <td>January 19</td>\n",
       "      <td>Full Moon.</td>\n",
       "      <td>January 19 - Full Moon. The Moon will be locat...</td>\n",
       "    </tr>\n",
       "    <tr>\n",
       "      <th>3</th>\n",
       "      <td>January 22</td>\n",
       "      <td>Mercury at Greatest Western Elongation.</td>\n",
       "      <td>January 22 - Mercury at Greatest Western Elong...</td>\n",
       "    </tr>\n",
       "    <tr>\n",
       "      <th>4</th>\n",
       "      <td>February 2</td>\n",
       "      <td>New Moon.</td>\n",
       "      <td>February 2- New Moon. The Moon will located on...</td>\n",
       "    </tr>\n",
       "  </tbody>\n",
       "</table>\n",
       "</div>"
      ],
      "text/plain": [
       "           date                                    title  \\\n",
       "0  January 3, 4               Quadrantids Meteor Shower.   \n",
       "1     January 4                                New Moon.   \n",
       "2    January 19                               Full Moon.   \n",
       "3    January 22  Mercury at Greatest Western Elongation.   \n",
       "4    February 2                                New Moon.   \n",
       "\n",
       "                                         description  \n",
       "0  January 3, 4 - Quadrantids Meteor Shower. The ...  \n",
       "1  January 4 - New Moon. The Moon will located on...  \n",
       "2  January 19 - Full Moon. The Moon will be locat...  \n",
       "3  January 22 - Mercury at Greatest Western Elong...  \n",
       "4  February 2- New Moon. The Moon will located on...  "
      ]
     },
     "execution_count": 25,
     "metadata": {},
     "output_type": "execute_result"
    }
   ],
   "source": [
    "df.head()"
   ]
  },
  {
   "cell_type": "code",
   "execution_count": 26,
   "id": "16cdc5de-3a5f-4724-b1f5-c8c62b9f584b",
   "metadata": {},
   "outputs": [],
   "source": [
    "df[\"title\"] = df[\"title\"].str.replace(\".\",\"\")"
   ]
  },
  {
   "cell_type": "code",
   "execution_count": 27,
   "id": "1d415b6e-4643-4aef-9033-19cc88595402",
   "metadata": {},
   "outputs": [
    {
     "data": {
      "text/html": [
       "<div>\n",
       "<style scoped>\n",
       "    .dataframe tbody tr th:only-of-type {\n",
       "        vertical-align: middle;\n",
       "    }\n",
       "\n",
       "    .dataframe tbody tr th {\n",
       "        vertical-align: top;\n",
       "    }\n",
       "\n",
       "    .dataframe thead th {\n",
       "        text-align: right;\n",
       "    }\n",
       "</style>\n",
       "<table border=\"1\" class=\"dataframe\">\n",
       "  <thead>\n",
       "    <tr style=\"text-align: right;\">\n",
       "      <th></th>\n",
       "      <th>date</th>\n",
       "      <th>title</th>\n",
       "      <th>description</th>\n",
       "    </tr>\n",
       "  </thead>\n",
       "  <tbody>\n",
       "    <tr>\n",
       "      <th>0</th>\n",
       "      <td>January 3, 4</td>\n",
       "      <td>Quadrantids Meteor Shower</td>\n",
       "      <td>January 3, 4 - Quadrantids Meteor Shower. The ...</td>\n",
       "    </tr>\n",
       "    <tr>\n",
       "      <th>1</th>\n",
       "      <td>January 4</td>\n",
       "      <td>New Moon</td>\n",
       "      <td>January 4 - New Moon. The Moon will located on...</td>\n",
       "    </tr>\n",
       "    <tr>\n",
       "      <th>2</th>\n",
       "      <td>January 19</td>\n",
       "      <td>Full Moon</td>\n",
       "      <td>January 19 - Full Moon. The Moon will be locat...</td>\n",
       "    </tr>\n",
       "    <tr>\n",
       "      <th>3</th>\n",
       "      <td>January 22</td>\n",
       "      <td>Mercury at Greatest Western Elongation</td>\n",
       "      <td>January 22 - Mercury at Greatest Western Elong...</td>\n",
       "    </tr>\n",
       "    <tr>\n",
       "      <th>4</th>\n",
       "      <td>February 2</td>\n",
       "      <td>New Moon</td>\n",
       "      <td>February 2- New Moon. The Moon will located on...</td>\n",
       "    </tr>\n",
       "  </tbody>\n",
       "</table>\n",
       "</div>"
      ],
      "text/plain": [
       "           date                                   title  \\\n",
       "0  January 3, 4               Quadrantids Meteor Shower   \n",
       "1     January 4                                New Moon   \n",
       "2    January 19                               Full Moon   \n",
       "3    January 22  Mercury at Greatest Western Elongation   \n",
       "4    February 2                                New Moon   \n",
       "\n",
       "                                         description  \n",
       "0  January 3, 4 - Quadrantids Meteor Shower. The ...  \n",
       "1  January 4 - New Moon. The Moon will located on...  \n",
       "2  January 19 - Full Moon. The Moon will be locat...  \n",
       "3  January 22 - Mercury at Greatest Western Elong...  \n",
       "4  February 2- New Moon. The Moon will located on...  "
      ]
     },
     "execution_count": 27,
     "metadata": {},
     "output_type": "execute_result"
    }
   ],
   "source": [
    "df.head()"
   ]
  },
  {
   "cell_type": "code",
   "execution_count": 28,
   "id": "194792a5-00f1-4df0-8436-c952bb64be29",
   "metadata": {},
   "outputs": [
    {
     "data": {
      "text/plain": [
       "0        January 3, 4\n",
       "1           January 4\n",
       "2          January 19\n",
       "3          January 22\n",
       "4          February 2\n",
       "5         February 18\n",
       "6             March 4\n",
       "7            March 17\n",
       "8            March 19\n",
       "9            March 20\n",
       "10            April 2\n",
       "11            April 4\n",
       "12           April 18\n",
       "13       April 22, 23\n",
       "14              May 2\n",
       "15           May 6, 7\n",
       "16             May 13\n",
       "17             May 17\n",
       "18             May 21\n",
       "19             June 1\n",
       "20            June 1 \n",
       "21            June 15\n",
       "22            June 15\n",
       "23            June 21\n",
       "24            June 30\n",
       "25            July 15\n",
       "26        July 28, 29\n",
       "27            July 30\n",
       "28           August 2\n",
       "29      August 12, 13\n",
       "30          August 13\n",
       "31          August 28\n",
       "32       September 11\n",
       "33       September 15\n",
       "34       September 22\n",
       "35       September 27\n",
       "36          October 5\n",
       "37          October 7\n",
       "38         October 11\n",
       "39     October 21, 22\n",
       "40         October 26\n",
       "41      November 4, 5\n",
       "42        November 10\n",
       "43    November 17, 18\n",
       "44        November 25\n",
       "45        November 25\n",
       "46        November 26\n",
       "47        November 27\n",
       "48         December 9\n",
       "49         December 9\n",
       "50        December 12\n",
       "51    December 13, 14\n",
       "52        December 21\n",
       "53    December 21, 22\n",
       "54        December 24\n",
       "Name: date, dtype: object"
      ]
     },
     "execution_count": 28,
     "metadata": {},
     "output_type": "execute_result"
    }
   ],
   "source": [
    "df[\"date\"]"
   ]
  },
  {
   "cell_type": "code",
   "execution_count": 29,
   "id": "a71ad587-24b4-4dcb-b4f7-a7eddad8de02",
   "metadata": {},
   "outputs": [],
   "source": [
    "df[\"date\"] = df[\"date\"].str.split(\",\").str[0]"
   ]
  },
  {
   "cell_type": "code",
   "execution_count": 30,
   "id": "b64c7c38-529b-4223-a542-b8fe859d1c89",
   "metadata": {},
   "outputs": [
    {
     "data": {
      "text/html": [
       "<div>\n",
       "<style scoped>\n",
       "    .dataframe tbody tr th:only-of-type {\n",
       "        vertical-align: middle;\n",
       "    }\n",
       "\n",
       "    .dataframe tbody tr th {\n",
       "        vertical-align: top;\n",
       "    }\n",
       "\n",
       "    .dataframe thead th {\n",
       "        text-align: right;\n",
       "    }\n",
       "</style>\n",
       "<table border=\"1\" class=\"dataframe\">\n",
       "  <thead>\n",
       "    <tr style=\"text-align: right;\">\n",
       "      <th></th>\n",
       "      <th>date</th>\n",
       "      <th>title</th>\n",
       "      <th>description</th>\n",
       "    </tr>\n",
       "  </thead>\n",
       "  <tbody>\n",
       "    <tr>\n",
       "      <th>0</th>\n",
       "      <td>January 3</td>\n",
       "      <td>Quadrantids Meteor Shower</td>\n",
       "      <td>January 3, 4 - Quadrantids Meteor Shower. The ...</td>\n",
       "    </tr>\n",
       "    <tr>\n",
       "      <th>1</th>\n",
       "      <td>January 4</td>\n",
       "      <td>New Moon</td>\n",
       "      <td>January 4 - New Moon. The Moon will located on...</td>\n",
       "    </tr>\n",
       "    <tr>\n",
       "      <th>2</th>\n",
       "      <td>January 19</td>\n",
       "      <td>Full Moon</td>\n",
       "      <td>January 19 - Full Moon. The Moon will be locat...</td>\n",
       "    </tr>\n",
       "    <tr>\n",
       "      <th>3</th>\n",
       "      <td>January 22</td>\n",
       "      <td>Mercury at Greatest Western Elongation</td>\n",
       "      <td>January 22 - Mercury at Greatest Western Elong...</td>\n",
       "    </tr>\n",
       "    <tr>\n",
       "      <th>4</th>\n",
       "      <td>February 2</td>\n",
       "      <td>New Moon</td>\n",
       "      <td>February 2- New Moon. The Moon will located on...</td>\n",
       "    </tr>\n",
       "  </tbody>\n",
       "</table>\n",
       "</div>"
      ],
      "text/plain": [
       "         date                                   title  \\\n",
       "0   January 3               Quadrantids Meteor Shower   \n",
       "1   January 4                                New Moon   \n",
       "2  January 19                               Full Moon   \n",
       "3  January 22  Mercury at Greatest Western Elongation   \n",
       "4  February 2                                New Moon   \n",
       "\n",
       "                                         description  \n",
       "0  January 3, 4 - Quadrantids Meteor Shower. The ...  \n",
       "1  January 4 - New Moon. The Moon will located on...  \n",
       "2  January 19 - Full Moon. The Moon will be locat...  \n",
       "3  January 22 - Mercury at Greatest Western Elong...  \n",
       "4  February 2- New Moon. The Moon will located on...  "
      ]
     },
     "execution_count": 30,
     "metadata": {},
     "output_type": "execute_result"
    }
   ],
   "source": [
    "df.head()"
   ]
  },
  {
   "cell_type": "code",
   "execution_count": 31,
   "id": "653a12e8-056b-4bea-a25a-7e0f1230481f",
   "metadata": {},
   "outputs": [
    {
     "data": {
      "text/plain": [
       "'January 3, 4 - Quadrantids Meteor Shower. The Quadrantids is an above average shower, with up to 40 meteors per hour at its peak. It is thought to be produced by dust grains left behind by an extinct comet known as 2003 EH1, which was discovered in 2003. The shower runs annually from January 1-5. It peaks this year on the night of the 3rd and  morning of the 4th. The new moon means dark skies and optimal viewing conditions for what should be an excellent show. Best viewing will be from a dark location after midnight. Meteors will radiate from the constellation Bootes, but can appear anywhere in the sky.'"
      ]
     },
     "execution_count": 31,
     "metadata": {},
     "output_type": "execute_result"
    }
   ],
   "source": [
    "df[\"description\"][0]"
   ]
  },
  {
   "cell_type": "code",
   "execution_count": 32,
   "id": "1b75df0e-399c-4bbc-8a30-040b0eb62fab",
   "metadata": {},
   "outputs": [],
   "source": [
    "df[\"description\"] = df[\"description\"].str.split(\".\", n=1).str[1] # only splits one time"
   ]
  },
  {
   "cell_type": "code",
   "execution_count": 33,
   "id": "c830c15b-a59b-4155-aeb9-1ecd5a551e99",
   "metadata": {},
   "outputs": [
    {
     "data": {
      "text/html": [
       "<div>\n",
       "<style scoped>\n",
       "    .dataframe tbody tr th:only-of-type {\n",
       "        vertical-align: middle;\n",
       "    }\n",
       "\n",
       "    .dataframe tbody tr th {\n",
       "        vertical-align: top;\n",
       "    }\n",
       "\n",
       "    .dataframe thead th {\n",
       "        text-align: right;\n",
       "    }\n",
       "</style>\n",
       "<table border=\"1\" class=\"dataframe\">\n",
       "  <thead>\n",
       "    <tr style=\"text-align: right;\">\n",
       "      <th></th>\n",
       "      <th>date</th>\n",
       "      <th>title</th>\n",
       "      <th>description</th>\n",
       "    </tr>\n",
       "  </thead>\n",
       "  <tbody>\n",
       "    <tr>\n",
       "      <th>0</th>\n",
       "      <td>January 3</td>\n",
       "      <td>Quadrantids Meteor Shower</td>\n",
       "      <td>The Quadrantids is an above average shower, w...</td>\n",
       "    </tr>\n",
       "    <tr>\n",
       "      <th>1</th>\n",
       "      <td>January 4</td>\n",
       "      <td>New Moon</td>\n",
       "      <td>The Moon will located on the same side of the...</td>\n",
       "    </tr>\n",
       "    <tr>\n",
       "      <th>2</th>\n",
       "      <td>January 19</td>\n",
       "      <td>Full Moon</td>\n",
       "      <td>The Moon will be located on the opposite side...</td>\n",
       "    </tr>\n",
       "    <tr>\n",
       "      <th>3</th>\n",
       "      <td>January 22</td>\n",
       "      <td>Mercury at Greatest Western Elongation</td>\n",
       "      <td>The planet Mercury reaches greatest western e...</td>\n",
       "    </tr>\n",
       "    <tr>\n",
       "      <th>4</th>\n",
       "      <td>February 2</td>\n",
       "      <td>New Moon</td>\n",
       "      <td>The Moon will located on the same side of the...</td>\n",
       "    </tr>\n",
       "  </tbody>\n",
       "</table>\n",
       "</div>"
      ],
      "text/plain": [
       "         date                                   title  \\\n",
       "0   January 3               Quadrantids Meteor Shower   \n",
       "1   January 4                                New Moon   \n",
       "2  January 19                               Full Moon   \n",
       "3  January 22  Mercury at Greatest Western Elongation   \n",
       "4  February 2                                New Moon   \n",
       "\n",
       "                                         description  \n",
       "0   The Quadrantids is an above average shower, w...  \n",
       "1   The Moon will located on the same side of the...  \n",
       "2   The Moon will be located on the opposite side...  \n",
       "3   The planet Mercury reaches greatest western e...  \n",
       "4   The Moon will located on the same side of the...  "
      ]
     },
     "execution_count": 33,
     "metadata": {},
     "output_type": "execute_result"
    }
   ],
   "source": [
    "df.head()"
   ]
  },
  {
   "cell_type": "code",
   "execution_count": 34,
   "id": "052b332d-4dc8-4512-a286-f00a43e57a6f",
   "metadata": {},
   "outputs": [
    {
     "data": {
      "text/plain": [
       "date           object\n",
       "title          object\n",
       "description    object\n",
       "dtype: object"
      ]
     },
     "execution_count": 34,
     "metadata": {},
     "output_type": "execute_result"
    }
   ],
   "source": [
    "df.dtypes"
   ]
  },
  {
   "cell_type": "code",
   "execution_count": 35,
   "id": "fcfeaaf8-0b18-40c1-aaa6-99be76a69441",
   "metadata": {},
   "outputs": [],
   "source": [
    "from helper_functions import convert_datetime_column # in helper_functions.py"
   ]
  },
  {
   "cell_type": "code",
   "execution_count": 36,
   "id": "151f5253-7422-4379-aba0-6bc76da22c20",
   "metadata": {},
   "outputs": [],
   "source": [
    "df = convert_datetime_column(df, \"date\", 2030)"
   ]
  },
  {
   "cell_type": "code",
   "execution_count": 37,
   "id": "897f6de8-50dc-4e7c-9faf-9722dc83e931",
   "metadata": {},
   "outputs": [
    {
     "data": {
      "text/html": [
       "<div>\n",
       "<style scoped>\n",
       "    .dataframe tbody tr th:only-of-type {\n",
       "        vertical-align: middle;\n",
       "    }\n",
       "\n",
       "    .dataframe tbody tr th {\n",
       "        vertical-align: top;\n",
       "    }\n",
       "\n",
       "    .dataframe thead th {\n",
       "        text-align: right;\n",
       "    }\n",
       "</style>\n",
       "<table border=\"1\" class=\"dataframe\">\n",
       "  <thead>\n",
       "    <tr style=\"text-align: right;\">\n",
       "      <th></th>\n",
       "      <th>date</th>\n",
       "      <th>title</th>\n",
       "      <th>description</th>\n",
       "    </tr>\n",
       "  </thead>\n",
       "  <tbody>\n",
       "    <tr>\n",
       "      <th>0</th>\n",
       "      <td>2030-01-03</td>\n",
       "      <td>Quadrantids Meteor Shower</td>\n",
       "      <td>The Quadrantids is an above average shower, w...</td>\n",
       "    </tr>\n",
       "    <tr>\n",
       "      <th>1</th>\n",
       "      <td>2030-01-04</td>\n",
       "      <td>New Moon</td>\n",
       "      <td>The Moon will located on the same side of the...</td>\n",
       "    </tr>\n",
       "    <tr>\n",
       "      <th>2</th>\n",
       "      <td>2030-01-19</td>\n",
       "      <td>Full Moon</td>\n",
       "      <td>The Moon will be located on the opposite side...</td>\n",
       "    </tr>\n",
       "    <tr>\n",
       "      <th>3</th>\n",
       "      <td>2030-01-22</td>\n",
       "      <td>Mercury at Greatest Western Elongation</td>\n",
       "      <td>The planet Mercury reaches greatest western e...</td>\n",
       "    </tr>\n",
       "    <tr>\n",
       "      <th>4</th>\n",
       "      <td>2030-02-02</td>\n",
       "      <td>New Moon</td>\n",
       "      <td>The Moon will located on the same side of the...</td>\n",
       "    </tr>\n",
       "  </tbody>\n",
       "</table>\n",
       "</div>"
      ],
      "text/plain": [
       "        date                                   title  \\\n",
       "0 2030-01-03               Quadrantids Meteor Shower   \n",
       "1 2030-01-04                                New Moon   \n",
       "2 2030-01-19                               Full Moon   \n",
       "3 2030-01-22  Mercury at Greatest Western Elongation   \n",
       "4 2030-02-02                                New Moon   \n",
       "\n",
       "                                         description  \n",
       "0   The Quadrantids is an above average shower, w...  \n",
       "1   The Moon will located on the same side of the...  \n",
       "2   The Moon will be located on the opposite side...  \n",
       "3   The planet Mercury reaches greatest western e...  \n",
       "4   The Moon will located on the same side of the...  "
      ]
     },
     "execution_count": 37,
     "metadata": {},
     "output_type": "execute_result"
    }
   ],
   "source": [
    "df.head()"
   ]
  },
  {
   "cell_type": "code",
   "execution_count": 38,
   "id": "83267cfc-d14d-4d04-ba01-227381732f21",
   "metadata": {},
   "outputs": [
    {
     "data": {
      "text/plain": [
       "date\n",
       "1.0     4\n",
       "2.0     2\n",
       "3.0     4\n",
       "4.0     4\n",
       "5.0     5\n",
       "6.0     5\n",
       "7.0     3\n",
       "8.0     4\n",
       "9.0     4\n",
       "10.0    5\n",
       "11.0    7\n",
       "12.0    7\n",
       "Name: count, dtype: int64"
      ]
     },
     "execution_count": 38,
     "metadata": {},
     "output_type": "execute_result"
    }
   ],
   "source": [
    "# how many events per month?\n",
    "df[\"date\"].dt.month.value_counts().sort_index()"
   ]
  },
  {
   "cell_type": "code",
   "execution_count": 44,
   "id": "47538ea5-f623-4f5f-804e-89aeb18512fa",
   "metadata": {},
   "outputs": [
    {
     "data": {
      "text/plain": [
       "<Axes: xlabel='date'>"
      ]
     },
     "execution_count": 44,
     "metadata": {},
     "output_type": "execute_result"
    },
    {
     "data": {
      "image/png": "[encoded data removed]",
      "text/plain": [
       "<Figure size 640x480 with 1 Axes>"
      ]
     },
     "metadata": {},
     "output_type": "display_data"
    }
   ],
   "source": [
    "df[\"date\"].dt.month.value_counts().sort_index().plot(kind=\"bar\")"
   ]
  },
  {
   "cell_type": "code",
   "execution_count": 45,
   "id": "3de52357-90a2-46ac-bfb6-0bdabaf5637f",
   "metadata": {},
   "outputs": [
    {
     "data": {
      "text/html": [
       "<div>\n",
       "<style scoped>\n",
       "    .dataframe tbody tr th:only-of-type {\n",
       "        vertical-align: middle;\n",
       "    }\n",
       "\n",
       "    .dataframe tbody tr th {\n",
       "        vertical-align: top;\n",
       "    }\n",
       "\n",
       "    .dataframe thead th {\n",
       "        text-align: right;\n",
       "    }\n",
       "</style>\n",
       "<table border=\"1\" class=\"dataframe\">\n",
       "  <thead>\n",
       "    <tr style=\"text-align: right;\">\n",
       "      <th></th>\n",
       "      <th>date</th>\n",
       "      <th>title</th>\n",
       "      <th>description</th>\n",
       "    </tr>\n",
       "  </thead>\n",
       "  <tbody>\n",
       "    <tr>\n",
       "      <th>0</th>\n",
       "      <td>2030-01-03</td>\n",
       "      <td>Quadrantids Meteor Shower</td>\n",
       "      <td>The Quadrantids is an above average shower, w...</td>\n",
       "    </tr>\n",
       "    <tr>\n",
       "      <th>1</th>\n",
       "      <td>2030-01-04</td>\n",
       "      <td>New Moon</td>\n",
       "      <td>The Moon will located on the same side of the...</td>\n",
       "    </tr>\n",
       "    <tr>\n",
       "      <th>2</th>\n",
       "      <td>2030-01-19</td>\n",
       "      <td>Full Moon</td>\n",
       "      <td>The Moon will be located on the opposite side...</td>\n",
       "    </tr>\n",
       "    <tr>\n",
       "      <th>3</th>\n",
       "      <td>2030-01-22</td>\n",
       "      <td>Mercury at Greatest Western Elongation</td>\n",
       "      <td>The planet Mercury reaches greatest western e...</td>\n",
       "    </tr>\n",
       "    <tr>\n",
       "      <th>4</th>\n",
       "      <td>2030-02-02</td>\n",
       "      <td>New Moon</td>\n",
       "      <td>The Moon will located on the same side of the...</td>\n",
       "    </tr>\n",
       "  </tbody>\n",
       "</table>\n",
       "</div>"
      ],
      "text/plain": [
       "        date                                   title  \\\n",
       "0 2030-01-03               Quadrantids Meteor Shower   \n",
       "1 2030-01-04                                New Moon   \n",
       "2 2030-01-19                               Full Moon   \n",
       "3 2030-01-22  Mercury at Greatest Western Elongation   \n",
       "4 2030-02-02                                New Moon   \n",
       "\n",
       "                                         description  \n",
       "0   The Quadrantids is an above average shower, w...  \n",
       "1   The Moon will located on the same side of the...  \n",
       "2   The Moon will be located on the opposite side...  \n",
       "3   The planet Mercury reaches greatest western e...  \n",
       "4   The Moon will located on the same side of the...  "
      ]
     },
     "execution_count": 45,
     "metadata": {},
     "output_type": "execute_result"
    }
   ],
   "source": [
    "df.head()"
   ]
  },
  {
   "cell_type": "code",
   "execution_count": 46,
   "id": "1c0b656a-6678-4dda-acae-5d1d661458ea",
   "metadata": {},
   "outputs": [
    {
     "data": {
      "text/plain": [
       "' The Quadrantids is an above average shower, with up to 40 meteors per hour at its peak. It is thought to be produced by dust grains left behind by an extinct comet known as 2003 EH1, which was discovered in 2003. The shower runs annually from January 1-5. It peaks this year on the night of the 3rd and  morning of the 4th. The new moon means dark skies and optimal viewing conditions for what should be an excellent show. Best viewing will be from a dark location after midnight. Meteors will radiate from the constellation Bootes, but can appear anywhere in the sky.'"
      ]
     },
     "execution_count": 46,
     "metadata": {},
     "output_type": "execute_result"
    }
   ],
   "source": [
    "df[\"description\"][0]"
   ]
  },
  {
   "cell_type": "code",
   "execution_count": 47,
   "id": "061e3107-38a3-41f1-960e-c6027e3c5217",
   "metadata": {},
   "outputs": [
    {
     "data": {
      "text/plain": [
       "' The Moon will located on the same side of the Earth as the Sun and will not be visible in the night sky. This phase occurs at 02:50 UTC. This is the best time of the month to observe faint objects such as galaxies and star clusters because there is no moonlight to interfere.'"
      ]
     },
     "execution_count": 47,
     "metadata": {},
     "output_type": "execute_result"
    }
   ],
   "source": [
    "df[\"description\"][1]"
   ]
  },
  {
   "cell_type": "code",
   "execution_count": 48,
   "id": "216effe8-d525-4e44-9f10-0a7115ddd86b",
   "metadata": {},
   "outputs": [],
   "source": [
    "# Regex pattern to match time in HH:MM or H:MM format\n",
    "time_pattern = r'\\b(\\d{1,2}:\\d{2})\\b'\n",
    "\n",
    "# Extract the first instance of the time pattern\n",
    "df['time'] = df['description'].str.extract(time_pattern)\n"
   ]
  },
  {
   "cell_type": "code",
   "execution_count": 49,
   "id": "bf0e2827-b767-47ea-a61d-06c175794e80",
   "metadata": {},
   "outputs": [
    {
     "data": {
      "text/html": [
       "<div>\n",
       "<style scoped>\n",
       "    .dataframe tbody tr th:only-of-type {\n",
       "        vertical-align: middle;\n",
       "    }\n",
       "\n",
       "    .dataframe tbody tr th {\n",
       "        vertical-align: top;\n",
       "    }\n",
       "\n",
       "    .dataframe thead th {\n",
       "        text-align: right;\n",
       "    }\n",
       "</style>\n",
       "<table border=\"1\" class=\"dataframe\">\n",
       "  <thead>\n",
       "    <tr style=\"text-align: right;\">\n",
       "      <th></th>\n",
       "      <th>date</th>\n",
       "      <th>title</th>\n",
       "      <th>description</th>\n",
       "      <th>time</th>\n",
       "    </tr>\n",
       "  </thead>\n",
       "  <tbody>\n",
       "    <tr>\n",
       "      <th>0</th>\n",
       "      <td>2030-01-03</td>\n",
       "      <td>Quadrantids Meteor Shower</td>\n",
       "      <td>The Quadrantids is an above average shower, w...</td>\n",
       "      <td>NaN</td>\n",
       "    </tr>\n",
       "    <tr>\n",
       "      <th>1</th>\n",
       "      <td>2030-01-04</td>\n",
       "      <td>New Moon</td>\n",
       "      <td>The Moon will located on the same side of the...</td>\n",
       "      <td>02:50</td>\n",
       "    </tr>\n",
       "    <tr>\n",
       "      <th>2</th>\n",
       "      <td>2030-01-19</td>\n",
       "      <td>Full Moon</td>\n",
       "      <td>The Moon will be located on the opposite side...</td>\n",
       "      <td>15:55</td>\n",
       "    </tr>\n",
       "    <tr>\n",
       "      <th>3</th>\n",
       "      <td>2030-01-22</td>\n",
       "      <td>Mercury at Greatest Western Elongation</td>\n",
       "      <td>The planet Mercury reaches greatest western e...</td>\n",
       "      <td>NaN</td>\n",
       "    </tr>\n",
       "    <tr>\n",
       "      <th>4</th>\n",
       "      <td>2030-02-02</td>\n",
       "      <td>New Moon</td>\n",
       "      <td>The Moon will located on the same side of the...</td>\n",
       "      <td>16:08</td>\n",
       "    </tr>\n",
       "  </tbody>\n",
       "</table>\n",
       "</div>"
      ],
      "text/plain": [
       "        date                                   title  \\\n",
       "0 2030-01-03               Quadrantids Meteor Shower   \n",
       "1 2030-01-04                                New Moon   \n",
       "2 2030-01-19                               Full Moon   \n",
       "3 2030-01-22  Mercury at Greatest Western Elongation   \n",
       "4 2030-02-02                                New Moon   \n",
       "\n",
       "                                         description   time  \n",
       "0   The Quadrantids is an above average shower, w...    NaN  \n",
       "1   The Moon will located on the same side of the...  02:50  \n",
       "2   The Moon will be located on the opposite side...  15:55  \n",
       "3   The planet Mercury reaches greatest western e...    NaN  \n",
       "4   The Moon will located on the same side of the...  16:08  "
      ]
     },
     "execution_count": 49,
     "metadata": {},
     "output_type": "execute_result"
    }
   ],
   "source": [
    "df.head()"
   ]
  },
  {
   "cell_type": "code",
   "execution_count": null,
   "id": "0c3411a7-bc0e-4037-84cf-b1367414136d",
   "metadata": {},
   "outputs": [],
   "source": []
  },
  {
   "cell_type": "code",
   "execution_count": null,
   "id": "99b00f1a-2b05-4018-a463-425aee5f17c3",
   "metadata": {},
   "outputs": [],
   "source": []
  },
  {
   "cell_type": "code",
   "execution_count": null,
   "id": "69ec1b61-3a45-4cfe-9d8f-06f526f90480",
   "metadata": {},
   "outputs": [],
   "source": []
  },
  {
   "cell_type": "code",
   "execution_count": null,
   "id": "631f8038-f59e-46f3-b674-9cbbea42589b",
   "metadata": {},
   "outputs": [],
   "source": []
  },
  {
   "cell_type": "code",
   "execution_count": null,
   "id": "1a048352-b57b-4f31-95f0-ce5fcf87e5a8",
   "metadata": {},
   "outputs": [],
   "source": []
  },
  {
   "cell_type": "code",
   "execution_count": null,
   "id": "7bb9a552-fd88-4fe3-a63e-d0427fafb564",
   "metadata": {},
   "outputs": [],
   "source": []
  },
  {
   "cell_type": "code",
   "execution_count": null,
   "id": "8b03d36d-7a03-41cc-822e-13d5d25036c4",
   "metadata": {},
   "outputs": [],
   "source": []
  },
  {
   "cell_type": "code",
   "execution_count": null,
   "id": "a8ddda31-a0df-4b00-8e15-8461481bf718",
   "metadata": {},
   "outputs": [],
   "source": []
  },
  {
   "cell_type": "code",
   "execution_count": null,
   "id": "d5ca740d-c0f0-418b-9af3-3ca944d3d351",
   "metadata": {},
   "outputs": [],
   "source": []
  },
  {
   "cell_type": "code",
   "execution_count": null,
   "id": "70e576b4-fb2e-4d68-adb2-a22e0e8bbfa7",
   "metadata": {},
   "outputs": [],
   "source": []
  },
  {
   "cell_type": "code",
   "execution_count": null,
   "id": "c9e7433d-709c-47f6-820e-ab31fc646289",
   "metadata": {},
   "outputs": [],
   "source": []
  },
  {
   "cell_type": "code",
   "execution_count": null,
   "id": "0d22144a-397e-417b-92f3-94589130e891",
   "metadata": {},
   "outputs": [],
   "source": []
  },
  {
   "cell_type": "code",
   "execution_count": null,
   "id": "d3636d31-4e7a-4a7e-b52f-28c32e8fe167",
   "metadata": {},
   "outputs": [],
   "source": []
  },
  {
   "cell_type": "code",
   "execution_count": null,
   "id": "5ab636d7-e6be-43ad-8263-bbce84131762",
   "metadata": {},
   "outputs": [],
   "source": []
  },
  {
   "cell_type": "code",
   "execution_count": null,
   "id": "4f5280a5-7e44-4cdc-8413-1e0548ce2374",
   "metadata": {},
   "outputs": [],
   "source": []
  },
  {
   "cell_type": "code",
   "execution_count": null,
   "id": "90545146-41d0-49ea-a9a5-3ab4efdce82d",
   "metadata": {},
   "outputs": [],
   "source": []
  },
  {
   "cell_type": "code",
   "execution_count": null,
   "id": "5becebc7-5dd3-46cd-a6c1-a6185463c8b4",
   "metadata": {},
   "outputs": [],
   "source": []
  },
  {
   "cell_type": "code",
   "execution_count": null,
   "id": "7d4f3bc7-a6b9-486c-b6d7-d09bfe32571b",
   "metadata": {},
   "outputs": [],
   "source": []
  },
  {
   "cell_type": "code",
   "execution_count": null,
   "id": "372265c7-238c-43b4-b20c-7c850db45492",
   "metadata": {},
   "outputs": [],
   "source": []
  },
  {
   "cell_type": "code",
   "execution_count": null,
   "id": "d450a113-ef42-4dae-9258-fd3c13451a3c",
   "metadata": {},
   "outputs": [],
   "source": []
  },
  {
   "cell_type": "code",
   "execution_count": null,
   "id": "69d75c94-4674-4021-8e1c-a69bbf73da22",
   "metadata": {},
   "outputs": [],
   "source": []
  },
  {
   "cell_type": "code",
   "execution_count": null,
   "id": "bc955750-46e5-4cfd-ae96-8c146ce33baa",
   "metadata": {},
   "outputs": [],
   "source": []
  },
  {
   "cell_type": "code",
   "execution_count": null,
   "id": "ad9bbc5a-459f-4f2b-86c5-a32ce9a6a100",
   "metadata": {},
   "outputs": [],
   "source": []
  },
  {
   "cell_type": "code",
   "execution_count": null,
   "id": "8361260c-672f-4da4-a27c-782221390594",
   "metadata": {},
   "outputs": [],
   "source": []
  },
  {
   "cell_type": "code",
   "execution_count": null,
   "id": "f6b1626a-b627-4ded-b1c6-014dfe217e3e",
   "metadata": {},
   "outputs": [],
   "source": []
  },
  {
   "cell_type": "code",
   "execution_count": null,
   "id": "768e9bb2-452e-4f1e-b4b9-d3b49a9dcc1e",
   "metadata": {},
   "outputs": [],
   "source": []
  },
  {
   "cell_type": "code",
   "execution_count": null,
   "id": "39c1a658-000e-407a-ae11-01b08655d4f1",
   "metadata": {},
   "outputs": [],
   "source": []
  },
  {
   "cell_type": "code",
   "execution_count": null,
   "id": "5bdbd4c0-84ac-440c-a4ef-8c07409863b5",
   "metadata": {},
   "outputs": [],
   "source": []
  },
  {
   "cell_type": "code",
   "execution_count": null,
   "id": "84d1e8cd-5185-4e98-9d2e-fee611de00a8",
   "metadata": {},
   "outputs": [],
   "source": []
  },
  {
   "cell_type": "code",
   "execution_count": null,
   "id": "2a4a6c34-0910-459b-a478-f569ff30d6d9",
   "metadata": {},
   "outputs": [],
   "source": []
  },
  {
   "cell_type": "code",
   "execution_count": null,
   "id": "e3fe8279-531b-4aa5-bb19-155eac90845f",
   "metadata": {},
   "outputs": [],
   "source": []
  },
  {
   "cell_type": "code",
   "execution_count": null,
   "id": "277ba46c-27f2-4c53-96e7-8eb6f512e5d3",
   "metadata": {},
   "outputs": [],
   "source": []
  },
  {
   "cell_type": "code",
   "execution_count": null,
   "id": "54f6791e-66ac-4b13-b54a-802b1fe8fb5f",
   "metadata": {},
   "outputs": [],
   "source": []
  },
  {
   "cell_type": "code",
   "execution_count": null,
   "id": "f01938f8-5d48-4051-ac6d-7f5e1a1bbd38",
   "metadata": {},
   "outputs": [],
   "source": []
  },
  {
   "cell_type": "code",
   "execution_count": null,
   "id": "e2a4ae86-9e0a-474d-b7e3-ca7c466c04f2",
   "metadata": {},
   "outputs": [],
   "source": []
  },
  {
   "cell_type": "code",
   "execution_count": null,
   "id": "2a5794d0-1bf9-4569-90d4-50ad8d2a365a",
   "metadata": {},
   "outputs": [],
   "source": []
  },
  {
   "cell_type": "code",
   "execution_count": null,
   "id": "dc4efa12-46b2-4cf8-81c0-cf631935d850",
   "metadata": {},
   "outputs": [],
   "source": []
  },
  {
   "cell_type": "code",
   "execution_count": null,
   "id": "7b91db17-6785-4ff9-8572-e2011c7d0abc",
   "metadata": {},
   "outputs": [],
   "source": []
  },
  {
   "cell_type": "code",
   "execution_count": null,
   "id": "1741ffc2-7ba9-49d3-987b-846efe36df3e",
   "metadata": {},
   "outputs": [],
   "source": []
  },
  {
   "cell_type": "code",
   "execution_count": null,
   "id": "37d7878d-e84e-4a96-b064-11e014835041",
   "metadata": {},
   "outputs": [],
   "source": []
  },
  {
   "cell_type": "code",
   "execution_count": null,
   "id": "a2455a3c-4dff-4c2d-be22-d038ef33c81c",
   "metadata": {},
   "outputs": [],
   "source": []
  },
  {
   "cell_type": "code",
   "execution_count": null,
   "id": "521e5ae4-3745-42c6-80db-eb263c2ae041",
   "metadata": {},
   "outputs": [],
   "source": []
  },
  {
   "cell_type": "code",
   "execution_count": null,
   "id": "884e86ef-37ee-4bbd-88f6-9e2b24a6efdc",
   "metadata": {},
   "outputs": [],
   "source": []
  }
 ],
 "metadata": {
  "kernelspec": {
   "display_name": "Python 3 (ipykernel)",
   "language": "python",
   "name": "python3"
  },
  "language_info": {
   "codemirror_mode": {
    "name": "ipython",
    "version": 3
   },
   "file_extension": ".py",
   "mimetype": "text/x-python",
   "name": "python",
   "nbconvert_exporter": "python",
   "pygments_lexer": "ipython3",
   "version": "3.11.6"
  }
 },
 "nbformat": 4,
 "nbformat_minor": 5
}

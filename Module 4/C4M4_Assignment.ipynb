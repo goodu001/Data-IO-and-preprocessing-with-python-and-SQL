{
 "cells": [
  {
   "cell_type": "markdown",
   "metadata": {},
   "source": [
    "# Module 4 Assignment: Deeper Analysis of the Movie Data with SQL\n",
    "\n",
    "Welcome to this module's assignment!\n",
    "\n",
    "Carefully read each Markdown (text) cell, which includes instructions and hints. Start by reading the background behind your upcoming tasks.\n",
    "\n",
    "When you are done, submit your solution by saving it, then clicking on the blue submit button at the top of the page.\n",
    "\n",
    "## Background:\n",
    "\n",
    "You continue your work at a media analytics company specializing in streaming platform insights. Your manager was very impressed with the insights you were able to gather. He wants you to  perform data validation, and dive deeper into the dataset.\n",
    "\n",
    "In this assignment, you will be working with the [MUBI SVOD Platform Database for Movie Lovers Dataset](https://www.kaggle.com/datasets/clementmsika/mubi-sqlite-database-for-movie-lovers) from Kaggle, which provides a collection of movies and user ratings, including details like movie titles, release years, genres, duration, and user-generated ratings.\n",
    "\n",
    "You will work with the following tables. The bold columns in each table are the ones you will be working with in in this lab.\n",
    "\n",
    "**movies**\n",
    "\n",
    "| Column Name | Data Type | Description                          |\n",
    "| ----------- | --------- | ------------------------------------ |\n",
    "| **`movie_id`** | INTEGER   | ID related to the movie on Mubi      |\n",
    "| **`movie_title`**| TEXT      | Name of the movie                   |\n",
    "| **`movie_release_year`**| INTEGER   | Release year of the movie            |\n",
    "| `movie_url`| TEXT  | URL to the movie page on Mubi |\n",
    "| `movie_title_language`| TEXT | By default, the title is in English. |\n",
    "| **`movie_popularity`**   | INTEGER      | Number of Mubi users who love this movie                 |\n",
    "| `movie_image_url`| TEXT |    Image URL to the movie on Mubi | \n",
    "| `director_id`  | INTEGER   | ID related to the movie director on Mubi    |\n",
    "| **`director_name`**    | TEXT      |\tFull Name of the movie director    |\n",
    "| `director_url` | TEXT | URL to the movie director page on Mubi| \n",
    "| **`rating`** | REAL | Movie rating, based on Mubi user ratings | \n",
    "\n",
    "**ratings**\n",
    "\n",
    "| Column Name | Data Type | Description                          |\n",
    "| ----------- | --------- | ------------------------------------ |\n",
    "| **`movie_id`**  | INTEGER   | Movie ID related to the rating       |\n",
    "| `rating_id`   | INTEGER   | Rating ID on Mubi       |\n",
    "| `rating_url`   | TEXT   | URL to the rating on Mubi       |\n",
    "| `rating_score`    | INTEGER      | Rating score ranging from 1 (lowest) to 5 (highest) |\n",
    "| `rating_timestamp` | INTEGER   | Timestamp for the movie rating made by the user on Mubi              |\n",
    "| **`critique`**| TEXT | Critique made by the user rating the movie. If value = \"None\", the user did not write a critique when rating the movie. |\n",
    "| **`critique_likes`** | INTEGER | Number of likes related to the critique made by the user rating the movie |\n",
    "| `critique_comments` | INTEGER | Number of comments related to the critique made by the user rating the movie |\n",
    "| `user_id` | INTEGER | ID related to the user rating the movie | \n",
    "| `user_trialist` | INTEGER | 1 = the user was a trialist when he rated the movie 0 = the user was not a trialist when he rated the movie |\n",
    "| `user_subscriber` | INTEGER | 1 = the user was a subscriber when he rated the movie 0 = the user was not a subscriber when he rated the movie |\n",
    "| `user_elegible_for_trial` | INTEGER | 1 = the user was eligible for trial when he rated the movie 0 = the user was not eligible for trial when he rated the movie |\n",
    "| `user_has_payment_method` | INTEGER | 1 = the user was a paying subscriber when he rated the movie 0 = the user was not a paying subscriber when he rated |\n",
    "\n",
    "\n",
    "\n",
    "\n",
    "## In order for your submission to be graded correctly, you **MUST**:\n",
    "* **Use the provided variable names**, otherwise the autograder will not be able to locate the variable for grading. \n",
    "\n",
    "* **Replace any instances of `None` with your own code.** \n",
    "\n",
    "* **Only modify the cells that start with the comment `# GRADED CELL`**.  \n",
    "\n",
    "* **Use the provided cells for your solution.** You can add new cells to experiment, but these will be omitted when grading. \n",
    "\n",
    "To submit your solution, save it, then click on the blue submit button at the top of the page.\n",
    "\n",
    "<div style=\"background-color: #FAD888; padding: 10px; border-radius: 3px; box-shadow: 0 2px 4px rgba(0, 0, 0, 0.1); width:95%\n",
    "\">\n",
    "<strong>Important note</strong>: Code blocks with None will not run properly. If you run them before completing the exercise, you will likely get an error. \n",
    "\n",
    "</div>"
   ]
  },
  {
   "cell_type": "markdown",
   "metadata": {},
   "source": [
    "## Table of Contents\n",
    "\n",
    "- [Step 1: Importing modules](#step-1)\n",
    "- [Step 2: Connecting to the Database](#step-2)\n",
    "- [Step 3: Data Validation](#step-3)\n",
    "    - [Exercise 1: Unique movies](#ex1)\n",
    "    - [Exercise 2: Missing Data](#ex2)\n",
    "- [Step 4: Deeper Analysis on the dataset](#step-4)\n",
    "    - [Exercise 3: Analyzing Highly-Rated Recent Movies](#ex3)\n",
    "    - [Exercise 4: Director's Cuts](#ex4)\n",
    "    - [Exercise 5: Average Rating Per Year](#ex5)\n",
    "    - [Exercise 6: Most Liked Critiques](#ex6)\n",
    "    - [Exercise 7: Identifying Unrated Movies](#ex7)\n",
    "    - [Exercise 8: Binning Popularity](#ex8)\n"
   ]
  },
  {
   "cell_type": "markdown",
   "metadata": {},
   "source": [
    "<a id=\"step-1\"></a>\n",
    "\n",
    "## Step 1: Importing modules\n",
    "\n",
    "Before you start working on the dataset, it is good practice to import all modules at the beginning of your code. \n",
    "\n",
    "<div style=\"background-color: #C6E2FF; padding: 10px; border-radius: 3px; box-shadow: 0 2px 4px rgba(0, 0, 0, 0.1); width:95%\n",
    "\">\n",
    "    <strong>▶▶▶ Directions</strong> \n",
    "        <ol>\n",
    "            <li>Run the cell below to import the following `sqlite3` and `pandas` modules.</li>\n",
    "        </ol>\n",
    "</div>"
   ]
  },
  {
   "cell_type": "code",
   "execution_count": 1,
   "metadata": {
    "deletable": false,
    "editable": false,
    "slideshow": {
     "slide_type": ""
    },
    "tags": [
     "graded"
    ]
   },
   "outputs": [],
   "source": [
    "# 🔒This cell is locked. You will not be able to edit it.\n",
    " \n",
    "import sqlite3\n",
    "import pandas as pd\n",
    "import matplotlib.pyplot as plt"
   ]
  },
  {
   "cell_type": "markdown",
   "metadata": {
    "editable": true,
    "slideshow": {
     "slide_type": ""
    },
    "tags": []
   },
   "source": [
    "<a id=\"step-2\"></a>\n",
    "\n",
    "## Step 2: Connecting to the Database\n",
    "Begin by connecting to the MUBI database\n",
    "\n",
    "<div style=\"background-color: #C6E2FF; padding: 10px; border-radius: 3px; box-shadow: 0 2px 4px rgba(0, 0, 0, 0.1); width:95%\n",
    "\">\n",
    "\n",
    "**▶▶▶ Directions**\n",
    "1. Run the cell below to connect to the `mubi_movies_ratings.db` database \n",
    "\n",
    "</div>"
   ]
  },
  {
   "cell_type": "code",
   "execution_count": 2,
   "metadata": {
    "deletable": false,
    "editable": false,
    "slideshow": {
     "slide_type": ""
    },
    "tags": [
     "graded"
    ]
   },
   "outputs": [
    {
     "data": {
      "text/html": [
       "<div>\n",
       "<style scoped>\n",
       "    .dataframe tbody tr th:only-of-type {\n",
       "        vertical-align: middle;\n",
       "    }\n",
       "\n",
       "    .dataframe tbody tr th {\n",
       "        vertical-align: top;\n",
       "    }\n",
       "\n",
       "    .dataframe thead th {\n",
       "        text-align: right;\n",
       "    }\n",
       "</style>\n",
       "<table border=\"1\" class=\"dataframe\">\n",
       "  <thead>\n",
       "    <tr style=\"text-align: right;\">\n",
       "      <th></th>\n",
       "      <th>movie_id</th>\n",
       "      <th>movie_title</th>\n",
       "    </tr>\n",
       "  </thead>\n",
       "  <tbody>\n",
       "    <tr>\n",
       "      <th>0</th>\n",
       "      <td>1</td>\n",
       "      <td>La Antena</td>\n",
       "    </tr>\n",
       "  </tbody>\n",
       "</table>\n",
       "</div>"
      ],
      "text/plain": [
       "   movie_id movie_title\n",
       "0         1   La Antena"
      ]
     },
     "execution_count": 2,
     "metadata": {},
     "output_type": "execute_result"
    }
   ],
   "source": [
    "# 🔒This cell is locked. You will not be able to edit it.\n",
    "\n",
    "# create a connection to the database\n",
    "connection = sqlite3.connect(\"mubi_movies_ratings.db\")\n",
    "\n",
    "# check the connection with a small query\n",
    "query = \"\"\"\n",
    "SELECT movie_id, movie_title \n",
    "FROM movies \n",
    "LIMIT 1\n",
    "\"\"\"\n",
    "pd.read_sql_query(query, connection)"
   ]
  },
  {
   "cell_type": "markdown",
   "metadata": {},
   "source": [
    "<details>\n",
    "<summary style=\"background-color: #c6e2ff6c; padding: 10px; border-radius: 3px; box-shadow: 0 2px 4px rgba(0, 0, 0, 0.01); width: 95%; text-align: left; cursor: pointer; font-weight: bold;\">\n",
    "Expected output:</summary> \n",
    "<br>\n",
    "\n",
    "\n",
    "<img src=\"imgs/check_conn.png\" width=200>\n",
    "\n",
    "</details>"
   ]
  },
  {
   "cell_type": "markdown",
   "metadata": {},
   "source": [
    "<a id=\"step-3\"></a>\n",
    "\n",
    "## Step 3: Data Validation\n",
    "<a id=\"ex1\"></a>\n",
    "\n",
    "#### Exercise 1: Unique Movies\n",
    "\n",
    "You want to ensure your data is unique so your analysis is accurate and not influenced by repeated entries.\n",
    "\n",
    "<div style=\"background-color: #C6E2FF; padding: 10px; border-radius: 3px; box-shadow: 0 2px 4px rgba(0, 0, 0, 0.1); width:95%\">\n",
    "\n",
    "**▶▶▶ Directions**\n",
    "1. Write a query that counts the number of unique movies in the `movies` table. Use the alias `num_unique_movies`\n",
    "2. Write another query that counts the number of rows in the `movies` table. Use the alias `num_rows`` \n",
    "3. Run the query and save the resulting DataFrame.\n",
    "</div>"
   ]
  },
  {
   "cell_type": "markdown",
   "metadata": {},
   "source": [
    "<details>\n",
    "<summary style=\"background-color: #FDBFC7; padding: 10px; border-radius: 3px; box-shadow: 0 2px 4px rgba(0, 0, 0, 0.1); width: 95%; text-align: left; cursor: pointer; font-weight: bold;\">\n",
    "If you are stuck, click here for extra hints!</summary> \n",
    "\n",
    "<ul style=\"background-color: #FFF8F8; padding: 10px; border-radius: 3px; margin-top: 5px; width: 95%; box-shadow: inset 0 2px 4px rgba(0, 0, 0, 0.1);\">\n",
    "   \n",
    "- Two different movies could have the same name. Think, for example, of remakes. A better identifier for unique movies is the `movie_id` column.\n",
    "- To know the number of distinct movies, you need to `COUNT` all `UNIQUE` values in the `movie_id` column.\n",
    "- To get the total number of rows, you can `COUNT` all the values in `movie_id`.\n",
    "- To define aliases, you need to add the `AS` statement followed by the desired name after each value you want to `SELECT`. It should look something like this:\n",
    "\n",
    "    ```SQL\n",
    "    SELECT customer_id AS \"ID\", customer_surname AS \"Last Name\"\n",
    "    ```\n",
    "- Remember to indicate which table you want to retrieve the information from. In this case, `movies`.\n",
    "- Don't forget to finish the query with a semi-colon (;).\n",
    "- To run the query, you can use the [🔗`pd.read_sql_query()`](https://pandas.pydata.org/docs/reference/api/pandas.read_sql.html) function. You only need to pass the query and the connection (in that order).\n",
    "</ul>\n",
    "</details>"
   ]
  },
  {
   "cell_type": "code",
   "execution_count": 5,
   "metadata": {
    "deletable": false,
    "tags": [
     "graded"
    ]
   },
   "outputs": [],
   "source": [
    "# GRADED CELL: Exercise 1\n",
    "\n",
    "### START CODE HERE ###\n",
    "\n",
    "# write the query to get the number of unique movie ids in the movies table\n",
    "query_unique_movies = \"\"\"\n",
    "SELECT COUNT (DISTINCT movie_title) AS \"num_unique_movies\"\n",
    "FROM movies \n",
    "\"\"\"\n",
    "\n",
    "# write the query to get the number of rows in the movies table\n",
    "query_num_rows = \"\"\"\n",
    "SELECT COUNT (*) AS \"num_rows\"\n",
    "FROM movies\n",
    "\"\"\"\n",
    "\n",
    "# run the queries and save the results\n",
    "df_unique_movies = pd.read_sql(query_unique_movies, connection)\n",
    "df_num_rows = pd.read_sql(query_num_rows, connection)\n",
    "\n",
    "### END CODE HERE ###"
   ]
  },
  {
   "cell_type": "code",
   "execution_count": 6,
   "metadata": {
    "deletable": false,
    "editable": false
   },
   "outputs": [
    {
     "name": "stdout",
     "output_type": "stream",
     "text": [
      "   num_unique_movies\n",
      "0             196628\n",
      "   num_rows\n",
      "0    226575\n"
     ]
    }
   ],
   "source": [
    "# 🔒This cell is locked. You will not be able to edit it.\n",
    "\n",
    "# print the results \n",
    "print(df_unique_movies)\n",
    "print(df_num_rows)"
   ]
  },
  {
   "cell_type": "markdown",
   "metadata": {},
   "source": [
    "<details>\n",
    "<summary style=\"background-color: #c6e2ff6c; padding: 10px; border-radius: 3px; box-shadow: 0 2px 4px rgba(0, 0, 0, 0.01); width: 95%; text-align: left; cursor: pointer; font-weight: bold;\">\n",
    "Expected output:</summary> \n",
    "<br>\n",
    "\n",
    "<small>\n",
    "\n",
    "```mkdn\n",
    "   num_unique_movies\n",
    "0             226575\n",
    "   num_rows\n",
    "0    226575\n",
    "```\n",
    "</small>\n",
    "</details>"
   ]
  },
  {
   "cell_type": "markdown",
   "metadata": {},
   "source": [
    "Based on these results, are there any repeated movies in the dataset?\n",
    "<a id=\"ex2\"></a>\n",
    "\n",
    "#### Exercise 2: Missing Data\n",
    "\n",
    "You want to make sure you are aware of missing values in your dataset. If not handled properly, they could lead to skewed results.\n",
    "\n",
    "<div style=\"background-color: #C6E2FF; padding: 10px; border-radius: 3px; box-shadow: 0 2px 4px rgba(0, 0, 0, 0.1); width:95%\">\n",
    "\n",
    "**▶▶▶ Directions**\n",
    "\n",
    "1. Write a SQL query that returns the `movie_id`, `movie_title`, `director_name` and `movie_popularity` from movies with missing (NULL) year (`movie_release_year`) from the `movies` table.\n",
    "2. Execute the query and save the results as a Pandas DataFrame.\n",
    "</div>"
   ]
  },
  {
   "cell_type": "markdown",
   "metadata": {},
   "source": [
    "<details>\n",
    "<summary style=\"background-color: #FDBFC7; padding: 10px; border-radius: 3px; box-shadow: 0 2px 4px rgba(0, 0, 0, 0.1); width: 95%; text-align: left; cursor: pointer; font-weight: bold;\">\n",
    "If you are stuck, click here for extra hints!</summary> \n",
    "\n",
    "<ul style=\"background-color: #FFF8F8; padding: 10px; border-radius: 3px; margin-top: 5px; width: 95%; box-shadow: inset 0 2px 4px rgba(0, 0, 0, 0.1);\">\n",
    "   \n",
    "- To filter rows where some condition is met, you can use the `WHERE` statement followed by the condition.\n",
    "- To check for null values, you want to compare against `IS NULL`.\n",
    "- Don't forget to finish the query with a semi-colon (;).\n",
    "- To run the query, you can use the [🔗`pd.read_sql_query()`](https://pandas.pydata.org/docs/reference/api/pandas.read_sql.html) function. You only need to pass the query and the connection (in that order).\n",
    "</ul>\n",
    "</details>"
   ]
  },
  {
   "cell_type": "code",
   "execution_count": 16,
   "metadata": {
    "deletable": false,
    "tags": [
     "graded"
    ]
   },
   "outputs": [],
   "source": [
    "# GRADED CELL: Exercise 2\n",
    "\n",
    "### START CODE HERE ###\n",
    "\n",
    "# write the query to get movies with missing release years\n",
    "query_missing_year = \"\"\"\n",
    "SELECT movie_id, movie_title, director_name, movie_popularity\n",
    "FROM movies\n",
    "WHERE movie_release_year IS NULL\n",
    "LIMIT 5\n",
    "\"\"\"\n",
    "\n",
    "# run the query and save the results\n",
    "df_missing_years = pd.read_sql_query(query_missing_year, connection)\n",
    "\n",
    "### END CODE HERE ###"
   ]
  },
  {
   "cell_type": "code",
   "execution_count": 17,
   "metadata": {
    "deletable": false,
    "editable": false
   },
   "outputs": [
    {
     "data": {
      "text/html": [
       "<div>\n",
       "<style scoped>\n",
       "    .dataframe tbody tr th:only-of-type {\n",
       "        vertical-align: middle;\n",
       "    }\n",
       "\n",
       "    .dataframe tbody tr th {\n",
       "        vertical-align: top;\n",
       "    }\n",
       "\n",
       "    .dataframe thead th {\n",
       "        text-align: right;\n",
       "    }\n",
       "</style>\n",
       "<table border=\"1\" class=\"dataframe\">\n",
       "  <thead>\n",
       "    <tr style=\"text-align: right;\">\n",
       "      <th></th>\n",
       "      <th>movie_id</th>\n",
       "      <th>movie_title</th>\n",
       "      <th>director_name</th>\n",
       "      <th>movie_popularity</th>\n",
       "    </tr>\n",
       "  </thead>\n",
       "  <tbody>\n",
       "    <tr>\n",
       "      <th>0</th>\n",
       "      <td>100526</td>\n",
       "      <td>The Overcoat</td>\n",
       "      <td>Yuriy Norshteyn</td>\n",
       "      <td>3</td>\n",
       "    </tr>\n",
       "    <tr>\n",
       "      <th>1</th>\n",
       "      <td>114131</td>\n",
       "      <td>Found in Trash</td>\n",
       "      <td>Adam Cooley</td>\n",
       "      <td>0</td>\n",
       "    </tr>\n",
       "    <tr>\n",
       "      <th>2</th>\n",
       "      <td>134787</td>\n",
       "      <td>Phantom Ore</td>\n",
       "      <td>Myron Ort</td>\n",
       "      <td>1</td>\n",
       "    </tr>\n",
       "    <tr>\n",
       "      <th>3</th>\n",
       "      <td>134788</td>\n",
       "      <td>New York Kino</td>\n",
       "      <td>Myron Ort</td>\n",
       "      <td>0</td>\n",
       "    </tr>\n",
       "    <tr>\n",
       "      <th>4</th>\n",
       "      <td>134790</td>\n",
       "      <td>Awakener</td>\n",
       "      <td>Myron Ort</td>\n",
       "      <td>0</td>\n",
       "    </tr>\n",
       "  </tbody>\n",
       "</table>\n",
       "</div>"
      ],
      "text/plain": [
       "   movie_id     movie_title    director_name  movie_popularity\n",
       "0    100526    The Overcoat  Yuriy Norshteyn                 3\n",
       "1    114131  Found in Trash      Adam Cooley                 0\n",
       "2    134787     Phantom Ore        Myron Ort                 1\n",
       "3    134788   New York Kino        Myron Ort                 0\n",
       "4    134790        Awakener        Myron Ort                 0"
      ]
     },
     "execution_count": 17,
     "metadata": {},
     "output_type": "execute_result"
    }
   ],
   "source": [
    "# 🔒This cell is locked. You will not be able to edit it.\n",
    "\n",
    "# show the results\n",
    "df_missing_years"
   ]
  },
  {
   "cell_type": "markdown",
   "metadata": {},
   "source": [
    "<details>\n",
    "<summary style=\"background-color: #c6e2ff6c; padding: 10px; border-radius: 3px; box-shadow: 0 2px 4px rgba(0, 0, 0, 0.01); width: 95%; text-align: left; cursor: pointer; font-weight: bold;\">\n",
    "Expected output:</summary> \n",
    "<br>\n",
    "\n",
    "<img src=\"imgs/ex2.png\" width=\"400\"/>\n",
    "</details>"
   ]
  },
  {
   "cell_type": "markdown",
   "metadata": {},
   "source": [
    "There are almost no movies with missing years. Also, based on the movie popularity there is a good change very few people watched them. If needed, you could always look up these movies and find out the year they were released."
   ]
  },
  {
   "cell_type": "markdown",
   "metadata": {},
   "source": [
    "<a id=\"step-4\"></a>\n",
    "\n",
    "## Step 4: Deeper Analysis on the Dataset\n",
    "\n",
    "<a id=\"ex-3\"></a>\n",
    "\n",
    "#### Exercise 3: Binning Popularity\n",
    "\n",
    "You want to segment movies based on rating to better analyze audience preferences.\n",
    "\n",
    "<div style=\"background-color: #C6E2FF; padding: 10px; border-radius: 3px; box-shadow: 0 2px 4px rgba(0, 0, 0, 0.1); width:95%\">\n",
    "\n",
    "**▶▶▶ Directions**\n",
    "1. Write a SQL query that:\n",
    "    - Creates rating bins using the `rating` column from the `movies` table:\n",
    "        - \"High\": `rating` > 3.5\n",
    "        - \"Medium\": 2.5 <= `rating` <= 3.5\n",
    "        - \"Low\": `rating` < 2.5\n",
    "    - Uses the alias `rating_category`.\n",
    "    - Returns the rating bin and the number of movies in each bin.\n",
    "    - Uses the alias `movie_count` for the number of movies in each bin.\n",
    "2. Execute the query and save the DataFrame of results.\n",
    "</div>"
   ]
  },
  {
   "cell_type": "markdown",
   "metadata": {},
   "source": [
    "<details>\n",
    "<summary style=\"background-color: #FDBFC7; padding: 10px; border-radius: 3px; box-shadow: 0 2px 4px rgba(0, 0, 0, 0.1); width: 95%; text-align: left; cursor: pointer; font-weight: bold;\">\n",
    "If you are stuck, click here for extra hints!</summary> \n",
    "\n",
    "<ul style=\"background-color: #FFF8F8; padding: 10px; border-radius: 3px; margin-top: 5px; width: 95%; box-shadow: inset 0 2px 4px rgba(0, 0, 0, 0.1);\">\n",
    "   \n",
    "- To create the different categories, or bins, you can use the `CASE` statement. Remember to close it with the `END` statement after you define each case\n",
    "- To define each category, use `WHEN` followed by the condition. This is kind of like the `if` statement in Python\n",
    "- For the last category, you can use `ELSE`, just as you did in Python\n",
    "- The cases should appear within the `SELECT` clause, since it is defining the values you want to select. It should be something like this:\n",
    "    ```SQL \n",
    "    SELECT\n",
    "        CASE\n",
    "            WHEN condition1 THEN value1\n",
    "            WHEN condition2 THEN value2\n",
    "            ELSE value4\n",
    "        END\n",
    "        AS wanted_name\n",
    "        <continue query>\n",
    "    ```\n",
    "- To create the different categories you can use the operators `>`, `<`, `>=`, `<=`, or `BETWEEN` as needed. Remember that the `BETWEEN` operator is inclusive: begin and end values are included. \n",
    "- Use the alias `rating_category`. \n",
    "- Select also the count in each category. To do this, use `COUNT(*)`.\n",
    "- You will need a `GROUP BY` statement to get the counts in each bin\n",
    "</ul>\n",
    "</details>\n"
   ]
  },
  {
   "cell_type": "code",
   "execution_count": 19,
   "metadata": {
    "deletable": false,
    "tags": [
     "graded"
    ]
   },
   "outputs": [],
   "source": [
    "# GRADED CELL: Exercise 3\n",
    "\n",
    "### START CODE HERE ###\n",
    "\n",
    "# write the query to count the number of movies in each popularity category\n",
    "query_rating_binning = \"\"\"\n",
    "SELECT\n",
    "    CASE\n",
    "        WHEN rating > 3.5 THEN \"High\"\n",
    "        WHEN rating BETWEEN 2.5 AND 3.5 THEN \"Medium\"\n",
    "        ELSE \"Low\"\n",
    "    END AS \"rating_category\",\n",
    "    COUNT (*) AS \"movie_count\"\n",
    "FROM movies\n",
    "GROUP BY rating_category\n",
    "\"\"\"\n",
    "\n",
    "# run the query\n",
    "df_rating_binning = pd.read_sql_query(query_rating_binning, connection)\n",
    "\n",
    "### END CODE HERE ###"
   ]
  },
  {
   "cell_type": "code",
   "execution_count": 20,
   "metadata": {
    "deletable": false,
    "editable": false
   },
   "outputs": [
    {
     "data": {
      "text/html": [
       "<div>\n",
       "<style scoped>\n",
       "    .dataframe tbody tr th:only-of-type {\n",
       "        vertical-align: middle;\n",
       "    }\n",
       "\n",
       "    .dataframe tbody tr th {\n",
       "        vertical-align: top;\n",
       "    }\n",
       "\n",
       "    .dataframe thead th {\n",
       "        text-align: right;\n",
       "    }\n",
       "</style>\n",
       "<table border=\"1\" class=\"dataframe\">\n",
       "  <thead>\n",
       "    <tr style=\"text-align: right;\">\n",
       "      <th></th>\n",
       "      <th>rating_category</th>\n",
       "      <th>movie_count</th>\n",
       "    </tr>\n",
       "  </thead>\n",
       "  <tbody>\n",
       "    <tr>\n",
       "      <th>0</th>\n",
       "      <td>High</td>\n",
       "      <td>38031</td>\n",
       "    </tr>\n",
       "    <tr>\n",
       "      <th>1</th>\n",
       "      <td>Low</td>\n",
       "      <td>117771</td>\n",
       "    </tr>\n",
       "    <tr>\n",
       "      <th>2</th>\n",
       "      <td>Medium</td>\n",
       "      <td>70773</td>\n",
       "    </tr>\n",
       "  </tbody>\n",
       "</table>\n",
       "</div>"
      ],
      "text/plain": [
       "  rating_category  movie_count\n",
       "0            High        38031\n",
       "1             Low       117771\n",
       "2          Medium        70773"
      ]
     },
     "execution_count": 20,
     "metadata": {},
     "output_type": "execute_result"
    }
   ],
   "source": [
    "# 🔒This cell is locked. You will not be able to edit it.\n",
    "\n",
    "# print the results\n",
    "df_rating_binning"
   ]
  },
  {
   "cell_type": "markdown",
   "metadata": {},
   "source": [
    "<details>\n",
    "<summary style=\"background-color: #c6e2ff6c; padding: 10px; border-radius: 3px; box-shadow: 0 2px 4px rgba(0, 0, 0, 0.01); width: 95%; text-align: left; cursor: pointer; font-weight: bold;\">\n",
    "Expected output:</summary> \n",
    "<br>\n",
    "\n",
    "<img src=\"imgs/ex3.png\" width=\"200\"/>\n",
    "</details>"
   ]
  },
  {
   "cell_type": "markdown",
   "metadata": {},
   "source": [
    "\n",
    "<a id=\"ex4\"></a>\n",
    "\n",
    "#### Exercise 4: Analyzing Highly-Rated Recent Movies\n",
    "\n",
    "You want to identify films released after 2015 that have resonated well with audiences to guide future promotional strategies. You'll focus on movies with scores equal to or higher than 4.5, excluding perfect ratings, as these are likely the result of a limited number of viewers.\n",
    "\n",
    "<div style=\"background-color: #C6E2FF; padding: 10px; border-radius: 3px; box-shadow: 0 2px 4px rgba(0, 0, 0, 0.1); width:95%\">\n",
    "\n",
    "**▶▶▶ Directions**\n",
    "1. Write a SQL query that:\n",
    "    - Selects the `movie_title`, `rating`, and `movie_release_year` of movies that:\n",
    "        - Were released after 2015,\n",
    "        - Have a rating **between** 4.5 and 4.9\n",
    "    - Orders the result by `rating` and `movie_release_year` (in that order) in descending order.\n",
    "2. Execute that query.\n",
    "3. Save the resulting DataFrame in the `df_high_rated_recent` variable.\n",
    "</div>"
   ]
  },
  {
   "cell_type": "markdown",
   "metadata": {},
   "source": [
    "<details>\n",
    "<summary style=\"background-color: #FDBFC7; padding: 10px; border-radius: 3px; box-shadow: 0 2px 4px rgba(0, 0, 0, 0.1); width: 95%; text-align: left; cursor: pointer; font-weight: bold;\">\n",
    "If you are stuck, click here for extra hints!</summary> \n",
    "\n",
    "<ul style=\"background-color: #FFF8F8; padding: 10px; border-radius: 3px; margin-top: 5px; width: 95%; box-shadow: inset 0 2px 4px rgba(0, 0, 0, 0.1);\">\n",
    "   \n",
    "- Use `WHERE` to filter rows based on multiple conditions.\n",
    "- To combine the multiple conditions, use `AND` and `OR` statements. Use parentheses where needed.\n",
    "- Filter the release year using >/>= and </<=.\n",
    "- For the rating, you can use `BETWEEN` \n",
    "- To sort the results you can use the `ORDER BY` statement. Don't forget to indicate you want it in descending order (`DESC`)\n",
    "- Remember to finish the query with a semi-colon (;)\n",
    "- To run the query you can use the [🔗`pd.read_sql_query()`](https://pandas.pydata.org/docs/reference/api/pandas.read_sql.html) function. You only need to pass the query and the connection (in that order).\n",
    "</ul>\n",
    "</details>\n"
   ]
  },
  {
   "cell_type": "code",
   "execution_count": 27,
   "metadata": {
    "deletable": false,
    "tags": [
     "graded"
    ]
   },
   "outputs": [],
   "source": [
    " # GRADED CELL: Exercise 4\n",
    "\n",
    "### START CODE HERE ###\n",
    "\n",
    "# write the query to get the movies released after 2015\n",
    "# with a rating between 4.5 and 4.9\n",
    "query_high_rated_recent = \"\"\"\n",
    "SELECT\n",
    "    movie_title,\n",
    "    rating,\n",
    "    movie_release_year\n",
    "FROM movies\n",
    "WHERE movie_release_year > 2015\n",
    "AND rating BETWEEN 4.5 AND 4.9\n",
    "ORDER BY rating DESC, movie_release_year DESC\n",
    "\"\"\"\n",
    "\n",
    " \n",
    "# run the query and save the results\n",
    "df_high_rated_recent = pd.read_sql_query(query_high_rated_recent, connection)\n",
    "\n",
    "### END CODE HERE ###"
   ]
  },
  {
   "cell_type": "code",
   "execution_count": 28,
   "metadata": {
    "deletable": false,
    "editable": false
   },
   "outputs": [
    {
     "data": {
      "text/html": [
       "<div>\n",
       "<style scoped>\n",
       "    .dataframe tbody tr th:only-of-type {\n",
       "        vertical-align: middle;\n",
       "    }\n",
       "\n",
       "    .dataframe tbody tr th {\n",
       "        vertical-align: top;\n",
       "    }\n",
       "\n",
       "    .dataframe thead th {\n",
       "        text-align: right;\n",
       "    }\n",
       "</style>\n",
       "<table border=\"1\" class=\"dataframe\">\n",
       "  <thead>\n",
       "    <tr style=\"text-align: right;\">\n",
       "      <th></th>\n",
       "      <th>movie_title</th>\n",
       "      <th>rating</th>\n",
       "      <th>movie_release_year</th>\n",
       "    </tr>\n",
       "  </thead>\n",
       "  <tbody>\n",
       "    <tr>\n",
       "      <th>0</th>\n",
       "      <td>Shōwa Genroku Rakugo Shinjū</td>\n",
       "      <td>4.9</td>\n",
       "      <td>2016.0</td>\n",
       "    </tr>\n",
       "    <tr>\n",
       "      <th>1</th>\n",
       "      <td>The Works and Days (of Tayoko Shiojiri in the ...</td>\n",
       "      <td>4.8</td>\n",
       "      <td>2020.0</td>\n",
       "    </tr>\n",
       "    <tr>\n",
       "      <th>2</th>\n",
       "      <td>The Planets</td>\n",
       "      <td>4.8</td>\n",
       "      <td>2019.0</td>\n",
       "    </tr>\n",
       "    <tr>\n",
       "      <th>3</th>\n",
       "      <td>This Is Not a Burial, It's a Resurrection</td>\n",
       "      <td>4.8</td>\n",
       "      <td>2019.0</td>\n",
       "    </tr>\n",
       "    <tr>\n",
       "      <th>4</th>\n",
       "      <td>Dogma</td>\n",
       "      <td>4.8</td>\n",
       "      <td>2018.0</td>\n",
       "    </tr>\n",
       "    <tr>\n",
       "      <th>...</th>\n",
       "      <td>...</td>\n",
       "      <td>...</td>\n",
       "      <td>...</td>\n",
       "    </tr>\n",
       "    <tr>\n",
       "      <th>258</th>\n",
       "      <td>Planetarian</td>\n",
       "      <td>4.5</td>\n",
       "      <td>2016.0</td>\n",
       "    </tr>\n",
       "    <tr>\n",
       "      <th>259</th>\n",
       "      <td>The Rape of Lucretia</td>\n",
       "      <td>4.5</td>\n",
       "      <td>2016.0</td>\n",
       "    </tr>\n",
       "    <tr>\n",
       "      <th>260</th>\n",
       "      <td>Weightlifting Fairy Kim Bok Joo</td>\n",
       "      <td>4.5</td>\n",
       "      <td>2016.0</td>\n",
       "    </tr>\n",
       "    <tr>\n",
       "      <th>261</th>\n",
       "      <td>Itinerant State</td>\n",
       "      <td>4.5</td>\n",
       "      <td>2016.0</td>\n",
       "    </tr>\n",
       "    <tr>\n",
       "      <th>262</th>\n",
       "      <td>When Life Gives You Lemons</td>\n",
       "      <td>4.5</td>\n",
       "      <td>2016.0</td>\n",
       "    </tr>\n",
       "  </tbody>\n",
       "</table>\n",
       "<p>263 rows × 3 columns</p>\n",
       "</div>"
      ],
      "text/plain": [
       "                                           movie_title  rating  \\\n",
       "0                          Shōwa Genroku Rakugo Shinjū     4.9   \n",
       "1    The Works and Days (of Tayoko Shiojiri in the ...     4.8   \n",
       "2                                          The Planets     4.8   \n",
       "3            This Is Not a Burial, It's a Resurrection     4.8   \n",
       "4                                                Dogma     4.8   \n",
       "..                                                 ...     ...   \n",
       "258                                        Planetarian     4.5   \n",
       "259                               The Rape of Lucretia     4.5   \n",
       "260                    Weightlifting Fairy Kim Bok Joo     4.5   \n",
       "261                                    Itinerant State     4.5   \n",
       "262                         When Life Gives You Lemons     4.5   \n",
       "\n",
       "     movie_release_year  \n",
       "0                2016.0  \n",
       "1                2020.0  \n",
       "2                2019.0  \n",
       "3                2019.0  \n",
       "4                2018.0  \n",
       "..                  ...  \n",
       "258              2016.0  \n",
       "259              2016.0  \n",
       "260              2016.0  \n",
       "261              2016.0  \n",
       "262              2016.0  \n",
       "\n",
       "[263 rows x 3 columns]"
      ]
     },
     "execution_count": 28,
     "metadata": {},
     "output_type": "execute_result"
    }
   ],
   "source": [
    "# 🔒This cell is locked. You will not be able to edit it.\n",
    "\n",
    "# print the results\n",
    "df_high_rated_recent"
   ]
  },
  {
   "cell_type": "markdown",
   "metadata": {},
   "source": [
    "<details>\n",
    "<summary style=\"background-color: #c6e2ff6c; padding: 10px; border-radius: 3px; box-shadow: 0 2px 4px rgba(0, 0, 0, 0.01); width: 95%; text-align: left; cursor: pointer; font-weight: bold;\">\n",
    "Expected output:</summary> \n",
    "<br>\n",
    "\n",
    "<img src=\"imgs/ex4.png\" width=\"500\"/>\n",
    "\n",
    "</details>"
   ]
  },
  {
   "cell_type": "markdown",
   "metadata": {},
   "source": [
    "You can use this data to visualize the number of highly rated movies per year. Consider stacking the different rating categories to better understand the distribution."
   ]
  },
  {
   "cell_type": "code",
   "execution_count": 29,
   "metadata": {
    "deletable": false,
    "editable": false
   },
   "outputs": [
    {
     "data": {
      "image/png": "[encoded data removed]",
      "text/plain": [
       "<Figure size 1000x600 with 1 Axes>"
      ]
     },
     "metadata": {},
     "output_type": "display_data"
    }
   ],
   "source": [
    "# 🔒This cell is locked. You will not be able to edit it.\n",
    "\n",
    "# Pivot the data to create a table for the stacked bar chart\n",
    "pivot_data = df_high_rated_recent.pivot_table(\n",
    "    index=\"movie_release_year\", \n",
    "    columns=\"rating\", \n",
    "    values=\"movie_title\", \n",
    "    aggfunc=\"count\", \n",
    "    fill_value=0\n",
    ")\n",
    "\n",
    "# Plot the stacked bar chart\n",
    "pivot_data.plot(kind=\"bar\", stacked=True, figsize=(10, 6), colormap=\"viridis\")\n",
    "\n",
    "# Add labels and title\n",
    "plt.xlabel(\"Release Year\")\n",
    "plt.ylabel(\"Number of Movies\")\n",
    "plt.title(\"Number of Movies with Each Rating per Year\")\n",
    "plt.legend(title=\"Rating\", bbox_to_anchor=(1.05, 1), loc=\"upper left\")\n",
    "plt.tight_layout()\n",
    "\n",
    "# Show the plot\n",
    "plt.show()"
   ]
  },
  {
   "cell_type": "markdown",
   "metadata": {},
   "source": [
    "<a id=\"ex5\"></a>\n",
    "\n",
    "#### Exercise 5: Director's Cuts\n",
    "\n",
    "You want to identify the top 10 rated director's cuts, to help guide content strategy decisions, ensuring platforms prioritize high-quality, audience-approved films for their curated selections.\n",
    "\n",
    "<div style=\"background-color: #C6E2FF; padding: 10px; border-radius: 3px; box-shadow: 0 2px 4px rgba(0, 0, 0, 0.1); width:95%\">\n",
    "\n",
    "**▶▶▶ Directions**\n",
    "1. Write a SQL query to:\n",
    "    - Retrieve the `movie_title`, `director_name`, and `rating` for movies where the title includes the phrase \"director's cut\". The phrase can appear at any part of the title, so you will need to use a wild card character before and after. \n",
    "    - Where the rating is not `NULL`.\n",
    "    - Order the results by `rating` in decreasing order.\n",
    "2. Execute the query.\n",
    "3. Save the results.\n",
    "</div>"
   ]
  },
  {
   "cell_type": "markdown",
   "metadata": {},
   "source": [
    "<details>\n",
    "<summary style=\"background-color: #FDBFC7; padding: 10px; border-radius: 3px; box-shadow: 0 2px 4px rgba(0, 0, 0, 0.1); width: 95%; text-align: left; cursor: pointer; font-weight: bold;\">\n",
    "If you are stuck, click here for extra hints!</summary> \n",
    "\n",
    "<ul style=\"background-color: #FFF8F8; padding: 10px; border-radius: 3px; margin-top: 5px; width: 95%; box-shadow: inset 0 2px 4px rgba(0, 0, 0, 0.1);\">\n",
    "   \n",
    "- For string-based filtering, you can use the `LIKE` keyword to filter based on partial string matches.\n",
    "- The phrase \"director's cut\" could appear at any part of the title. For that, use `%` as a wildcard for flexible matching.\n",
    "- The case doesn't matter, so searching for \"Director's cut\" or \"director's cut\" will get the same results\n",
    "- To get remove movies with no rating, you need to add a condition to the `WHERE` statement, you can use the `IS NOT NULL` condition to do the matching\n",
    "- To order the results, you can use the `ORDER BY` statement\n",
    "- Don't forget to finish the query with a semi-colon (;).\n",
    "- To run the query, you can use the [🔗`pd.read_sql_query()`](https://pandas.pydata.org/docs/reference/api/pandas.read_sql.html) function. You only need to pass the query and the connection (in that order).\n",
    "</ul>\n",
    "</details>"
   ]
  },
  {
   "cell_type": "code",
   "execution_count": 32,
   "metadata": {
    "deletable": false,
    "tags": [
     "graded"
    ]
   },
   "outputs": [],
   "source": [
    "# GRADED CELL: Exercise 5\n",
    "\n",
    "### START CODE HERE ###\n",
    "\n",
    "# write the query to get the \"director's cut\" movies\n",
    "query_director_cut = \"\"\"\n",
    "SELECT \n",
    "    movie_title,\n",
    "    director_name,\n",
    "    rating\n",
    "FROM movies\n",
    "WHERE LOWER(movie_title) LIKE '%director''s cut%'\n",
    "AND rating IS NOT NULL\n",
    "ORDER BY rating DESC;\n",
    "\"\"\"\n",
    "\n",
    "# run the query and save the results\n",
    "df_director_cut = pd.read_sql_query(query_director_cut, connection)\n",
    "\n",
    "### END CODE HERE ###"
   ]
  },
  {
   "cell_type": "code",
   "execution_count": 33,
   "metadata": {
    "deletable": false,
    "editable": false
   },
   "outputs": [
    {
     "data": {
      "text/html": [
       "<div>\n",
       "<style scoped>\n",
       "    .dataframe tbody tr th:only-of-type {\n",
       "        vertical-align: middle;\n",
       "    }\n",
       "\n",
       "    .dataframe tbody tr th {\n",
       "        vertical-align: top;\n",
       "    }\n",
       "\n",
       "    .dataframe thead th {\n",
       "        text-align: right;\n",
       "    }\n",
       "</style>\n",
       "<table border=\"1\" class=\"dataframe\">\n",
       "  <thead>\n",
       "    <tr style=\"text-align: right;\">\n",
       "      <th></th>\n",
       "      <th>movie_title</th>\n",
       "      <th>director_name</th>\n",
       "      <th>rating</th>\n",
       "    </tr>\n",
       "  </thead>\n",
       "  <tbody>\n",
       "    <tr>\n",
       "      <th>0</th>\n",
       "      <td>Nymphomaniac: Volume I – The Director's Cut</td>\n",
       "      <td>Lars von Trier</td>\n",
       "      <td>4.0</td>\n",
       "    </tr>\n",
       "    <tr>\n",
       "      <th>1</th>\n",
       "      <td>Hysteria (Director's Cut)</td>\n",
       "      <td>Matt Kirby</td>\n",
       "      <td>4.0</td>\n",
       "    </tr>\n",
       "    <tr>\n",
       "      <th>2</th>\n",
       "      <td>When I Get Home (Director's Cut)</td>\n",
       "      <td>Solange Knowles, Alan Ferguson, Terence Nance,...</td>\n",
       "      <td>4.0</td>\n",
       "    </tr>\n",
       "    <tr>\n",
       "      <th>3</th>\n",
       "      <td>Nymphomaniac: Volume II – The Director's Cut</td>\n",
       "      <td>Lars von Trier</td>\n",
       "      <td>3.7</td>\n",
       "    </tr>\n",
       "    <tr>\n",
       "      <th>4</th>\n",
       "      <td>Immoral Tales: Director's Cut</td>\n",
       "      <td>Walerian Borowczyk</td>\n",
       "      <td>3.6</td>\n",
       "    </tr>\n",
       "    <tr>\n",
       "      <th>5</th>\n",
       "      <td>Lola+Bilidikid (Director's Cut)</td>\n",
       "      <td>Kutlug Ataman</td>\n",
       "      <td>3.5</td>\n",
       "    </tr>\n",
       "    <tr>\n",
       "      <th>6</th>\n",
       "      <td>Soul-Ache (Director's Cut)</td>\n",
       "      <td>Fernando Merinero</td>\n",
       "      <td>3.5</td>\n",
       "    </tr>\n",
       "    <tr>\n",
       "      <th>7</th>\n",
       "      <td>Badfinger: Director's Cut</td>\n",
       "      <td>Gary J. Katz</td>\n",
       "      <td>3.5</td>\n",
       "    </tr>\n",
       "    <tr>\n",
       "      <th>8</th>\n",
       "      <td>Children of the Wind (Director's Cut)</td>\n",
       "      <td>Fernando Merinero</td>\n",
       "      <td>3.4</td>\n",
       "    </tr>\n",
       "    <tr>\n",
       "      <th>9</th>\n",
       "      <td>Xena: Warrior Princess - A Friend in Need (The...</td>\n",
       "      <td>Rob Tapert</td>\n",
       "      <td>3.0</td>\n",
       "    </tr>\n",
       "    <tr>\n",
       "      <th>10</th>\n",
       "      <td>The Director's Cut: Whatever Happened to Micha...</td>\n",
       "      <td>Lucy Walker</td>\n",
       "      <td>3.0</td>\n",
       "    </tr>\n",
       "    <tr>\n",
       "      <th>11</th>\n",
       "      <td>The Current War: The Director's Cut</td>\n",
       "      <td>Alfonso Gomez-Rejon</td>\n",
       "      <td>2.7</td>\n",
       "    </tr>\n",
       "    <tr>\n",
       "      <th>12</th>\n",
       "      <td>Givenchy Spring/Summer 2015 - Director's Cut</td>\n",
       "      <td>Mert Alas, Marcus Piggott</td>\n",
       "      <td>2.6</td>\n",
       "    </tr>\n",
       "    <tr>\n",
       "      <th>13</th>\n",
       "      <td>Director's Cut</td>\n",
       "      <td>Marc Weiser, Lillevän, Christian Conrad</td>\n",
       "      <td>2.0</td>\n",
       "    </tr>\n",
       "  </tbody>\n",
       "</table>\n",
       "</div>"
      ],
      "text/plain": [
       "                                          movie_title  \\\n",
       "0         Nymphomaniac: Volume I – The Director's Cut   \n",
       "1                           Hysteria (Director's Cut)   \n",
       "2                    When I Get Home (Director's Cut)   \n",
       "3        Nymphomaniac: Volume II – The Director's Cut   \n",
       "4                       Immoral Tales: Director's Cut   \n",
       "5                     Lola+Bilidikid (Director's Cut)   \n",
       "6                          Soul-Ache (Director's Cut)   \n",
       "7                           Badfinger: Director's Cut   \n",
       "8               Children of the Wind (Director's Cut)   \n",
       "9   Xena: Warrior Princess - A Friend in Need (The...   \n",
       "10  The Director's Cut: Whatever Happened to Micha...   \n",
       "11                The Current War: The Director's Cut   \n",
       "12       Givenchy Spring/Summer 2015 - Director's Cut   \n",
       "13                                     Director's Cut   \n",
       "\n",
       "                                        director_name  rating  \n",
       "0                                      Lars von Trier     4.0  \n",
       "1                                          Matt Kirby     4.0  \n",
       "2   Solange Knowles, Alan Ferguson, Terence Nance,...     4.0  \n",
       "3                                      Lars von Trier     3.7  \n",
       "4                                  Walerian Borowczyk     3.6  \n",
       "5                                       Kutlug Ataman     3.5  \n",
       "6                                   Fernando Merinero     3.5  \n",
       "7                                        Gary J. Katz     3.5  \n",
       "8                                   Fernando Merinero     3.4  \n",
       "9                                          Rob Tapert     3.0  \n",
       "10                                        Lucy Walker     3.0  \n",
       "11                                Alfonso Gomez-Rejon     2.7  \n",
       "12                          Mert Alas, Marcus Piggott     2.6  \n",
       "13            Marc Weiser, Lillevän, Christian Conrad     2.0  "
      ]
     },
     "execution_count": 33,
     "metadata": {},
     "output_type": "execute_result"
    }
   ],
   "source": [
    "# 🔒This cell is locked. You will not be able to edit it.\n",
    "\n",
    "# print the results\n",
    "df_director_cut"
   ]
  },
  {
   "cell_type": "markdown",
   "metadata": {},
   "source": [
    "<details>\n",
    "<summary style=\"background-color: #c6e2ff6c; padding: 10px; border-radius: 3px; box-shadow: 0 2px 4px rgba(0, 0, 0, 0.01); width: 95%; text-align: left; cursor: pointer; font-weight: bold;\">\n",
    "Expected output:</summary> \n",
    "<br>\n",
    "\n",
    "<img src=\"imgs/ex5.png\" width=\"500\"/>\n",
    "</details>"
   ]
  },
  {
   "cell_type": "markdown",
   "metadata": {},
   "source": [
    "You can use this data to identify the two directors with the most movies featuring director’s cuts, along with their average ratings."
   ]
  },
  {
   "cell_type": "code",
   "execution_count": 34,
   "metadata": {
    "deletable": false,
    "editable": false
   },
   "outputs": [
    {
     "name": "stdout",
     "output_type": "stream",
     "text": [
      "       director_name  movie_count  avg_rating\n",
      "1  Fernando Merinero            2        3.45\n",
      "4     Lars von Trier            2        3.85\n"
     ]
    }
   ],
   "source": [
    "# 🔒This cell is locked. You will not be able to edit it.\n",
    "\n",
    "# group by director_name and calculate the count of movies and average rating\n",
    "director_stats = df_director_cut.groupby(\"director_name\").agg(\n",
    "    movie_count=(\"movie_title\", \"count\"),\n",
    "    avg_rating=(\"rating\", \"mean\")\n",
    ").reset_index()\n",
    "\n",
    "# sort by movie_count in descending order\n",
    "director_stats = director_stats.sort_values(by=\"movie_count\", ascending=False)\n",
    "\n",
    "# select the top two directors\n",
    "top_two_directors = director_stats.head(2)\n",
    "\n",
    "# display the results\n",
    "print(top_two_directors)"
   ]
  },
  {
   "cell_type": "markdown",
   "metadata": {},
   "source": [
    "<a id=\"ex-6\"></a>\n",
    "\n",
    "#### Exercise 6: Average Rating Per Year\n",
    "\n",
    "Motivation: You want to understand how audience preferences evolve over time by examining average ratings.\n",
    "\n",
    "<div style=\"background-color: #C6E2FF; padding: 10px; border-radius: 3px; box-shadow: 0 2px 4px rgba(0, 0, 0, 0.1); width:95%\">\n",
    "\n",
    "**▶▶▶ Directions**\n",
    "1. Write a SQL query to:\n",
    "    - Calculate the **average** `rating`, and **maximum** `movie_popularity` per release year.\n",
    "    - Use the aliases `avg_rating`, and `max_popularity` respectively.\n",
    "    - Return also the `movie_release_year`, with the alias `year`\n",
    "    - Order the results by year in descending order.\n",
    "    - Show only the results of the last 10 years in the dataset using the `LIMIT` statement.\n",
    "2. Execute the query and save the results.\n",
    "</div>"
   ]
  },
  {
   "cell_type": "markdown",
   "metadata": {},
   "source": [
    "<details>\n",
    "<summary style=\"background-color: #FDBFC7; padding: 10px; border-radius: 3px; box-shadow: 0 2px 4px rgba(0, 0, 0, 0.1); width: 95%; text-align: left; cursor: pointer; font-weight: bold;\">\n",
    "If you are stuck, click here for extra hints!</summary> \n",
    "\n",
    "<ul style=\"background-color: #FFF8F8; padding: 10px; border-radius: 3px; margin-top: 5px; width: 95%; box-shadow: inset 0 2px 4px rgba(0, 0, 0, 0.1);\">\n",
    "   \n",
    "- To calculate average and maximum values, you can use the `AVG()`, and `MAX()` functions respectively. In all cases, you need to pass the column you wish to operate on as an argument.\n",
    "- To also show the release year, you will need to add it to the `SELECT` statement\n",
    "- To segment by release year, you can use the `GROUP BY` statement.\n",
    "- To order the results, use the `ORDER BY` statement, and indicate how you want the order, ASC or DESC.\n",
    "- To filter the last 10 years, you can use the `LIMIT` statement.\n",
    "- Don't forget to finish the query with a semi-colon (;).\n",
    "- To run the query, you can use the [🔗`pd.read_sql_query()`](https://pandas.pydata.org/docs/reference/api/pandas.read_sql.html) function. You only need to pass the query and the connection (in that order).\n",
    "\n",
    "</ul>\n",
    "</details>"
   ]
  },
  {
   "cell_type": "code",
   "execution_count": 35,
   "metadata": {
    "deletable": false,
    "tags": [
     "graded"
    ]
   },
   "outputs": [],
   "source": [
    "# GRADED CELL: Exercise 6\n",
    "\n",
    "### START CODE HERE ###\n",
    "\n",
    "# write a query to get the average rating and maximum popularity\n",
    "query_avg_rating_year = \"\"\"\n",
    "SELECT\n",
    "    movie_release_year AS year,\n",
    "    AVG(rating) AS avg_rating,\n",
    "    MAX(movie_popularity) AS max_popularity\n",
    "FROM movies\n",
    "GROUP BY movie_release_year\n",
    "ORDER BY year DESC\n",
    "LIMIT 10;\n",
    "\"\"\"\n",
    "\n",
    "# run the query and save the results\n",
    "df_avg_rating_year = pd.read_sql_query(query_avg_rating_year, connection)\n",
    "\n",
    "### END CODE HERE ###"
   ]
  },
  {
   "cell_type": "code",
   "execution_count": 36,
   "metadata": {
    "deletable": false,
    "editable": false
   },
   "outputs": [
    {
     "data": {
      "text/html": [
       "<div>\n",
       "<style scoped>\n",
       "    .dataframe tbody tr th:only-of-type {\n",
       "        vertical-align: middle;\n",
       "    }\n",
       "\n",
       "    .dataframe tbody tr th {\n",
       "        vertical-align: top;\n",
       "    }\n",
       "\n",
       "    .dataframe thead th {\n",
       "        text-align: right;\n",
       "    }\n",
       "</style>\n",
       "<table border=\"1\" class=\"dataframe\">\n",
       "  <thead>\n",
       "    <tr style=\"text-align: right;\">\n",
       "      <th></th>\n",
       "      <th>year</th>\n",
       "      <th>avg_rating</th>\n",
       "      <th>max_popularity</th>\n",
       "    </tr>\n",
       "  </thead>\n",
       "  <tbody>\n",
       "    <tr>\n",
       "      <th>0</th>\n",
       "      <td>2021.0</td>\n",
       "      <td>2.406250</td>\n",
       "      <td>0</td>\n",
       "    </tr>\n",
       "    <tr>\n",
       "      <th>1</th>\n",
       "      <td>2020.0</td>\n",
       "      <td>3.001096</td>\n",
       "      <td>25</td>\n",
       "    </tr>\n",
       "    <tr>\n",
       "      <th>2</th>\n",
       "      <td>2019.0</td>\n",
       "      <td>2.993742</td>\n",
       "      <td>1933</td>\n",
       "    </tr>\n",
       "    <tr>\n",
       "      <th>3</th>\n",
       "      <td>2018.0</td>\n",
       "      <td>2.975750</td>\n",
       "      <td>854</td>\n",
       "    </tr>\n",
       "    <tr>\n",
       "      <th>4</th>\n",
       "      <td>2017.0</td>\n",
       "      <td>2.965855</td>\n",
       "      <td>1223</td>\n",
       "    </tr>\n",
       "    <tr>\n",
       "      <th>5</th>\n",
       "      <td>2016.0</td>\n",
       "      <td>2.925453</td>\n",
       "      <td>1238</td>\n",
       "    </tr>\n",
       "    <tr>\n",
       "      <th>6</th>\n",
       "      <td>2015.0</td>\n",
       "      <td>2.909311</td>\n",
       "      <td>1400</td>\n",
       "    </tr>\n",
       "    <tr>\n",
       "      <th>7</th>\n",
       "      <td>2014.0</td>\n",
       "      <td>2.874388</td>\n",
       "      <td>2091</td>\n",
       "    </tr>\n",
       "    <tr>\n",
       "      <th>8</th>\n",
       "      <td>2013.0</td>\n",
       "      <td>2.921012</td>\n",
       "      <td>1917</td>\n",
       "    </tr>\n",
       "    <tr>\n",
       "      <th>9</th>\n",
       "      <td>2012.0</td>\n",
       "      <td>2.943255</td>\n",
       "      <td>2384</td>\n",
       "    </tr>\n",
       "  </tbody>\n",
       "</table>\n",
       "</div>"
      ],
      "text/plain": [
       "     year  avg_rating  max_popularity\n",
       "0  2021.0    2.406250               0\n",
       "1  2020.0    3.001096              25\n",
       "2  2019.0    2.993742            1933\n",
       "3  2018.0    2.975750             854\n",
       "4  2017.0    2.965855            1223\n",
       "5  2016.0    2.925453            1238\n",
       "6  2015.0    2.909311            1400\n",
       "7  2014.0    2.874388            2091\n",
       "8  2013.0    2.921012            1917\n",
       "9  2012.0    2.943255            2384"
      ]
     },
     "execution_count": 36,
     "metadata": {},
     "output_type": "execute_result"
    }
   ],
   "source": [
    "# 🔒This cell is locked. You will not be able to edit it.\n",
    "\n",
    "# print the results\n",
    "df_avg_rating_year"
   ]
  },
  {
   "cell_type": "markdown",
   "metadata": {},
   "source": [
    "<details>\n",
    "<summary style=\"background-color: #c6e2ff6c; padding: 10px; border-radius: 3px; box-shadow: 0 2px 4px rgba(0, 0, 0, 0.01); width: 95%; text-align: left; cursor: pointer; font-weight: bold;\">\n",
    "Expected output:</summary> \n",
    "<br>\n",
    "\n",
    "<img src=\"imgs/ex6.png\" width=\"300\"/>\n",
    "</details>"
   ]
  },
  {
   "cell_type": "markdown",
   "metadata": {},
   "source": [
    "To explore how audience preferences shift over time, you can visualize trends in average ratings and popularity."
   ]
  },
  {
   "cell_type": "code",
   "execution_count": 37,
   "metadata": {
    "deletable": false,
    "editable": false
   },
   "outputs": [
    {
     "data": {
      "image/png": "[encoded data removed]",
      "text/plain": [
       "<Figure size 800x400 with 2 Axes>"
      ]
     },
     "metadata": {},
     "output_type": "display_data"
    }
   ],
   "source": [
    "# 🔒This cell is locked. You will not be able to edit it.\n",
    "\n",
    "plt.figure(figsize=(8, 4))\n",
    "\n",
    "# add line plot for average rating\n",
    "ax_rating = plt.subplot(2, 1, 1)\n",
    "ax_rating.plot(df_avg_rating_year[\"year\"], df_avg_rating_year[\"avg_rating\"], marker=\"o\", color=\"steelblue\")\n",
    "ax_rating.set_title(\"Average Movie Rating per Year\")\n",
    "ax_rating.set_ylabel(\"Avg Rating\")\n",
    "ax_rating.grid(True)\n",
    "\n",
    "# add ine plot for maximum popularity\n",
    "ax_popularity = plt.subplot(2, 1, 2)\n",
    "ax_popularity.plot(df_avg_rating_year[\"year\"], df_avg_rating_year[\"max_popularity\"], marker=\"o\", color=\"darkorange\")\n",
    "ax_popularity.set_title(\"Max Movie Popularity per Year\")\n",
    "ax_popularity.set_xlabel(\"Year\")\n",
    "ax_popularity.set_ylabel(\"Max Popularity\")\n",
    "ax_popularity.grid(True)\n",
    "\n",
    "plt.tight_layout()\n",
    "plt.show()"
   ]
  },
  {
   "cell_type": "markdown",
   "metadata": {},
   "source": [
    "Can you explain the trend in popularity? Specially in 2020 and 2021 movies, probably movies were too new by the time the data was gathered, so there were no users that had actually \"loved\" the movie. \n",
    "\n",
    "<a id=\"ex-7\"></a>\n",
    "\n",
    "#### Exercise 7: Most Liked Critiques\n",
    "\n",
    "The company wants to engage with the most liked critiques and is planning a campaign to offer them a free month of subscription in exchange for writing reviews of the latest movies.\n",
    "\n",
    "<div style=\"background-color: #C6E2FF; padding: 10px; border-radius: 3px; box-shadow: 0 2px 4px rgba(0, 0, 0, 0.1); width:95%\">\n",
    "\n",
    "**▶▶▶ Directions**\n",
    "1. Write a SQL query to:\n",
    "    - Select the `movie_title` and `movie_release_year` from the `movies` table, and `critique` and `critique_likes` from the `ratings` table.\n",
    "    - Use an `INNER JOIN` to join the data from both tables.\n",
    "    - Order the results by `critique_likes` in **descending** order to identify the most commented movies.\n",
    "    - Only show the results for reviews with the 10 highest number of likes.\n",
    "\n",
    "2. Execute the query and save the results.\n",
    "</div>"
   ]
  },
  {
   "cell_type": "markdown",
   "metadata": {},
   "source": [
    "<details>\n",
    "<summary style=\"background-color: #FDBFC7; padding: 10px; border-radius: 3px; box-shadow: 0 2px 4px rgba(0, 0, 0, 0.1); width: 95%; text-align: left; cursor: pointer; font-weight: bold;\">\n",
    "If you are stuck, click here for extra hints!</summary> \n",
    "\n",
    "<ul style=\"background-color: #FFF8F8; padding: 10px; border-radius: 3px; margin-top: 5px; width: 95%; box-shadow: inset 0 2px 4px rgba(0, 0, 0, 0.1);\">\n",
    "   \n",
    "- To show results from two different tables, you need to `JOIN` them to create a new table.\n",
    "- The join is made on a specific column. It should look something like this:\n",
    "    \n",
    "    ```SQL\n",
    "    table1 JOIN table2 ON table1.key = table2.key\n",
    "    ```\n",
    "    \n",
    "    In this case, the key should be `movie_id`, which is the column linking both tables.\n",
    "- Specify the columns you need in the SELECT statement. To select the columns from each table, you need to pre-append the table name followed by a period (.). It looks something like this: `table1.column_name`.\n",
    "- Use `ORDER BY` to sort results in descending order (`DESC`).\n",
    "- Limit results using the `LIMIT` statement.\n",
    "- Don't forget to finish the query with a semi-colon (;).\n",
    "- To run the query, you can use the [🔗`pd.read_sql_query()`](https://pandas.pydata.org/docs/reference/api/pandas.read_sql.html) function. You only need to pass the query and the connection (in that order).\n",
    "</ul>\n",
    "</details>"
   ]
  },
  {
   "cell_type": "code",
   "execution_count": 42,
   "metadata": {
    "deletable": false,
    "tags": [
     "graded"
    ]
   },
   "outputs": [],
   "source": [
    "# GRADED CELL: Exercise 7\n",
    "\n",
    "### START CODE HERE ###\n",
    "\n",
    "# write a query to get the movie name and critiques of the most liked critiques\n",
    "query_top_critiques = \"\"\"\n",
    "SELECT\n",
    "    movies.movie_title,\n",
    "    movies.movie_release_year,\n",
    "    ratings.critique,\n",
    "    ratings.critique_likes\n",
    "FROM movies\n",
    "INNER JOIN ratings ON movies.movie_id = ratings.movie_id\n",
    "ORDER BY ratings.critique_likes DESC\n",
    "LIMIT 10\n",
    "\"\"\"\n",
    "\n",
    "# run the query and save the results\n",
    "df_top_critiques = pd.read_sql_query(query_top_critiques, connection)\n",
    "\n",
    "### END CODE HERE ###"
   ]
  },
  {
   "cell_type": "code",
   "execution_count": 43,
   "metadata": {
    "deletable": false,
    "editable": false
   },
   "outputs": [
    {
     "data": {
      "text/html": [
       "<div>\n",
       "<style scoped>\n",
       "    .dataframe tbody tr th:only-of-type {\n",
       "        vertical-align: middle;\n",
       "    }\n",
       "\n",
       "    .dataframe tbody tr th {\n",
       "        vertical-align: top;\n",
       "    }\n",
       "\n",
       "    .dataframe thead th {\n",
       "        text-align: right;\n",
       "    }\n",
       "</style>\n",
       "<table border=\"1\" class=\"dataframe\">\n",
       "  <thead>\n",
       "    <tr style=\"text-align: right;\">\n",
       "      <th></th>\n",
       "      <th>movie_title</th>\n",
       "      <th>movie_release_year</th>\n",
       "      <th>critique</th>\n",
       "      <th>critique_likes</th>\n",
       "    </tr>\n",
       "  </thead>\n",
       "  <tbody>\n",
       "    <tr>\n",
       "      <th>0</th>\n",
       "      <td>Call Me by Your Name</td>\n",
       "      <td>2017.0</td>\n",
       "      <td>Call me By Your Name. By my name. By our name....</td>\n",
       "      <td>79</td>\n",
       "    </tr>\n",
       "    <tr>\n",
       "      <th>1</th>\n",
       "      <td>Whale Valley</td>\n",
       "      <td>2013.0</td>\n",
       "      <td>nearly dead whale wants to live; nearly alive ...</td>\n",
       "      <td>78</td>\n",
       "    </tr>\n",
       "    <tr>\n",
       "      <th>2</th>\n",
       "      <td>La La Land</td>\n",
       "      <td>2016.0</td>\n",
       "      <td>This should have been called The Death of Tale...</td>\n",
       "      <td>74</td>\n",
       "    </tr>\n",
       "    <tr>\n",
       "      <th>3</th>\n",
       "      <td>Arrival</td>\n",
       "      <td>2016.0</td>\n",
       "      <td>ARRIVAL HAS CHANGED MY LIFE</td>\n",
       "      <td>67</td>\n",
       "    </tr>\n",
       "    <tr>\n",
       "      <th>4</th>\n",
       "      <td>Portrait of a Lady on Fire</td>\n",
       "      <td>2019.0</td>\n",
       "      <td>I adore films that look like paintings. It's ...</td>\n",
       "      <td>66</td>\n",
       "    </tr>\n",
       "    <tr>\n",
       "      <th>5</th>\n",
       "      <td>Stalker</td>\n",
       "      <td>1979.0</td>\n",
       "      <td>The people who made this incredible film, one ...</td>\n",
       "      <td>63</td>\n",
       "    </tr>\n",
       "    <tr>\n",
       "      <th>6</th>\n",
       "      <td>Hidden</td>\n",
       "      <td>2005.0</td>\n",
       "      <td>\"If you think it's Majid, Pierrot, Georges, th...</td>\n",
       "      <td>62</td>\n",
       "    </tr>\n",
       "    <tr>\n",
       "      <th>7</th>\n",
       "      <td>Elle</td>\n",
       "      <td>2016.0</td>\n",
       "      <td>This is the perfect vehicle for Isabelle Huppe...</td>\n",
       "      <td>59</td>\n",
       "    </tr>\n",
       "    <tr>\n",
       "      <th>8</th>\n",
       "      <td>The Lobster</td>\n",
       "      <td>2015.0</td>\n",
       "      <td>If I am going to be changed into an animal, I ...</td>\n",
       "      <td>59</td>\n",
       "    </tr>\n",
       "    <tr>\n",
       "      <th>9</th>\n",
       "      <td>The Florida Project</td>\n",
       "      <td>2017.0</td>\n",
       "      <td>Dysfunctional America. File this alongside Ame...</td>\n",
       "      <td>56</td>\n",
       "    </tr>\n",
       "  </tbody>\n",
       "</table>\n",
       "</div>"
      ],
      "text/plain": [
       "                  movie_title  movie_release_year  \\\n",
       "0        Call Me by Your Name              2017.0   \n",
       "1                Whale Valley              2013.0   \n",
       "2                  La La Land              2016.0   \n",
       "3                     Arrival              2016.0   \n",
       "4  Portrait of a Lady on Fire              2019.0   \n",
       "5                     Stalker              1979.0   \n",
       "6                      Hidden              2005.0   \n",
       "7                        Elle              2016.0   \n",
       "8                 The Lobster              2015.0   \n",
       "9         The Florida Project              2017.0   \n",
       "\n",
       "                                            critique  critique_likes  \n",
       "0  Call me By Your Name. By my name. By our name....              79  \n",
       "1  nearly dead whale wants to live; nearly alive ...              78  \n",
       "2  This should have been called The Death of Tale...              74  \n",
       "3                        ARRIVAL HAS CHANGED MY LIFE              67  \n",
       "4   I adore films that look like paintings. It's ...              66  \n",
       "5  The people who made this incredible film, one ...              63  \n",
       "6  \"If you think it's Majid, Pierrot, Georges, th...              62  \n",
       "7  This is the perfect vehicle for Isabelle Huppe...              59  \n",
       "8  If I am going to be changed into an animal, I ...              59  \n",
       "9  Dysfunctional America. File this alongside Ame...              56  "
      ]
     },
     "execution_count": 43,
     "metadata": {},
     "output_type": "execute_result"
    }
   ],
   "source": [
    "# 🔒This cell is locked. You will not be able to edit it.\n",
    "\n",
    "# print the results\n",
    "df_top_critiques"
   ]
  },
  {
   "cell_type": "markdown",
   "metadata": {},
   "source": [
    "<details>\n",
    "<summary style=\"background-color: #c6e2ff6c; padding: 10px; border-radius: 3px; box-shadow: 0 2px 4px rgba(0, 0, 0, 0.01); width: 95%; text-align: left; cursor: pointer; font-weight: bold;\">\n",
    "Expected output:</summary> \n",
    "<br>\n",
    "<img src=\"imgs/ex7.png\" width=\"600\"/>\n",
    "</span>\n",
    "</details>"
   ]
  },
  {
   "cell_type": "markdown",
   "metadata": {},
   "source": [
    "Use this DataFrame to find how many times each release year appears among the movies associated with the most liked critiques."
   ]
  },
  {
   "cell_type": "code",
   "execution_count": 44,
   "metadata": {
    "deletable": false,
    "editable": false
   },
   "outputs": [
    {
     "data": {
      "text/plain": [
       "movie_release_year\n",
       "1979.0    1\n",
       "2005.0    1\n",
       "2013.0    1\n",
       "2015.0    1\n",
       "2016.0    3\n",
       "2017.0    2\n",
       "2019.0    1\n",
       "Name: movie_title, dtype: int64"
      ]
     },
     "execution_count": 44,
     "metadata": {},
     "output_type": "execute_result"
    }
   ],
   "source": [
    "# 🔒This cell is locked. You will not be able to edit it.\n",
    "\n",
    "# group by movie_release_year and count the number of critiques\n",
    "df_top_critiques.groupby(\"movie_release_year\")[\"movie_title\"].count()"
   ]
  },
  {
   "cell_type": "markdown",
   "metadata": {},
   "source": [
    "<a id=\"ex-8\"></a>\n",
    "\n",
    "#### Exercise 8: Identifying Unrated Movies\n",
    "\n",
    "You want to identify movies without ratings to better understand content gaps and viewer engagement.\n",
    "\n",
    "<div style=\"background-color: #C6E2FF; padding: 10px; border-radius: 3px; box-shadow: 0 2px 4px rgba(0, 0, 0, 0.1); width:95%\">\n",
    "\n",
    "**▶▶▶ Directions**\n",
    "1. Write a SQL query to:\n",
    "    - Return the number of movies (count) that have no associated ratings in the `ratings` table. (**Hint**: use a `JOIN` statement).\n",
    "    - Use the alias `num_no_reviews`.\n",
    "2. Execute the query and save the DataFrame of results.\n",
    "</div>"
   ]
  },
  {
   "cell_type": "markdown",
   "metadata": {},
   "source": [
    "<details>\n",
    "<summary style=\"background-color: #FDBFC7; padding: 10px; border-radius: 3px; box-shadow: 0 2px 4px rgba(0, 0, 0, 0.1); width: 95%; text-align: left; cursor: pointer; font-weight: bold;\">\n",
    "If you are stuck, click here for extra hints!</summary> \n",
    "\n",
    "<ul style=\"background-color: #FFF8F8; padding: 10px; border-radius: 3px; margin-top: 5px; width: 95%; box-shadow: inset 0 2px 4px rgba(0, 0, 0, 0.1);\">\n",
    "   \n",
    "- One way to check which movies have no comments in the `ratings` table is by checking which movies appear in the `movies` table, but not in the `ratings` table.\n",
    "- You can check this using a `LEFT JOIN`.\n",
    "- Movies that are in the `movies` table, but not in the `ratings` table will have NULL values in the columns corresponding to the `ratings` table.\n",
    "- To get the movies without ratings, you can filter using `WHERE` and look for the rows where `ratings.movie_id` is NULL.\n",
    "- Finally, use `COUNT(*)` to get the number of rows.\n",
    "</ul>\n",
    "</details>"
   ]
  },
  {
   "cell_type": "code",
   "execution_count": 45,
   "metadata": {
    "deletable": false,
    "tags": [
     "graded"
    ]
   },
   "outputs": [],
   "source": [
    "# GRADED CELL: Exercise 8\n",
    "\n",
    "### START CODE HERE ###\n",
    "\n",
    "# write a query to get the movie names of the movies with no ratings in the `ratings` table\n",
    "query_no_ratings = \"\"\"\n",
    "SELECT \n",
    "    COUNT(*) AS num_no_reviews\n",
    "FROM movies\n",
    "LEFT JOIN ratings ON movies.movie_id = ratings.movie_id\n",
    "WHERE ratings.movie_id IS NULL;\n",
    "\"\"\"\n",
    "\n",
    "# run the query and save the results\n",
    "df_no_ratings = pd.read_sql_query(query_no_ratings, connection)\n",
    "\n",
    "\n",
    "### END CODE HERE ###"
   ]
  },
  {
   "cell_type": "code",
   "execution_count": null,
   "metadata": {
    "deletable": false,
    "editable": false
   },
   "outputs": [],
   "source": [
    "# 🔒This cell is locked. You will not be able to edit it.\n",
    "\n",
    "# print the results\n",
    "df_no_ratings"
   ]
  },
  {
   "cell_type": "markdown",
   "metadata": {},
   "source": [
    "<details>\n",
    "<summary style=\"background-color: #c6e2ff6c; padding: 10px; border-radius: 3px; box-shadow: 0 2px 4px rgba(0, 0, 0, 0.01); width: 95%; text-align: left; cursor: pointer; font-weight: bold;\">\n",
    "Expected output:</summary> \n",
    "<br>\n",
    "\n",
    "<img src=\"imgs/ex8.png\" width=\"150\"/>\n",
    "</details>"
   ]
  },
  {
   "cell_type": "markdown",
   "metadata": {},
   "source": [
    "Find out what proportion of the total number of movies the unrated movies represent"
   ]
  },
  {
   "cell_type": "code",
   "execution_count": null,
   "metadata": {
    "deletable": false,
    "editable": false
   },
   "outputs": [],
   "source": [
    "print(\"Movies with no reviews comprise\", \n",
    "      (df_no_ratings[\"num_no_reviews\"]/df_unique_movies[\"num_unique_movies\"]*100).values[0],\n",
    "        \"% of the movies in the database.\")"
   ]
  },
  {
   "cell_type": "markdown",
   "metadata": {},
   "source": [
    "Finally, run the next cell to close the connection"
   ]
  },
  {
   "cell_type": "code",
   "execution_count": null,
   "metadata": {
    "deletable": false,
    "editable": false,
    "tags": [
     "graded"
    ]
   },
   "outputs": [],
   "source": [
    "connection.close()"
   ]
  },
  {
   "cell_type": "markdown",
   "metadata": {},
   "source": [
    "Congratulations on finishing this graded lab! If everything is running correctly, you can go ahead and submit your code for grading."
   ]
  }
 ],
 "metadata": {
  "grader_version": "2",
  "kernelspec": {
   "display_name": "Python 3 (ipykernel)",
   "language": "python",
   "name": "python3"
  },
  "language_info": {
   "codemirror_mode": {
    "name": "ipython",
    "version": 3
   },
   "file_extension": ".py",
   "mimetype": "text/x-python",
   "name": "python",
   "nbconvert_exporter": "python",
   "pygments_lexer": "ipython3",
   "version": "3.11.6"
  }
 },
 "nbformat": 4,
 "nbformat_minor": 4
}

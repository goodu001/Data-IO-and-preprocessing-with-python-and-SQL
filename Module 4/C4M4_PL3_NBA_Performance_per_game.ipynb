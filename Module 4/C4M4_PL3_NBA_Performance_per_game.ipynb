{
 "cells": [
  {
   "cell_type": "markdown",
   "metadata": {},
   "source": [
    "# Practice Lab: Analyzing NBA games: Performance per game\n",
    "\n",
    "You work a sports data consulting firm that provides insights to basketball teams, broadcasters, and sports media outlets. \n",
    "\n",
    "To complete the task you decide to analyze the NBA Boxscore Dataset, which includes 3 tables:\n",
    "\n",
    "- **game_info**: contains information about each game between two teams, including things like the scores and the outcome.\n",
    "- **team_stats**: contains detailed statistics for each team in each game, such as points scored, rebounds, assists, and more.\n",
    "- **player_stats**: contains individual game stats for each player, including points, assists, rebounds, and other performance details.\n",
    "\n",
    "**The database is extensive, so queries might take a bit longer to complete.**\n",
    "\n",
    "## Data Schema\n",
    "The next diagram shows the data schema. For simplicity, it only shows a subset of columns for each table.\n",
    "\n",
    "<div style=\"text-align: center\">\n",
    "    <img src=\"imgsL3/NBA-db-relation.png\" width=400>\n",
    "</div>\n",
    "\n",
    "For more details on each table, please take a look at the [🔗dataset explorer](https://www.kaggle.com/datasets/lukedip/nba-boxscore-dataset)\n",
    "\n",
    "## General instructions\n",
    "- **Replace any instances of `None` with your own code**. All `None`s must be replaced.\n",
    "- **Compare your results with the expected output** shown below the code.\n",
    "- **Check the solution** using the expandable cell to verify your answer. If needed, you can copy the code and paste it into the cell\n",
    "\n",
    "Happy coding!\n",
    "\n",
    "<div style=\"background-color: #FAD888; padding: 10px; border-radius: 3px; box-shadow: 0 2px 4px rgba(0, 0, 0, 0.1); width:95%\n",
    "\">\n",
    "<strong>Important note</strong>: Code blocks with None will not run properly. If you run them before completing the exercise, you will likely get an error. \n",
    "</div>"
   ]
  },
  {
   "cell_type": "markdown",
   "metadata": {},
   "source": [
    "## Table of Contents\n",
    "- [Step 1: Import Modules](#import-modules)\n",
    "- [Step 2: Connect to the Database](#connect-to-the-database)\n",
    "- [Step 3: Laker's Performance](#lakers-performance)\n",
    "- [Step 4: LeBron James Performance](#lebron-james-performance) "
   ]
  },
  {
   "cell_type": "markdown",
   "metadata": {},
   "source": [
    "<a id=\"import-modules\"></a>\n",
    "\n",
    "## Step 1: Import Modules\n",
    "Begin by importing sqlite3 and pandas modules"
   ]
  },
  {
   "cell_type": "code",
   "execution_count": 1,
   "metadata": {},
   "outputs": [],
   "source": [
    "import sqlite3\n",
    "import pandas as pd\n",
    "import matplotlib.pyplot as plt\n",
    "import seaborn as sns"
   ]
  },
  {
   "cell_type": "markdown",
   "metadata": {},
   "source": [
    "<a id=\"connect-to-the-database\"></a>\n",
    "\n",
    "## Step 2: Connect to the Database\n",
    "Next, you need to establish a connection to the SQLite database to run queries and retrieve the data."
   ]
  },
  {
   "cell_type": "code",
   "execution_count": 2,
   "metadata": {},
   "outputs": [
    {
     "data": {
      "text/html": [
       "<div>\n",
       "<style scoped>\n",
       "    .dataframe tbody tr th:only-of-type {\n",
       "        vertical-align: middle;\n",
       "    }\n",
       "\n",
       "    .dataframe tbody tr th {\n",
       "        vertical-align: top;\n",
       "    }\n",
       "\n",
       "    .dataframe thead th {\n",
       "        text-align: right;\n",
       "    }\n",
       "</style>\n",
       "<table border=\"1\" class=\"dataframe\">\n",
       "  <thead>\n",
       "    <tr style=\"text-align: right;\">\n",
       "      <th></th>\n",
       "      <th>team</th>\n",
       "      <th>minutes played</th>\n",
       "    </tr>\n",
       "  </thead>\n",
       "  <tbody>\n",
       "    <tr>\n",
       "      <th>0</th>\n",
       "      <td>ORL</td>\n",
       "      <td>240</td>\n",
       "    </tr>\n",
       "  </tbody>\n",
       "</table>\n",
       "</div>"
      ],
      "text/plain": [
       "  team minutes played\n",
       "0  ORL            240"
      ]
     },
     "execution_count": 2,
     "metadata": {},
     "output_type": "execute_result"
    }
   ],
   "source": [
    "# Connect to the SQLite database\n",
    "connection = sqlite3.connect(\"../NBA-Boxscore-Database.db\")\n",
    "\n",
    "# check the connection with a small query\n",
    "query_first_line = \"\"\"\n",
    "SELECT team, MP as 'minutes played' \n",
    "FROM team_stats \n",
    "LIMIT 1\n",
    "\"\"\" \n",
    "pd.read_sql_query(query_first_line, connection)"
   ]
  },
  {
   "cell_type": "markdown",
   "metadata": {},
   "source": [
    "<details open>\n",
    "<summary style=\"background-color: #c6e2ff6c; padding: 10px; border-radius: 3px; box-shadow: 0 2px 4px rgba(0, 0, 0, 0.01); width: 95%; text-align: left; cursor: pointer; font-weight: bold;\">\n",
    "Expected output:</summary> \n",
    "<br>\n",
    "\n",
    "<img src=\"imgsL3/conn_check.png\" width=\"120\">\n",
    "</details>"
   ]
  },
  {
   "cell_type": "markdown",
   "metadata": {},
   "source": [
    "<a id='lakers-performance'></a>\n",
    "\n",
    "## Step 3: Lakers' Performance \n",
    "\n",
    "You need to analyze the Los Angeles Lakers' performance in the 2022-2023 season. You want to focus on some key metrics like points scored, field goal percentage, and turnovers.\n",
    "\n",
    "<div style=\"background-color: #C6E2FF; padding: 10px; border-radius: 3px; box-shadow: 0 2px 4px rgba(0, 0, 0, 0.1); width:95%\">\n",
    "\n",
    "\n",
    "**▶▶▶ Directions**\n",
    "1. Write a SQLite query that:\n",
    "   - Selects the `game_id` from the `game_info` table.\n",
    "   - Selects `team`, `PTS` (with the alias `team_pts`), `FGp` (with the alias `field_goal_percentage`), and `TOV` (with the alias `turnovers`)  from the `team_stats` table.\n",
    "   - Consider only games in the `2223` season, where the Los Angeles Lakers (LAL) played.\n",
    "\n",
    "   **Hint:** You should consider an `INNER JOIN`, on the `game_id` column.\n",
    "\n",
    "</div>"
   ]
  },
  {
   "cell_type": "code",
   "execution_count": 4,
   "metadata": {},
   "outputs": [
    {
     "data": {
      "text/html": [
       "<div>\n",
       "<style scoped>\n",
       "    .dataframe tbody tr th:only-of-type {\n",
       "        vertical-align: middle;\n",
       "    }\n",
       "\n",
       "    .dataframe tbody tr th {\n",
       "        vertical-align: top;\n",
       "    }\n",
       "\n",
       "    .dataframe thead th {\n",
       "        text-align: right;\n",
       "    }\n",
       "</style>\n",
       "<table border=\"1\" class=\"dataframe\">\n",
       "  <thead>\n",
       "    <tr style=\"text-align: right;\">\n",
       "      <th></th>\n",
       "      <th>game_id</th>\n",
       "      <th>team</th>\n",
       "      <th>team_pts</th>\n",
       "      <th>field_goal_percentage</th>\n",
       "      <th>turnovers</th>\n",
       "    </tr>\n",
       "  </thead>\n",
       "  <tbody>\n",
       "    <tr>\n",
       "      <th>0</th>\n",
       "      <td>222310180002</td>\n",
       "      <td>LAL</td>\n",
       "      <td>109.0</td>\n",
       "      <td>0.426</td>\n",
       "      <td>21.0</td>\n",
       "    </tr>\n",
       "    <tr>\n",
       "      <th>1</th>\n",
       "      <td>222310200016</td>\n",
       "      <td>LAL</td>\n",
       "      <td>97.0</td>\n",
       "      <td>0.351</td>\n",
       "      <td>10.0</td>\n",
       "    </tr>\n",
       "    <tr>\n",
       "      <th>2</th>\n",
       "      <td>222310230037</td>\n",
       "      <td>LAL</td>\n",
       "      <td>104.0</td>\n",
       "      <td>0.446</td>\n",
       "      <td>13.0</td>\n",
       "    </tr>\n",
       "    <tr>\n",
       "      <th>3</th>\n",
       "      <td>222310260064</td>\n",
       "      <td>LAL</td>\n",
       "      <td>99.0</td>\n",
       "      <td>0.444</td>\n",
       "      <td>14.0</td>\n",
       "    </tr>\n",
       "    <tr>\n",
       "      <th>4</th>\n",
       "      <td>222310280076</td>\n",
       "      <td>LAL</td>\n",
       "      <td>102.0</td>\n",
       "      <td>0.416</td>\n",
       "      <td>22.0</td>\n",
       "    </tr>\n",
       "  </tbody>\n",
       "</table>\n",
       "</div>"
      ],
      "text/plain": [
       "        game_id team  team_pts  field_goal_percentage  turnovers\n",
       "0  222310180002  LAL     109.0                  0.426       21.0\n",
       "1  222310200016  LAL      97.0                  0.351       10.0\n",
       "2  222310230037  LAL     104.0                  0.446       13.0\n",
       "3  222310260064  LAL      99.0                  0.444       14.0\n",
       "4  222310280076  LAL     102.0                  0.416       22.0"
      ]
     },
     "execution_count": 4,
     "metadata": {},
     "output_type": "execute_result"
    }
   ],
   "source": [
    "### START CODE HERE ###\n",
    "\n",
    "# write the SQL query\n",
    "query_lakers = \"\"\"\n",
    "SELECT game_info.game_id, \n",
    "       team_stats.team, \n",
    "       team_stats.PTS AS `team_pts`, \n",
    "       team_stats.FGp AS \"field_goal_percentage\", \n",
    "       team_stats.TOV AS \"turnovers\"\n",
    "FROM team_stats \n",
    "INNER JOIN game_info ON team_stats .game_id = game_info.game_id\n",
    "WHERE game_info.season = \"2223\" AND team_stats.team = \"LAL\";\n",
    "\"\"\"\n",
    "\n",
    "### END CODE HERE ###\n",
    "\n",
    "# execute the query\n",
    "df_lakers = pd.read_sql_query(query_lakers, connection)\n",
    "\n",
    "# show the first 5 results\n",
    "df_lakers.head()"
   ]
  },
  {
   "cell_type": "markdown",
   "metadata": {},
   "source": [
    "<details open>\n",
    "<summary style=\"background-color: #c6e2ff6c; padding: 10px; border-radius: 3px; box-shadow: 0 2px 4px rgba(0, 0, 0, 0.01); width: 95%; text-align: left; cursor: pointer; font-weight: bold;\">\n",
    "Expected output:</summary> \n",
    "<br>\n",
    "\n",
    "<img src=\"imgsL3/lakers.png\" width=\"350\">\n",
    "\n",
    "</details>"
   ]
  },
  {
   "cell_type": "markdown",
   "metadata": {},
   "source": [
    "<details>\n",
    "<summary style=\"background-color: #FDBFC7; padding: 10px; border-radius: 3px; box-shadow: 0 2px 4px rgba(0, 0, 0, 0.1); width: 95%; text-align: left; cursor: pointer; font-weight: bold;\">\n",
    "Click here to see the solution</summary> \n",
    "\n",
    "<ul style=\"background-color: #FFF8F8; padding: 10px; border-radius: 3px; margin-top: 5px; width: 95%; box-shadow: inset 0 2px 4px rgba(0, 0, 0, 0.1);\">\n",
    "   \n",
    "Your solution should look something like this:\n",
    "\n",
    "```python\n",
    "# write the SQL query\n",
    "query_lakers = \"\"\"\n",
    "SELECT game_info.game_id, \n",
    "       team_stats.team, \n",
    "       team_stats.PTS As team_pts, \n",
    "       team_stats.FGp AS field_goal_percentage, \n",
    "       team_stats.TOV AS turnovers\n",
    "FROM team_stats \n",
    "INNER JOIN game_info ON team_stats.game_id = game_info.game_id\n",
    "WHERE game_info.season = \"2223\" AND team_stats.team = \"LAL\";\n",
    "\"\"\"\n",
    "\n",
    "```\n",
    "</details>"
   ]
  },
  {
   "cell_type": "markdown",
   "metadata": {},
   "source": [
    "With the extracted information you can visualize the correlation between points in a game vs. turnover using a scatterplot."
   ]
  },
  {
   "cell_type": "code",
   "execution_count": 5,
   "metadata": {},
   "outputs": [
    {
     "data": {
      "image/png": "[encoded data removed]",
      "text/plain": [
       "<Figure size 1000x600 with 1 Axes>"
      ]
     },
     "metadata": {},
     "output_type": "display_data"
    }
   ],
   "source": [
    "# create the scatterplot\n",
    "plt.figure(figsize=(10, 6))\n",
    "plt.scatter(df_lakers['team_pts'], df_lakers['turnovers'], color='r')\n",
    "\n",
    "# add the title and labels\n",
    "plt.title(\"Points Scored vs Turnovers (Lakers, 2022-2023)\")\n",
    "plt.xlabel(\"Points Scored\")\n",
    "plt.ylabel(\"Turnovers\")\n",
    "# add a grid\n",
    "plt.grid(True)"
   ]
  },
  {
   "cell_type": "markdown",
   "metadata": {},
   "source": [
    "Does it show a positive or negative correlation? Why do you think that is?"
   ]
  },
  {
   "cell_type": "markdown",
   "metadata": {},
   "source": [
    "<a id=\"lebron-james-performance\"></a>\n",
    "\n",
    "## Step 4: LeBron James Performance\n",
    "\n",
    "LeBron James was the star player in the Los Angeles Lakers (LAL) team during the 2022-2023 season. You want to find out how well he performed in each game, focusing on key stats like points scored (PTS) and player impact estimate (PIE).\n",
    "\n",
    "<div style=\"background-color: #C6E2FF; padding: 10px; border-radius: 3px; box-shadow: 0 2px 4px rgba(0, 0, 0, 0.1); width:95%\">\n",
    "\n",
    "**▶▶▶ Directions**\n",
    "1. Write a SQLite query that:\n",
    "   - Selects the `away_team`, `away_score`, `home_team`, and `home_score` from the `game_info` table.\n",
    "   - Selects, the points scored (`PTS`) and Player Impact Estimate (`PIE`) of LeBron James from the `player_stats` table (whether he played or not).\n",
    "   - Of all games played by the Los Angeles Lakers (`\"LAL\"`) (home team or away team).\n",
    "   - Where the `season` is `\"2223\"`.\n",
    "   \n",
    "   **Hint:** You will need a LEFT JOIN to solve this query, since you want all the LAL games, not only the ones with LeBron James.\n",
    "\n",
    "</div>"
   ]
  },
  {
   "cell_type": "code",
   "execution_count": null,
   "metadata": {},
   "outputs": [],
   "source": [
    "#### START CODE HERE ###\n",
    "\n",
    "# write the query\n",
    "query_lebron = \"\"\"\n",
    "SELECT game_info.away_team, \n",
    "       game_info.away_score, \n",
    "       game_info.home_team, \n",
    "       game_info.home_score, \n",
    "       player_stats.PTS, \n",
    "       player_stats.PIE\n",
    "FROM game_info\n",
    "LEFT JOIN player_stats\n",
    "    ON game_info.game_id = player_stats.game_id\n",
    "WHERE (game_info.None = \"LAL\" OR game_info.None = \"LAL\") \n",
    "  AND game_info.season = \"2223\"\n",
    "  AND player_stats.player = \"LeBron James\";\n",
    "\"\"\"\n",
    "\n",
    "### END CODE HERE ###\n",
    "\n",
    "# execute the query\n",
    "df_lebron = pd.read_sql_query(query_lebron, connection)\n",
    "\n",
    "# show the first rows\n",
    "df_lebron.head()"
   ]
  },
  {
   "cell_type": "markdown",
   "metadata": {},
   "source": [
    "<details open>\n",
    "<summary style=\"background-color: #c6e2ff6c; padding: 10px; border-radius: 3px; box-shadow: 0 2px 4px rgba(0, 0, 0, 0.01); width: 95%; text-align: left; cursor: pointer; font-weight: bold;\">\n",
    "Expected output:</summary> \n",
    "<br>\n",
    "\n",
    "<img src=\"imgsL3/lebron.png\" width=\"300\">\n",
    "\n",
    "</details>"
   ]
  },
  {
   "cell_type": "markdown",
   "metadata": {},
   "source": [
    "<details>\n",
    "<summary style=\"background-color: #FDBFC7; padding: 10px; border-radius: 3px; box-shadow: 0 2px 4px rgba(0, 0, 0, 0.1); width: 95%; text-align: left; cursor: pointer; font-weight: bold;\">\n",
    "Click here to see the solution</summary> \n",
    "\n",
    "<ul style=\"background-color: #FFF8F8; padding: 10px; border-radius: 3px; margin-top: 5px; width: 95%; box-shadow: inset 0 2px 4px rgba(0, 0, 0, 0.1);\">\n",
    "   \n",
    "Your solution should look something like this:\n",
    "\n",
    "```python\n",
    "# write the query\n",
    "query_lebron = \"\"\"\n",
    "SELECT game_info.away_team, \n",
    "       game_info.away_score, \n",
    "       game_info.home_team, \n",
    "       game_info.home_score, \n",
    "       player_stats.PTS, \n",
    "       player_stats.PIE\n",
    "FROM game_info\n",
    "LEFT JOIN player_stats\n",
    "    ON game_info.game_id = player_stats.game_id\n",
    "WHERE (game_info.home_team = 'LAL' OR game_info.away_team = 'LAL') \n",
    "  AND game_info.season = '2223'\n",
    "  AND player_stats.player = 'LeBron James';\n",
    "\"\"\"\n",
    "\n",
    "```\n",
    "</details>"
   ]
  },
  {
   "cell_type": "markdown",
   "metadata": {},
   "source": [
    "With this information you can answer questions like\n",
    "1. How many games did LeBron James miss in the 2022-2023 season?\n",
    "2. What was the percentage of won games, where LeBron James played?\n",
    "\n",
    "Run the cell below to get the answers!"
   ]
  },
  {
   "cell_type": "code",
   "execution_count": null,
   "metadata": {},
   "outputs": [],
   "source": [
    "# find number of missed games\n",
    "missed_games = df_lebron['PTS'].isna().sum()\n",
    "\n",
    "# find the percentage of won games, where LeBron played\n",
    "## create a new column 'LAL_won' that checks if LAL won the game\n",
    "df_lebron['LAL_won'] = ((df_lebron['home_team'] == 'LAL') & \n",
    "                     (df_lebron['home_score'] > df_lebron['away_score'])) | \\\n",
    "                    ((df_lebron['away_team'] == 'LAL') & \n",
    "                     (df_lebron['away_score'] > df_lebron['home_score']))\n",
    "\n",
    "## filter out rows where LeBron didn't play (when PTS or PIE is NaN)\n",
    "df_lebron_played = df_lebron.dropna(subset=['PTS', 'PIE'])\n",
    "\n",
    "## calculate the percentage of games won by LAL\n",
    "percentage_won = df_lebron_played['LAL_won'].mean() * 100\n",
    "\n",
    "# print the results\n",
    "print(\"LeBron missed\", missed_games, \"games in the 2022-2023 season.\")\n",
    "print(\"LAL won\", percentage_won, \"% of the games where LeBron played.\")"
   ]
  },
  {
   "cell_type": "markdown",
   "metadata": {},
   "source": [
    "Finally, run the next cell to close the connection."
   ]
  },
  {
   "cell_type": "code",
   "execution_count": null,
   "metadata": {},
   "outputs": [],
   "source": [
    "connection.close()"
   ]
  },
  {
   "cell_type": "markdown",
   "metadata": {},
   "source": [
    "Congratulations for making it until the end of this lab. Hope you enjoyed it! "
   ]
  }
 ],
 "metadata": {
  "kernelspec": {
   "display_name": "Python 3 (ipykernel)",
   "language": "python",
   "name": "python3"
  },
  "language_info": {
   "codemirror_mode": {
    "name": "ipython",
    "version": 3
   },
   "file_extension": ".py",
   "mimetype": "text/x-python",
   "name": "python",
   "nbconvert_exporter": "python",
   "pygments_lexer": "ipython3",
   "version": "3.11.6"
  }
 },
 "nbformat": 4,
 "nbformat_minor": 4
}
